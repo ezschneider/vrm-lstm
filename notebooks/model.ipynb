{
 "cells": [
  {
   "cell_type": "code",
   "execution_count": 1,
   "metadata": {},
   "outputs": [],
   "source": [
    "import pandas as pd\n",
    "import numpy as np"
   ]
  },
  {
   "cell_type": "code",
   "execution_count": 2,
   "metadata": {},
   "outputs": [],
   "source": [
    "df_raw: pd.DataFrame = pd.read_csv(\n",
    "    '../data/processed_data.csv',\n",
    "    parse_dates=[\"Time\"],\n",
    "    index_col=[0],\n",
    "    sep=';'\n",
    ")\n",
    "\n",
    "threshold = 1500\n",
    "df = df_raw[df_raw['Corrente motor'] > threshold]\n",
    "\n",
    "# Drop all rows with NaN values\n",
    "df = df.dropna().copy()"
   ]
  },
  {
   "cell_type": "code",
   "execution_count": 3,
   "metadata": {},
   "outputs": [],
   "source": [
    "def create_vibration_windows(df, feature_column='feature', window_size=30, threshold=1.5):\n",
    "    # Step 1: Identify indices where the feature column value is greater than the threshold\n",
    "    end_indices = np.where(df[feature_column] > threshold)[0]\n",
    "\n",
    "    # Step 2: Create windows of the specified size ending at these indices\n",
    "    windows = []\n",
    "    used_indices = set()\n",
    "\n",
    "    for idx in end_indices:\n",
    "        start_idx = idx - (window_size - 1)  # Calculate the start of the window\n",
    "        if start_idx < 0:\n",
    "            continue  # Skip windows that start before the beginning of the DataFrame\n",
    "\n",
    "        # Check if the window overlaps with any already used indices\n",
    "        if any(i in used_indices for i in range(start_idx, idx + 1)):\n",
    "            continue  # Skip overlapping windows\n",
    "\n",
    "        # Add the window to the list of windows\n",
    "        windows.append(df.iloc[start_idx:idx + 1])\n",
    "\n",
    "        # Mark the indices as used\n",
    "        used_indices.update(range(start_idx, idx + 1))\n",
    "\n",
    "    return windows\n",
    "\n",
    "def create_non_vibration_windows(df, critical_windows, feature_column='feature', threshold=1.5):\n",
    "    # Criar janelas não críticas (exemplo: janelas aleatórias abaixo do threshold)\n",
    "    non_critical_windows = []\n",
    "    for _ in range(len(critical_windows)):  # Criar o mesmo número de janelas não críticas\n",
    "        start_idx = np.random.randint(0, len(df) - 30)  # Escolher um índice aleatório\n",
    "        window = df.iloc[start_idx:start_idx + 30]\n",
    "        if window[feature_column].max() <= threshold:  # Garantir que a janela não é crítica\n",
    "            non_critical_windows.append(window)\n",
    "\n",
    "    return non_critical_windows\n",
    "\n",
    "def remove_problematic_columns(df):\n",
    "    # Lista para armazenar colunas a serem removidas\n",
    "    columns_to_drop = []\n",
    "\n",
    "    # Verifica cada coluna no DataFrame\n",
    "    for col in df.columns:\n",
    "        # Verifica se a coluna contém tipos de dados não numéricos\n",
    "        if df[col].dtype == 'object':\n",
    "            print(f\"Coluna '{col}' removida: contém tipo de dados 'object'.\")\n",
    "            columns_to_drop.append(col)\n",
    "            continue\n",
    "\n",
    "        # Verifica se a coluna contém valores não numéricos (NaN, infinito, etc.)\n",
    "        if not np.isfinite(df[col]).all():\n",
    "            print(f\"Coluna '{col}' removida: contém valores não numéricos (NaN ou infinito).\")\n",
    "            columns_to_drop.append(col)\n",
    "\n",
    "    # Remove as colunas problemáticas\n",
    "    df_cleaned = df.drop(columns=columns_to_drop)\n",
    "\n",
    "    return df_cleaned"
   ]
  },
  {
   "cell_type": "code",
   "execution_count": 4,
   "metadata": {},
   "outputs": [
    {
     "name": "stdout",
     "output_type": "stream",
     "text": [
      "Coluna 'Unnamed: 58' removida: contém tipo de dados 'object'.\n"
     ]
    }
   ],
   "source": [
    "df = remove_problematic_columns(df)\n",
    "\n",
    "critical_windows = create_vibration_windows(df)\n",
    "non_critical_windows = create_non_vibration_windows(df, critical_windows)\n",
    "\n",
    "# Rotular as janelas\n",
    "critical_labels = [1] * len(critical_windows)  # 1 para críticas\n",
    "non_critical_labels = [0] * len(non_critical_windows)  # 0 para não críticas\n",
    "\n",
    "# Combinar janelas e rótulos\n",
    "windows = critical_windows + non_critical_windows\n",
    "labels = critical_labels + non_critical_labels\n",
    "\n",
    "# Converter janelas para numpy array (formato adequado para modelos)\n",
    "X = np.array([window.values for window in windows])  # Usar todas as colunas da janela\n",
    "y = np.array(labels)"
   ]
  },
  {
   "cell_type": "code",
   "execution_count": 5,
   "metadata": {},
   "outputs": [],
   "source": [
    "from sklearn.model_selection import train_test_split\n",
    "\n",
    "# Dividir os dados em treino e teste\n",
    "X_train, X_test, y_train, y_test = train_test_split(X, y, test_size=0.2, random_state=42)"
   ]
  },
  {
   "cell_type": "code",
   "execution_count": 6,
   "metadata": {},
   "outputs": [
    {
     "data": {
      "text/plain": [
       "(2052, 30, 69)"
      ]
     },
     "execution_count": 6,
     "metadata": {},
     "output_type": "execute_result"
    }
   ],
   "source": [
    "X_train.shape"
   ]
  },
  {
   "cell_type": "code",
   "execution_count": 7,
   "metadata": {},
   "outputs": [
    {
     "name": "stderr",
     "output_type": "stream",
     "text": [
      "2025-03-06 16:58:20.851180: I tensorflow/core/util/port.cc:153] oneDNN custom operations are on. You may see slightly different numerical results due to floating-point round-off errors from different computation orders. To turn them off, set the environment variable `TF_ENABLE_ONEDNN_OPTS=0`.\n",
      "2025-03-06 16:58:20.851632: I external/local_xla/xla/tsl/cuda/cudart_stub.cc:32] Could not find cuda drivers on your machine, GPU will not be used.\n",
      "2025-03-06 16:58:20.853673: I external/local_xla/xla/tsl/cuda/cudart_stub.cc:32] Could not find cuda drivers on your machine, GPU will not be used.\n",
      "2025-03-06 16:58:20.858312: E external/local_xla/xla/stream_executor/cuda/cuda_fft.cc:477] Unable to register cuFFT factory: Attempting to register factory for plugin cuFFT when one has already been registered\n",
      "WARNING: All log messages before absl::InitializeLog() is called are written to STDERR\n",
      "E0000 00:00:1741280300.865889    3596 cuda_dnn.cc:8310] Unable to register cuDNN factory: Attempting to register factory for plugin cuDNN when one has already been registered\n",
      "E0000 00:00:1741280300.868370    3596 cuda_blas.cc:1418] Unable to register cuBLAS factory: Attempting to register factory for plugin cuBLAS when one has already been registered\n",
      "2025-03-06 16:58:20.877944: I tensorflow/core/platform/cpu_feature_guard.cc:210] This TensorFlow binary is optimized to use available CPU instructions in performance-critical operations.\n",
      "To enable the following instructions: AVX2 AVX512F AVX512_VNNI AVX512_BF16 FMA, in other operations, rebuild TensorFlow with the appropriate compiler flags.\n"
     ]
    },
    {
     "name": "stdout",
     "output_type": "stream",
     "text": [
      "Epoch 1/50\n"
     ]
    },
    {
     "name": "stderr",
     "output_type": "stream",
     "text": [
      "2025-03-06 16:58:21.887089: E external/local_xla/xla/stream_executor/cuda/cuda_driver.cc:152] failed call to cuInit: INTERNAL: CUDA error: Failed call to cuInit: UNKNOWN ERROR (303)\n",
      "/usr/local/lib/python3.9/site-packages/keras/src/layers/rnn/rnn.py:200: UserWarning: Do not pass an `input_shape`/`input_dim` argument to a layer. When using Sequential models, prefer using an `Input(shape)` object as the first layer in the model instead.\n",
      "  super().__init__(**kwargs)\n"
     ]
    },
    {
     "name": "stdout",
     "output_type": "stream",
     "text": [
      "\u001b[1m52/52\u001b[0m \u001b[32m━━━━━━━━━━━━━━━━━━━━\u001b[0m\u001b[37m\u001b[0m \u001b[1m1s\u001b[0m 8ms/step - accuracy: 0.5256 - loss: 0.7108 - val_accuracy: 0.6131 - val_loss: 0.6676\n",
      "Epoch 2/50\n",
      "\u001b[1m52/52\u001b[0m \u001b[32m━━━━━━━━━━━━━━━━━━━━\u001b[0m\u001b[37m\u001b[0m \u001b[1m0s\u001b[0m 6ms/step - accuracy: 0.6169 - loss: 0.6665 - val_accuracy: 0.6131 - val_loss: 0.6642\n",
      "Epoch 3/50\n",
      "\u001b[1m52/52\u001b[0m \u001b[32m━━━━━━━━━━━━━━━━━━━━\u001b[0m\u001b[37m\u001b[0m \u001b[1m0s\u001b[0m 5ms/step - accuracy: 0.6252 - loss: 0.6596 - val_accuracy: 0.6131 - val_loss: 0.6671\n",
      "Epoch 4/50\n",
      "\u001b[1m52/52\u001b[0m \u001b[32m━━━━━━━━━━━━━━━━━━━━\u001b[0m\u001b[37m\u001b[0m \u001b[1m0s\u001b[0m 5ms/step - accuracy: 0.6291 - loss: 0.6602 - val_accuracy: 0.6131 - val_loss: 0.6644\n",
      "Epoch 5/50\n",
      "\u001b[1m52/52\u001b[0m \u001b[32m━━━━━━━━━━━━━━━━━━━━\u001b[0m\u001b[37m\u001b[0m \u001b[1m0s\u001b[0m 5ms/step - accuracy: 0.6420 - loss: 0.6525 - val_accuracy: 0.6131 - val_loss: 0.6612\n",
      "Epoch 6/50\n",
      "\u001b[1m52/52\u001b[0m \u001b[32m━━━━━━━━━━━━━━━━━━━━\u001b[0m\u001b[37m\u001b[0m \u001b[1m0s\u001b[0m 6ms/step - accuracy: 0.6350 - loss: 0.6565 - val_accuracy: 0.6131 - val_loss: 0.6615\n",
      "Epoch 7/50\n",
      "\u001b[1m52/52\u001b[0m \u001b[32m━━━━━━━━━━━━━━━━━━━━\u001b[0m\u001b[37m\u001b[0m \u001b[1m0s\u001b[0m 5ms/step - accuracy: 0.6095 - loss: 0.6618 - val_accuracy: 0.6131 - val_loss: 0.6651\n",
      "Epoch 8/50\n",
      "\u001b[1m52/52\u001b[0m \u001b[32m━━━━━━━━━━━━━━━━━━━━\u001b[0m\u001b[37m\u001b[0m \u001b[1m0s\u001b[0m 5ms/step - accuracy: 0.6412 - loss: 0.6565 - val_accuracy: 0.6131 - val_loss: 0.6633\n",
      "Epoch 9/50\n",
      "\u001b[1m52/52\u001b[0m \u001b[32m━━━━━━━━━━━━━━━━━━━━\u001b[0m\u001b[37m\u001b[0m \u001b[1m0s\u001b[0m 6ms/step - accuracy: 0.6496 - loss: 0.6478 - val_accuracy: 0.6131 - val_loss: 0.6630\n",
      "Epoch 10/50\n",
      "\u001b[1m52/52\u001b[0m \u001b[32m━━━━━━━━━━━━━━━━━━━━\u001b[0m\u001b[37m\u001b[0m \u001b[1m0s\u001b[0m 5ms/step - accuracy: 0.6377 - loss: 0.6526 - val_accuracy: 0.6131 - val_loss: 0.6651\n",
      "Epoch 11/50\n",
      "\u001b[1m52/52\u001b[0m \u001b[32m━━━━━━━━━━━━━━━━━━━━\u001b[0m\u001b[37m\u001b[0m \u001b[1m0s\u001b[0m 5ms/step - accuracy: 0.6611 - loss: 0.6418 - val_accuracy: 0.6131 - val_loss: 0.6629\n",
      "Epoch 12/50\n",
      "\u001b[1m52/52\u001b[0m \u001b[32m━━━━━━━━━━━━━━━━━━━━\u001b[0m\u001b[37m\u001b[0m \u001b[1m0s\u001b[0m 6ms/step - accuracy: 0.6447 - loss: 0.6483 - val_accuracy: 0.6131 - val_loss: 0.6650\n",
      "Epoch 13/50\n",
      "\u001b[1m52/52\u001b[0m \u001b[32m━━━━━━━━━━━━━━━━━━━━\u001b[0m\u001b[37m\u001b[0m \u001b[1m0s\u001b[0m 6ms/step - accuracy: 0.6229 - loss: 0.6589 - val_accuracy: 0.6131 - val_loss: 0.6748\n",
      "Epoch 14/50\n",
      "\u001b[1m52/52\u001b[0m \u001b[32m━━━━━━━━━━━━━━━━━━━━\u001b[0m\u001b[37m\u001b[0m \u001b[1m0s\u001b[0m 5ms/step - accuracy: 0.6032 - loss: 0.6760 - val_accuracy: 0.6131 - val_loss: 0.6692\n",
      "Epoch 15/50\n",
      "\u001b[1m52/52\u001b[0m \u001b[32m━━━━━━━━━━━━━━━━━━━━\u001b[0m\u001b[37m\u001b[0m \u001b[1m0s\u001b[0m 5ms/step - accuracy: 0.6278 - loss: 0.6636 - val_accuracy: 0.6131 - val_loss: 0.6638\n",
      "Epoch 16/50\n",
      "\u001b[1m52/52\u001b[0m \u001b[32m━━━━━━━━━━━━━━━━━━━━\u001b[0m\u001b[37m\u001b[0m \u001b[1m0s\u001b[0m 6ms/step - accuracy: 0.6429 - loss: 0.6488 - val_accuracy: 0.6131 - val_loss: 0.6653\n",
      "Epoch 17/50\n",
      "\u001b[1m52/52\u001b[0m \u001b[32m━━━━━━━━━━━━━━━━━━━━\u001b[0m\u001b[37m\u001b[0m \u001b[1m0s\u001b[0m 5ms/step - accuracy: 0.6443 - loss: 0.6473 - val_accuracy: 0.6131 - val_loss: 0.6626\n",
      "Epoch 18/50\n",
      "\u001b[1m52/52\u001b[0m \u001b[32m━━━━━━━━━━━━━━━━━━━━\u001b[0m\u001b[37m\u001b[0m \u001b[1m0s\u001b[0m 5ms/step - accuracy: 0.6430 - loss: 0.6494 - val_accuracy: 0.6131 - val_loss: 0.6635\n",
      "Epoch 19/50\n",
      "\u001b[1m52/52\u001b[0m \u001b[32m━━━━━━━━━━━━━━━━━━━━\u001b[0m\u001b[37m\u001b[0m \u001b[1m0s\u001b[0m 6ms/step - accuracy: 0.6305 - loss: 0.6546 - val_accuracy: 0.6131 - val_loss: 0.6659\n",
      "Epoch 20/50\n",
      "\u001b[1m52/52\u001b[0m \u001b[32m━━━━━━━━━━━━━━━━━━━━\u001b[0m\u001b[37m\u001b[0m \u001b[1m0s\u001b[0m 6ms/step - accuracy: 0.6360 - loss: 0.6531 - val_accuracy: 0.6131 - val_loss: 0.6632\n",
      "Epoch 21/50\n",
      "\u001b[1m52/52\u001b[0m \u001b[32m━━━━━━━━━━━━━━━━━━━━\u001b[0m\u001b[37m\u001b[0m \u001b[1m0s\u001b[0m 5ms/step - accuracy: 0.6385 - loss: 0.6544 - val_accuracy: 0.6131 - val_loss: 0.6650\n",
      "Epoch 22/50\n",
      "\u001b[1m52/52\u001b[0m \u001b[32m━━━━━━━━━━━━━━━━━━━━\u001b[0m\u001b[37m\u001b[0m \u001b[1m0s\u001b[0m 5ms/step - accuracy: 0.6270 - loss: 0.6532 - val_accuracy: 0.6131 - val_loss: 0.6640\n",
      "Epoch 23/50\n",
      "\u001b[1m52/52\u001b[0m \u001b[32m━━━━━━━━━━━━━━━━━━━━\u001b[0m\u001b[37m\u001b[0m \u001b[1m0s\u001b[0m 6ms/step - accuracy: 0.6433 - loss: 0.6482 - val_accuracy: 0.6131 - val_loss: 0.6635\n",
      "Epoch 24/50\n",
      "\u001b[1m52/52\u001b[0m \u001b[32m━━━━━━━━━━━━━━━━━━━━\u001b[0m\u001b[37m\u001b[0m \u001b[1m0s\u001b[0m 6ms/step - accuracy: 0.6476 - loss: 0.6477 - val_accuracy: 0.6131 - val_loss: 0.6633\n",
      "Epoch 25/50\n",
      "\u001b[1m52/52\u001b[0m \u001b[32m━━━━━━━━━━━━━━━━━━━━\u001b[0m\u001b[37m\u001b[0m \u001b[1m0s\u001b[0m 6ms/step - accuracy: 0.6560 - loss: 0.6398 - val_accuracy: 0.6131 - val_loss: 0.6648\n",
      "Epoch 26/50\n",
      "\u001b[1m52/52\u001b[0m \u001b[32m━━━━━━━━━━━━━━━━━━━━\u001b[0m\u001b[37m\u001b[0m \u001b[1m0s\u001b[0m 5ms/step - accuracy: 0.6386 - loss: 0.6486 - val_accuracy: 0.6131 - val_loss: 0.6639\n",
      "Epoch 27/50\n",
      "\u001b[1m52/52\u001b[0m \u001b[32m━━━━━━━━━━━━━━━━━━━━\u001b[0m\u001b[37m\u001b[0m \u001b[1m0s\u001b[0m 5ms/step - accuracy: 0.6525 - loss: 0.6400 - val_accuracy: 0.6131 - val_loss: 0.6652\n",
      "Epoch 28/50\n",
      "\u001b[1m52/52\u001b[0m \u001b[32m━━━━━━━━━━━━━━━━━━━━\u001b[0m\u001b[37m\u001b[0m \u001b[1m0s\u001b[0m 6ms/step - accuracy: 0.6480 - loss: 0.6437 - val_accuracy: 0.6131 - val_loss: 0.6633\n",
      "Epoch 29/50\n",
      "\u001b[1m52/52\u001b[0m \u001b[32m━━━━━━━━━━━━━━━━━━━━\u001b[0m\u001b[37m\u001b[0m \u001b[1m0s\u001b[0m 5ms/step - accuracy: 0.6425 - loss: 0.6460 - val_accuracy: 0.6131 - val_loss: 0.6640\n",
      "Epoch 30/50\n",
      "\u001b[1m52/52\u001b[0m \u001b[32m━━━━━━━━━━━━━━━━━━━━\u001b[0m\u001b[37m\u001b[0m \u001b[1m0s\u001b[0m 5ms/step - accuracy: 0.6343 - loss: 0.6496 - val_accuracy: 0.6131 - val_loss: 0.6648\n",
      "Epoch 31/50\n",
      "\u001b[1m52/52\u001b[0m \u001b[32m━━━━━━━━━━━━━━━━━━━━\u001b[0m\u001b[37m\u001b[0m \u001b[1m0s\u001b[0m 6ms/step - accuracy: 0.6482 - loss: 0.6469 - val_accuracy: 0.6107 - val_loss: 0.6639\n",
      "Epoch 32/50\n",
      "\u001b[1m52/52\u001b[0m \u001b[32m━━━━━━━━━━━━━━━━━━━━\u001b[0m\u001b[37m\u001b[0m \u001b[1m0s\u001b[0m 5ms/step - accuracy: 0.6351 - loss: 0.6532 - val_accuracy: 0.6131 - val_loss: 0.6660\n",
      "Epoch 33/50\n",
      "\u001b[1m52/52\u001b[0m \u001b[32m━━━━━━━━━━━━━━━━━━━━\u001b[0m\u001b[37m\u001b[0m \u001b[1m0s\u001b[0m 6ms/step - accuracy: 0.6467 - loss: 0.6412 - val_accuracy: 0.6131 - val_loss: 0.6647\n",
      "Epoch 34/50\n",
      "\u001b[1m52/52\u001b[0m \u001b[32m━━━━━━━━━━━━━━━━━━━━\u001b[0m\u001b[37m\u001b[0m \u001b[1m0s\u001b[0m 5ms/step - accuracy: 0.6219 - loss: 0.6564 - val_accuracy: 0.6131 - val_loss: 0.6710\n",
      "Epoch 35/50\n",
      "\u001b[1m52/52\u001b[0m \u001b[32m━━━━━━━━━━━━━━━━━━━━\u001b[0m\u001b[37m\u001b[0m \u001b[1m0s\u001b[0m 6ms/step - accuracy: 0.6213 - loss: 0.6631 - val_accuracy: 0.6131 - val_loss: 0.6682\n",
      "Epoch 36/50\n",
      "\u001b[1m52/52\u001b[0m \u001b[32m━━━━━━━━━━━━━━━━━━━━\u001b[0m\u001b[37m\u001b[0m \u001b[1m0s\u001b[0m 5ms/step - accuracy: 0.6597 - loss: 0.6383 - val_accuracy: 0.6107 - val_loss: 0.6655\n",
      "Epoch 37/50\n",
      "\u001b[1m52/52\u001b[0m \u001b[32m━━━━━━━━━━━━━━━━━━━━\u001b[0m\u001b[37m\u001b[0m \u001b[1m0s\u001b[0m 6ms/step - accuracy: 0.6177 - loss: 0.6583 - val_accuracy: 0.6131 - val_loss: 0.6647\n",
      "Epoch 38/50\n",
      "\u001b[1m52/52\u001b[0m \u001b[32m━━━━━━━━━━━━━━━━━━━━\u001b[0m\u001b[37m\u001b[0m \u001b[1m0s\u001b[0m 5ms/step - accuracy: 0.6374 - loss: 0.6504 - val_accuracy: 0.6131 - val_loss: 0.6632\n",
      "Epoch 39/50\n",
      "\u001b[1m52/52\u001b[0m \u001b[32m━━━━━━━━━━━━━━━━━━━━\u001b[0m\u001b[37m\u001b[0m \u001b[1m0s\u001b[0m 6ms/step - accuracy: 0.6405 - loss: 0.6575 - val_accuracy: 0.6131 - val_loss: 0.6628\n",
      "Epoch 40/50\n",
      "\u001b[1m52/52\u001b[0m \u001b[32m━━━━━━━━━━━━━━━━━━━━\u001b[0m\u001b[37m\u001b[0m \u001b[1m0s\u001b[0m 5ms/step - accuracy: 0.6197 - loss: 0.6612 - val_accuracy: 0.6131 - val_loss: 0.6633\n",
      "Epoch 41/50\n",
      "\u001b[1m52/52\u001b[0m \u001b[32m━━━━━━━━━━━━━━━━━━━━\u001b[0m\u001b[37m\u001b[0m \u001b[1m0s\u001b[0m 5ms/step - accuracy: 0.6351 - loss: 0.6475 - val_accuracy: 0.6131 - val_loss: 0.6644\n",
      "Epoch 42/50\n",
      "\u001b[1m52/52\u001b[0m \u001b[32m━━━━━━━━━━━━━━━━━━━━\u001b[0m\u001b[37m\u001b[0m \u001b[1m0s\u001b[0m 5ms/step - accuracy: 0.6552 - loss: 0.6422 - val_accuracy: 0.6131 - val_loss: 0.6631\n",
      "Epoch 43/50\n",
      "\u001b[1m52/52\u001b[0m \u001b[32m━━━━━━━━━━━━━━━━━━━━\u001b[0m\u001b[37m\u001b[0m \u001b[1m0s\u001b[0m 5ms/step - accuracy: 0.6512 - loss: 0.6470 - val_accuracy: 0.6131 - val_loss: 0.6630\n",
      "Epoch 44/50\n",
      "\u001b[1m52/52\u001b[0m \u001b[32m━━━━━━━━━━━━━━━━━━━━\u001b[0m\u001b[37m\u001b[0m \u001b[1m0s\u001b[0m 5ms/step - accuracy: 0.6400 - loss: 0.6526 - val_accuracy: 0.6131 - val_loss: 0.6638\n",
      "Epoch 45/50\n",
      "\u001b[1m52/52\u001b[0m \u001b[32m━━━━━━━━━━━━━━━━━━━━\u001b[0m\u001b[37m\u001b[0m \u001b[1m0s\u001b[0m 5ms/step - accuracy: 0.6338 - loss: 0.6540 - val_accuracy: 0.6131 - val_loss: 0.6655\n",
      "Epoch 46/50\n",
      "\u001b[1m52/52\u001b[0m \u001b[32m━━━━━━━━━━━━━━━━━━━━\u001b[0m\u001b[37m\u001b[0m \u001b[1m0s\u001b[0m 6ms/step - accuracy: 0.6275 - loss: 0.6581 - val_accuracy: 0.6131 - val_loss: 0.6633\n",
      "Epoch 47/50\n",
      "\u001b[1m52/52\u001b[0m \u001b[32m━━━━━━━━━━━━━━━━━━━━\u001b[0m\u001b[37m\u001b[0m \u001b[1m0s\u001b[0m 6ms/step - accuracy: 0.6204 - loss: 0.6606 - val_accuracy: 0.6131 - val_loss: 0.6664\n",
      "Epoch 48/50\n",
      "\u001b[1m52/52\u001b[0m \u001b[32m━━━━━━━━━━━━━━━━━━━━\u001b[0m\u001b[37m\u001b[0m \u001b[1m0s\u001b[0m 5ms/step - accuracy: 0.6533 - loss: 0.6409 - val_accuracy: 0.6131 - val_loss: 0.6641\n",
      "Epoch 49/50\n",
      "\u001b[1m52/52\u001b[0m \u001b[32m━━━━━━━━━━━━━━━━━━━━\u001b[0m\u001b[37m\u001b[0m \u001b[1m0s\u001b[0m 6ms/step - accuracy: 0.6334 - loss: 0.6563 - val_accuracy: 0.6131 - val_loss: 0.6660\n",
      "Epoch 50/50\n",
      "\u001b[1m52/52\u001b[0m \u001b[32m━━━━━━━━━━━━━━━━━━━━\u001b[0m\u001b[37m\u001b[0m \u001b[1m0s\u001b[0m 5ms/step - accuracy: 0.6470 - loss: 0.6417 - val_accuracy: 0.6131 - val_loss: 0.6637\n",
      "\u001b[1m17/17\u001b[0m \u001b[32m━━━━━━━━━━━━━━━━━━━━\u001b[0m\u001b[37m\u001b[0m \u001b[1m0s\u001b[0m 2ms/step - accuracy: 0.6311 - loss: 0.6552 \n",
      "Acurácia: 0.63\n"
     ]
    }
   ],
   "source": [
    "from tensorflow.keras.models import Sequential\n",
    "from tensorflow.keras.layers import LSTM, Dense, Dropout\n",
    "\n",
    "# Construir o modelo\n",
    "model = Sequential([\n",
    "    LSTM(64, input_shape=(X_train.shape[1], X_train.shape[2])),  # (timesteps, n_features)\n",
    "    Dropout(0.2),\n",
    "    Dense(32, activation='relu'),\n",
    "    Dense(1, activation='sigmoid')  # Saída binária (crítica ou não crítica)\n",
    "])\n",
    "\n",
    "# Compilar o modelo\n",
    "model.compile(optimizer='adam', loss='binary_crossentropy', metrics=['accuracy'])\n",
    "\n",
    "# Treinar o modelo\n",
    "history = model.fit(X_train, y_train, epochs=50, batch_size=32, validation_split=0.2)\n",
    "\n",
    "# Avaliar o modelo\n",
    "loss, accuracy = model.evaluate(X_test, y_test)\n",
    "print(f\"Acurácia: {accuracy:.2f}\")"
   ]
  },
  {
   "cell_type": "code",
   "execution_count": null,
   "metadata": {},
   "outputs": [],
   "source": []
  }
 ],
 "metadata": {
  "kernelspec": {
   "display_name": "Python 3 (ipykernel)",
   "language": "python",
   "name": "python3"
  },
  "language_info": {
   "codemirror_mode": {
    "name": "ipython",
    "version": 3
   },
   "file_extension": ".py",
   "mimetype": "text/x-python",
   "name": "python",
   "nbconvert_exporter": "python",
   "pygments_lexer": "ipython3",
   "version": "3.9.21"
  }
 },
 "nbformat": 4,
 "nbformat_minor": 4
}
