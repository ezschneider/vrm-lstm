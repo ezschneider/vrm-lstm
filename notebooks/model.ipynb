{
 "cells": [
  {
   "cell_type": "code",
   "execution_count": 1,
   "metadata": {},
   "outputs": [],
   "source": [
    "import pandas as pd\n",
    "import numpy as np"
   ]
  },
  {
   "cell_type": "code",
   "execution_count": null,
   "metadata": {},
   "outputs": [],
   "source": [
    "df_raw: pd.DataFrame = pd.read_csv(\n",
    "    'data/processed_data.csv',\n",
    "    parse_dates=[\"Time\"],\n",
    "    index_col=[0],\n",
    "    sep=';'\n",
    ")\n",
    "\n",
    "threshold = 1500\n",
    "df = df_raw[df_raw['Corrente motor'] > threshold]\n",
    "\n",
    "# Drop all rows with NaN values\n",
    "df = df.dropna().copy()"
   ]
  },
  {
   "cell_type": "code",
   "execution_count": null,
   "metadata": {},
   "outputs": [],
   "source": [
    "def create_vibration_windows(df, feature_column='feature', window_size=30, threshold=1.5):\n",
    "    # Step 1: Identify indices where the feature column value is greater than the threshold\n",
    "    end_indices = np.where(df[feature_column] > threshold)[0]\n",
    "\n",
    "    # Step 2: Create windows of the specified size ending at these indices\n",
    "    windows = []\n",
    "    used_indices = set()\n",
    "\n",
    "    for idx in end_indices:\n",
    "        start_idx = idx - (window_size - 1)  # Calculate the start of the window\n",
    "        if start_idx < 0:\n",
    "            continue  # Skip windows that start before the beginning of the DataFrame\n",
    "\n",
    "        # Check if the window overlaps with any already used indices\n",
    "        if any(i in used_indices for i in range(start_idx, idx + 1)):\n",
    "            continue  # Skip overlapping windows\n",
    "\n",
    "        # Add the window to the list of windows\n",
    "        windows.append(df.iloc[start_idx:idx + 1])\n",
    "\n",
    "        # Mark the indices as used\n",
    "        used_indices.update(range(start_idx, idx + 1))\n",
    "\n",
    "    return windows\n",
    "\n",
    "def create_non_vibration_windows(df, critical_windows, feature_column='feature', threshold=1.5):\n",
    "    # Criar janelas não críticas (exemplo: janelas aleatórias abaixo do threshold)\n",
    "    non_critical_windows = []\n",
    "    for _ in range(len(critical_windows)):  # Criar o mesmo número de janelas não críticas\n",
    "        start_idx = np.random.randint(0, len(df) - 30)  # Escolher um índice aleatório\n",
    "        window = df.iloc[start_idx:start_idx + 30]\n",
    "        if window[feature_column].max() <= threshold:  # Garantir que a janela não é crítica\n",
    "            non_critical_windows.append(window)\n",
    "\n",
    "    return non_critical_windows"
   ]
  },
  {
   "cell_type": "code",
   "execution_count": null,
   "metadata": {},
   "outputs": [],
   "source": [
    "critical_windows = create_vibration_windows(df)\n",
    "non_critical_windows = create_non_vibration_windows(df, critical_windows)\n",
    "\n",
    "# Rotular as janelas\n",
    "critical_labels = [1] * len(critical_windows)  # 1 para críticas\n",
    "non_critical_labels = [0] * len(non_critical_windows)  # 0 para não críticas\n",
    "\n",
    "# Combinar janelas e rótulos\n",
    "windows = critical_windows + non_critical_windows\n",
    "labels = critical_labels + non_critical_labels\n",
    "\n",
    "# Converter janelas para numpy array (formato adequado para modelos)\n",
    "X = np.array([window.values for window in windows])  # Usar todas as colunas da janela\n",
    "y = np.array(labels)"
   ]
  },
  {
   "cell_type": "code",
   "execution_count": null,
   "metadata": {},
   "outputs": [],
   "source": [
    "from sklearn.model_selection import train_test_split\n",
    "\n",
    "# Dividir os dados em treino e teste\n",
    "X_train, X_test, y_train, y_test = train_test_split(X, y, test_size=0.2, random_state=42)"
   ]
  },
  {
   "cell_type": "code",
   "execution_count": null,
   "metadata": {},
   "outputs": [],
   "source": [
    "from tensorflow.keras.models import Sequential\n",
    "from tensorflow.keras.layers import LSTM, Dense, Dropout\n",
    "\n",
    "# Construir o modelo\n",
    "model = Sequential([\n",
    "    LSTM(64, input_shape=(X_train.shape[1], X_train.shape[2])),  # (timesteps, n_features)\n",
    "    Dropout(0.2),\n",
    "    Dense(32, activation='relu'),\n",
    "    Dense(1, activation='sigmoid')  # Saída binária (crítica ou não crítica)\n",
    "])\n",
    "\n",
    "# Compilar o modelo\n",
    "model.compile(optimizer='adam', loss='binary_crossentropy', metrics=['accuracy'])\n",
    "\n",
    "# Treinar o modelo\n",
    "history = model.fit(X_train, y_train, epochs=50, batch_size=32, validation_split=0.2)\n",
    "\n",
    "# Avaliar o modelo\n",
    "loss, accuracy = model.evaluate(X_test, y_test)\n",
    "print(f\"Acurácia: {accuracy:.2f}\")"
   ]
  }
 ],
 "metadata": {
  "kernelspec": {
   "display_name": "vrm-lstm-XgRwfIx7-py3.13",
   "language": "python",
   "name": "python3"
  },
  "language_info": {
   "codemirror_mode": {
    "name": "ipython",
    "version": 3
   },
   "file_extension": ".py",
   "mimetype": "text/x-python",
   "name": "python",
   "nbconvert_exporter": "python",
   "pygments_lexer": "ipython3",
   "version": "3.13.1"
  }
 },
 "nbformat": 4,
 "nbformat_minor": 2
}
