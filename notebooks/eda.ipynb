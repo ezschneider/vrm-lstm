{
 "cells": [
  {
   "cell_type": "code",
   "execution_count": 6,
   "id": "54fe643e-c28d-4b30-9c6d-09e3711efefe",
   "metadata": {},
   "outputs": [],
   "source": [
    "import pandas as pd\n",
    "from scipy import stats\n",
    "import numpy as np\n",
    "\n",
    "from src.vizualization import VibrationPlots, interactive_outlier_plot\n",
    "from src.statistical import StatisticalAnalysis"
   ]
  },
  {
   "cell_type": "code",
   "execution_count": 13,
   "id": "9206aed3-e8f4-4d96-86cc-965ffd7be334",
   "metadata": {},
   "outputs": [],
   "source": [
    "df_raw: pd.DataFrame = pd.read_csv(\n",
    "    'data/processed_data.csv',\n",
    "    parse_dates=[\"Time\"],\n",
    "    index_col=[0],\n",
    "    sep=';'\n",
    ")\n",
    "\n",
    "# Drop rows where 'Vibration' column has NaN values\n",
    "df = df_raw.dropna(subset=['feature']).copy()\n",
    "\n",
    "threshold = 1500\n",
    "df_clean = df[df['Corrente motor'] > threshold]\n",
    "# drop all rows with NaN values\n",
    "df_clean = df_clean.dropna()\n",
    "\n",
    "# Add Z-score\n",
    "# df_clean['z_score'] = stats.zscore(df_clean['feature'])\n",
    "# df['z_score'] = stats.zscore(df['feature'])"
   ]
  },
  {
   "cell_type": "code",
   "execution_count": 15,
   "id": "e28378e3",
   "metadata": {},
   "outputs": [
    {
     "name": "stdout",
     "output_type": "stream",
     "text": [
      "Data length: 184600\n"
     ]
    }
   ],
   "source": [
    "length = len(df_clean)\n",
    "print(f\"Data length: {length}\")"
   ]
  },
  {
   "cell_type": "code",
   "execution_count": 17,
   "id": "ee6076df",
   "metadata": {},
   "outputs": [
    {
     "name": "stdout",
     "output_type": "stream",
     "text": [
      "12909\n",
      "6.992957746478873\n"
     ]
    }
   ],
   "source": [
    "# count the number of samples in column 'feature' that are greater than 2\n",
    "def count_outliers(df: pd.DataFrame, column: str):\n",
    "    return df[df[column] > 1.5].shape[0]\n",
    "\n",
    "print(count_outliers(df_clean, 'feature'))\n",
    "\n",
    "# percentage of outliers\n",
    "def percentage_outliers(df: pd.DataFrame, column: str):\n",
    "    return df[df[column] > 1.5].shape[0] / df.shape[0] * 100\n",
    "\n",
    "print(percentage_outliers(df_clean, 'feature'))"
   ]
  },
  {
   "cell_type": "code",
   "execution_count": 23,
   "id": "0c38d3dd",
   "metadata": {},
   "outputs": [
    {
     "data": {
      "text/plain": [
       "1499"
      ]
     },
     "execution_count": 23,
     "metadata": {},
     "output_type": "execute_result"
    }
   ],
   "source": [
    "def create_vibration_windows(df, feature_column='feature', window_size=30, threshold=1.5):\n",
    "    # Step 1: Identify indices where the feature column value is greater than the threshold\n",
    "    end_indices = np.where(df[feature_column] > threshold)[0]\n",
    "\n",
    "    # Step 2: Create windows of the specified size ending at these indices\n",
    "    windows = []\n",
    "    used_indices = set()\n",
    "\n",
    "    for idx in end_indices:\n",
    "        start_idx = idx - (window_size - 1)  # Calculate the start of the window\n",
    "        if start_idx < 0:\n",
    "            continue  # Skip windows that start before the beginning of the DataFrame\n",
    "\n",
    "        # Check if the window overlaps with any already used indices\n",
    "        if any(i in used_indices for i in range(start_idx, idx + 1)):\n",
    "            continue  # Skip overlapping windows\n",
    "\n",
    "        # Add the window to the list of windows\n",
    "        windows.append(df.iloc[start_idx:idx + 1])\n",
    "\n",
    "        # Mark the indices as used\n",
    "        used_indices.update(range(start_idx, idx + 1))\n",
    "\n",
    "    return windows\n",
    "\n",
    "vibration_windows = create_vibration_windows(df_clean)\n",
    "\n",
    "# Display the created windows\n",
    "len(vibration_windows)"
   ]
  },
  {
   "cell_type": "code",
   "execution_count": 26,
   "id": "f2701a89",
   "metadata": {},
   "outputs": [
    {
     "name": "stdout",
     "output_type": "stream",
     "text": [
      "44970\n"
     ]
    }
   ],
   "source": [
    "# Função para marcar janelas críticas no DataFrame original\n",
    "def mark_critical_windows(df, feature_column='feature', window_size=30, threshold=1.5):\n",
    "    \"\"\"\n",
    "    Marca as janelas críticas no DataFrame original com a label 1.\n",
    "\n",
    "    Parâmetros:\n",
    "    - df: DataFrame original com timestamp index.\n",
    "    - feature_column: Nome da coluna que representa os dados de vibração (padrão: 'feature').\n",
    "    - window_size: Tamanho da janela em amostras (padrão: 30).\n",
    "    - threshold: Valor limite para considerar o final da janela como crítico (padrão: 2).\n",
    "\n",
    "    Retorna:\n",
    "    - DataFrame original com uma nova coluna 'label' indicando as janelas críticas.\n",
    "    \"\"\"\n",
    "    # Inicializa a coluna 'label' com 0\n",
    "    df['label'] = 0\n",
    "\n",
    "    # Identifica os índices onde o valor da coluna 'feature' é maior que o threshold\n",
    "    end_positions = np.where(df[feature_column] > threshold)[0]\n",
    "\n",
    "    # Marca as janelas críticas\n",
    "    used_positions = set()\n",
    "    for pos in end_positions:\n",
    "        start_pos = pos - (window_size - 1)\n",
    "        if start_pos < 0:\n",
    "            continue  # Ignora janelas que começam antes do início do DataFrame\n",
    "        if any(p in used_positions for p in range(start_pos, pos + 1)):\n",
    "            continue  # Evita sobreposição de janelas\n",
    "\n",
    "        # Marca todas as amostras da janela como críticas (label = 1)\n",
    "        df.loc[df.index[start_pos:pos + 1], 'label'] = 1\n",
    "\n",
    "        # Marca os índices como utilizados\n",
    "        used_positions.update(range(start_pos, pos + 1))\n",
    "\n",
    "    return df\n",
    "\n",
    "df_critical = mark_critical_windows(df_clean)\n",
    "# print number of rows with label 1\n",
    "print(df_critical[df_critical['label'] == 1].shape[0])\n",
    "\n",
    "# save df_critical to a new csv file\n",
    "df_critical.to_csv('data/processed_data_critical.csv', sep=';')"
   ]
  },
  {
   "cell_type": "code",
   "execution_count": 5,
   "id": "2fd6fc30",
   "metadata": {},
   "outputs": [
    {
     "ename": "ValueError",
     "evalue": "unit abbreviation w/o a number",
     "output_type": "error",
     "traceback": [
      "\u001b[0;31m---------------------------------------------------------------------------\u001b[0m",
      "\u001b[0;31mValueError\u001b[0m                                Traceback (most recent call last)",
      "Cell \u001b[0;32mIn[5], line 16\u001b[0m\n\u001b[1;32m     12\u001b[0m         sequential_flags\u001b[38;5;241m.\u001b[39mappend(is_sequential)\n\u001b[1;32m     14\u001b[0m     \u001b[38;5;28;01mreturn\u001b[39;00m sequential_flags\n\u001b[0;32m---> 16\u001b[0m sequential_flags \u001b[38;5;241m=\u001b[39m \u001b[43mcheck_sequential_windows\u001b[49m\u001b[43m(\u001b[49m\u001b[43mvibration_windows\u001b[49m\u001b[43m)\u001b[49m\n\u001b[1;32m     18\u001b[0m \u001b[38;5;28;01mfor\u001b[39;00m i, (window, is_sequential) \u001b[38;5;129;01min\u001b[39;00m \u001b[38;5;28menumerate\u001b[39m(\u001b[38;5;28mzip\u001b[39m(vibration_windows, sequential_flags)):\n\u001b[1;32m     19\u001b[0m         \u001b[38;5;28mprint\u001b[39m(\u001b[38;5;124mf\u001b[39m\u001b[38;5;124m\"\u001b[39m\u001b[38;5;124mJanela \u001b[39m\u001b[38;5;132;01m{\u001b[39;00mi\u001b[38;5;250m \u001b[39m\u001b[38;5;241m+\u001b[39m\u001b[38;5;250m \u001b[39m\u001b[38;5;241m1\u001b[39m\u001b[38;5;132;01m}\u001b[39;00m\u001b[38;5;124m:\u001b[39m\u001b[38;5;124m\"\u001b[39m)\n",
      "Cell \u001b[0;32mIn[5], line 9\u001b[0m, in \u001b[0;36mcheck_sequential_windows\u001b[0;34m(windows, freq)\u001b[0m\n\u001b[1;32m      6\u001b[0m time_diffs \u001b[38;5;241m=\u001b[39m window\u001b[38;5;241m.\u001b[39mindex\u001b[38;5;241m.\u001b[39mto_series()\u001b[38;5;241m.\u001b[39mdiff()\u001b[38;5;241m.\u001b[39mdropna()\n\u001b[1;32m      8\u001b[0m \u001b[38;5;66;03m# Verifica se todas as diferenças são iguais à frequência esperada\u001b[39;00m\n\u001b[0;32m----> 9\u001b[0m is_sequential \u001b[38;5;241m=\u001b[39m \u001b[38;5;28;43mall\u001b[39;49m\u001b[43m(\u001b[49m\u001b[43mdiff\u001b[49m\u001b[43m \u001b[49m\u001b[38;5;241;43m==\u001b[39;49m\u001b[43m \u001b[49m\u001b[43mpd\u001b[49m\u001b[38;5;241;43m.\u001b[39;49m\u001b[43mTimedelta\u001b[49m\u001b[43m(\u001b[49m\u001b[43mfreq\u001b[49m\u001b[43m)\u001b[49m\u001b[43m \u001b[49m\u001b[38;5;28;43;01mfor\u001b[39;49;00m\u001b[43m \u001b[49m\u001b[43mdiff\u001b[49m\u001b[43m \u001b[49m\u001b[38;5;129;43;01min\u001b[39;49;00m\u001b[43m \u001b[49m\u001b[43mtime_diffs\u001b[49m\u001b[43m)\u001b[49m\n\u001b[1;32m     11\u001b[0m \u001b[38;5;66;03m# Adiciona o resultado à lista de flags\u001b[39;00m\n\u001b[1;32m     12\u001b[0m sequential_flags\u001b[38;5;241m.\u001b[39mappend(is_sequential)\n",
      "Cell \u001b[0;32mIn[5], line 9\u001b[0m, in \u001b[0;36m<genexpr>\u001b[0;34m(.0)\u001b[0m\n\u001b[1;32m      6\u001b[0m time_diffs \u001b[38;5;241m=\u001b[39m window\u001b[38;5;241m.\u001b[39mindex\u001b[38;5;241m.\u001b[39mto_series()\u001b[38;5;241m.\u001b[39mdiff()\u001b[38;5;241m.\u001b[39mdropna()\n\u001b[1;32m      8\u001b[0m \u001b[38;5;66;03m# Verifica se todas as diferenças são iguais à frequência esperada\u001b[39;00m\n\u001b[0;32m----> 9\u001b[0m is_sequential \u001b[38;5;241m=\u001b[39m \u001b[38;5;28mall\u001b[39m(diff \u001b[38;5;241m==\u001b[39m \u001b[43mpd\u001b[49m\u001b[38;5;241;43m.\u001b[39;49m\u001b[43mTimedelta\u001b[49m\u001b[43m(\u001b[49m\u001b[43mfreq\u001b[49m\u001b[43m)\u001b[49m \u001b[38;5;28;01mfor\u001b[39;00m diff \u001b[38;5;129;01min\u001b[39;00m time_diffs)\n\u001b[1;32m     11\u001b[0m \u001b[38;5;66;03m# Adiciona o resultado à lista de flags\u001b[39;00m\n\u001b[1;32m     12\u001b[0m sequential_flags\u001b[38;5;241m.\u001b[39mappend(is_sequential)\n",
      "File \u001b[0;32mtimedeltas.pyx:1844\u001b[0m, in \u001b[0;36mpandas._libs.tslibs.timedeltas.Timedelta.__new__\u001b[0;34m()\u001b[0m\n",
      "File \u001b[0;32mtimedeltas.pyx:647\u001b[0m, in \u001b[0;36mpandas._libs.tslibs.timedeltas.parse_timedelta_string\u001b[0;34m()\u001b[0m\n",
      "\u001b[0;31mValueError\u001b[0m: unit abbreviation w/o a number"
     ]
    }
   ],
   "source": [
    "def check_sequential_windows(windows, freq='T'):\n",
    "    sequential_flags = []\n",
    "\n",
    "    for window in windows:\n",
    "        # Calcula a diferença entre os timestamps consecutivos\n",
    "        time_diffs = window.index.to_series().diff().dropna()\n",
    "\n",
    "        # Verifica se todas as diferenças são iguais à frequência esperada\n",
    "        is_sequential = all(diff == pd.Timedelta(freq) for diff in time_diffs)\n",
    "\n",
    "        # Adiciona o resultado à lista de flags\n",
    "        sequential_flags.append(is_sequential)\n",
    "\n",
    "    return sequential_flags\n",
    "\n",
    "sequential_flags = check_sequential_windows(vibration_windows)\n",
    "\n",
    "for i, (window, is_sequential) in enumerate(zip(vibration_windows, sequential_flags)):\n",
    "        print(f\"Janela {i + 1}:\")\n",
    "        # print(window)\n",
    "        print(f\"É sequencial? {is_sequential}\")\n",
    "        print(\"\\n\")"
   ]
  },
  {
   "cell_type": "code",
   "execution_count": null,
   "id": "7ef72d68-42d1-4b2a-8f57-3eb581869310",
   "metadata": {},
   "outputs": [],
   "source": [
    "df.head()"
   ]
  },
  {
   "cell_type": "code",
   "execution_count": null,
   "id": "0c3ec5eb",
   "metadata": {},
   "outputs": [],
   "source": [
    "# Verify null values\n",
    "df.isnull().sum()"
   ]
  },
  {
   "cell_type": "code",
   "execution_count": null,
   "id": "080b0efa",
   "metadata": {},
   "outputs": [],
   "source": [
    "plot_motor = VibrationPlots(df_clean, target='feature')\n",
    "plot_motor.general()\n",
    "plot_motor.hist_and_box()"
   ]
  },
  {
   "cell_type": "code",
   "execution_count": null,
   "id": "0ef6cabd-7337-44b9-a8a1-c8e095185920",
   "metadata": {},
   "outputs": [],
   "source": [
    "plot = VibrationPlots(df_clean, target='Corrente motor')\n",
    "plot.general()\n",
    "plot.hist_and_box()"
   ]
  },
  {
   "cell_type": "code",
   "execution_count": 15,
   "id": "31ec6f91",
   "metadata": {},
   "outputs": [],
   "source": [
    "# Count the number of outliers\n",
    "def count_outliers(df: pd.DataFrame):\n",
    "    return df[df['z_score'] > 3].shape[0]"
   ]
  },
  {
   "cell_type": "code",
   "execution_count": null,
   "id": "f6f7e18f",
   "metadata": {},
   "outputs": [],
   "source": [
    "plot.z_score()\n",
    "print(f'Número de outliers: {count_outliers(df)}')\n",
    "print(f'Número de amostras: {df.shape[0]}')\n",
    "print(f'Porcentagem de outliers: {count_outliers(df) / df.shape[0] * 100:.2f}%')"
   ]
  },
  {
   "cell_type": "code",
   "execution_count": null,
   "id": "c4d809cf",
   "metadata": {},
   "outputs": [],
   "source": [
    "interactive_outlier_plot(df, 'feature')"
   ]
  },
  {
   "cell_type": "markdown",
   "id": "08406c61",
   "metadata": {},
   "source": [
    "### **Análise Outliers**\n",
    "\n",
    "---\n",
    "\n",
    "#### **1. Z-Score**\n",
    "- A linha vermelha, que mostra o Z-score, apresenta vários picos acima e abaixo de **±3**, o que indica outliers significativos, porém alguns influenciados por momentos normais de processo, como paradas planejadas.\n",
    "- A porcentagem de outliers é de 3% do total de amostras presentes."
   ]
  },
  {
   "cell_type": "code",
   "execution_count": null,
   "id": "ef63e41a",
   "metadata": {},
   "outputs": [],
   "source": [
    "analysis = StatisticalAnalysis(df_clean, 'feature')\n",
    "analysis.perform_analysis()"
   ]
  },
  {
   "cell_type": "markdown",
   "id": "84d0c3fe",
   "metadata": {},
   "source": [
    "### **Análise Estatística dos Dados de Vibração**\n",
    "\n",
    "---\n",
    "\n",
    "#### **1. Estatísticas Descritivas**\n",
    "- **Contagem (count):** 194.557 observações, um número significativo de dados coletados minuto a minuto ao longo de 6 meses.\n",
    "- **Média (mean):** **1.1738**. A vibração média gira em torno desse valor.\n",
    "- **Desvio Padrão (std):** **0.2644**. A dispersão dos dados em torno da média é moderada.\n",
    "- **Mínimo (min):** **0.0**. Valores zerados podem indicar paradas ou falhas na medição.\n",
    "- **Percentis (25%, 50%, 75%):**\n",
    "   - **25%:** 1.0655  \n",
    "   - **Mediana (50%):** 1.1897  \n",
    "   - **75%:** 1.3207  \n",
    "   - A distribuição dos dados está **levemente concentrada acima de 1.0**, o que significa que a maior parte dos valores é relativamente próxima da média.\n",
    "- **Máximo (max):** **3.1553**. Existem valores extremos que representam picos de vibração.\n",
    "\n",
    "---\n",
    "\n",
    "#### **2. Coeficiente de Variação (CV):**\n",
    "- O CV é calculado como a razão entre o desvio padrão e a média:\n",
    "  \\[\n",
    "  CV = \\frac{\\text{Desvio Padrão}}{\\text{Média}} = 0.225\n",
    "  \\]\n",
    "- **Interpretação:**\n",
    "   - Um coeficiente de variação de **0.225 (22,5%)** indica uma **variabilidade moderada** nos dados em relação à média.\n",
    "   - Isso sugere que, apesar da presença de outliers e variações, os valores de vibração não têm dispersão extrema.\n",
    "\n",
    "---\n",
    "\n",
    "#### **3. Assimetria (Skewness):**\n",
    "- **Skewness = -1.60** (valor negativo):\n",
    "   - A distribuição é **negativamente assimétrica**, ou seja, a cauda esquerda da distribuição é mais longa.\n",
    "   - Isso indica que existem **valores mais baixos** de vibração (próximos a zero), possivelmente associados a:\n",
    "     - **Paradas do equipamento**.\n",
    "     - **Reduções temporárias** na operação.\n",
    "   - A concentração maior de valores está acima de **1.0**, com raros valores baixos (outliers para a esquerda).\n",
    "\n",
    "---\n",
    "\n",
    "#### **4. Curtose:**\n",
    "- **Curtose = 6.04**:\n",
    "   - A curtose indica que a distribuição é **leptocúrtica**, ou seja, possui **caudas longas e picos mais elevados** do que uma distribuição normal.\n",
    "   - Isso sugere a presença de **outliers**, tanto na parte inferior (valores próximos de 0) quanto superior (picos de vibração).\n",
    "\n",
    "---\n",
    "\n",
    "#### **5. Análise Geral**\n",
    "- A distribuição dos dados de vibração é **moderadamente concentrada**, com uma **média de 1.17** e **baixa dispersão** (CV de 22,5%).\n",
    "- **Assimetria negativa** e **alta curtose** sugerem:\n",
    "   - **Presença de valores zerados**, possivelmente indicando **falhas** ou **paradas** no sistema.\n",
    "   - Picos de vibração fora do padrão.\n",
    "- O comportamento geral sugere que, na maior parte do tempo, os valores de vibração oscilam próximos à média, mas há momentos específicos em que ocorrem **quedas abruptas ou aumentos extremos**.\n",
    "\n",
    "---\n",
    "\n",
    "#### **Conclusões**\n",
    "1. **Análise de Outliers:**\n",
    "   - Identificar os períodos onde os valores se aproximam de zero e correlacioná-los com registros operacionais.\n",
    "   - Analisar os valores máximos para entender possíveis **sobrecargas** ou condições críticas do equipamento.\n",
    "\n",
    "2. **Segmentação Temporal:**\n",
    "   - Dividir os dados por períodos (ex.: diários ou semanais) para entender o comportamento da sazonalidade mais claramente.\n",
    "   - Comparar horários e dias específicos para correlacionar com picos e quedas.\n",
    "\n",
    "3. **Modelagem Preditiva:**\n",
    "   - A alta curtose e a assimetria sugerem que modelos tradicionais (como regressão linear) podem não capturar bem esses padrões.\n",
    "   - Modelos como **LSTM**, SARIMA ou técnicas baseadas em **detectores de anomalia** (ex.: Isolation Forest) podem ser usados para prever vibrações e detectar comportamentos anormais.\n",
    "\n",
    "---\n"
   ]
  },
  {
   "cell_type": "code",
   "execution_count": null,
   "id": "10ee3d0b-4339-48c0-b094-fe0afd47bd3c",
   "metadata": {},
   "outputs": [],
   "source": [
    "plot.seasonal_decompose()"
   ]
  },
  {
   "cell_type": "markdown",
   "id": "ef5243e2",
   "metadata": {},
   "source": [
    "### **Análise da Decomposição Sazonal (Seasonal Decompose)**\n",
    "\n",
    "---\n",
    "\n",
    "#### **1. Gráfico Geral**\n",
    "O gráfico gerado pelo `seasonal_decompose` foi dividido em quatro componentes principais:\n",
    "\n",
    "1. **Série Original (feature):**\n",
    "   - Representa os valores brutos da série temporal de vibração, registrados **minuto a minuto** durante **8 meses**.\n",
    "   - A série apresenta uma grande quantidade de oscilações e ruído, mas com padrões visíveis de períodos de estabilidade e instabilidade.\n",
    "\n",
    "2. **Tendência (Trend):**\n",
    "   - A **tendência** captura o comportamento de longo prazo dos dados.\n",
    "   - Observações:\n",
    "     - Há um crescimento gradual na tendência até meados de 2023-11, seguido de períodos de estabilização.\n",
    "     - Pequenas quedas bruscas indicam **anomalias** ou **falhas temporárias**, possivelmente associadas a paradas ou intervenções no processo.\n",
    "     - O aumento recente sugere **picos de vibração recorrentes** no final da série, indicando uma possível mudança nas operações do equipamento.\n",
    "\n",
    "3. **Sazonalidade (Seasonal):**\n",
    "   - A **componente sazonal** evidencia **oscilações periódicas** nos dados, capturando padrões de curto prazo.\n",
    "   - Com um **período de 1440 minutos** (equivalente a 1 dia), observa-se:\n",
    "     - Um **padrão diário consistente**, onde os valores de vibração oscilam de forma **regular**.\n",
    "     - Algumas alterações no padrão sazonal ao longo do tempo podem indicar variações no comportamento diário do processo.\n",
    "\n",
    "4. **Resíduos (Residual):**\n",
    "   - Os **resíduos** representam os valores que **não foram explicados** pela tendência ou sazonalidade.\n",
    "   - Observações:\n",
    "     - A presença de **picos positivos e negativos** sugere **anomalias** ou ruídos nos dados.\n",
    "     - Resíduos mais acentuados podem estar associados a eventos **incomuns**, como falhas de equipamento, paradas inesperadas ou mudanças bruscas no processo.\n",
    "     - Em vários momentos, os resíduos mostram **clusters de pontos fora do padrão**, indicando que há variações não capturadas pelos componentes anteriores.\n",
    "\n",
    "---\n",
    "\n",
    "#### **2. Interpretação**\n",
    "A decomposição sazonal revelou os seguintes pontos-chave:\n",
    "1. **Tendência Ascendente com Oscilações:**\n",
    "   - A tendência geral dos dados sugere um **aumento gradativo** nos valores de vibração ao longo do tempo.\n",
    "   - Isso pode estar relacionado a mudanças no funcionamento do equipamento, desgaste ou alterações no processo operacional.\n",
    "\n",
    "2. **Sazonalidade Diária:**\n",
    "   - Os dados possuem um **comportamento cíclico diário** (período = 1440 minutos), o que indica padrões regulares de vibração ao longo do dia.\n",
    "   - Qualquer desvio significativo desse padrão sazonal pode ser **sinal de anomalias** ou **mudanças no processo**.\n",
    "\n",
    "3. **Resíduos e Anomalias:**\n",
    "   - Os resíduos exibem **variações significativas**, sugerindo que nem toda a variabilidade dos dados foi explicada pela decomposição.\n",
    "   - Eventos pontuais, como **picos de vibração ou quedas abruptas**, devem ser analisados com cuidado para entender suas causas.\n",
    "\n",
    "---\n"
   ]
  },
  {
   "cell_type": "code",
   "execution_count": null,
   "id": "5b2433b7",
   "metadata": {},
   "outputs": [],
   "source": [
    "plot.sma_ema()"
   ]
  },
  {
   "cell_type": "markdown",
   "id": "1b48a30f",
   "metadata": {},
   "source": [
    "#### **Principais Observações:**\n",
    "\n",
    "1. **Tendência Geral:**\n",
    "    A série original oscila em torno de uma média central próxima a 1.0.\n",
    "    Tanto a SMA quanto a EMA indicam uma tendência estável no longo prazo, com variações sutis.\n",
    "\n",
    "2. **Picos e Ruído:**\n",
    "    Existem picos bem altos (valores > 2.5) em momentos específicos, que podem ser considerados anomalias ou flutuações extremas.\n",
    "    Há também períodos com muitos valores baixos, sugerindo possíveis interrupções ou falhas no processo.\n",
    "\n",
    "3. **Diferença entre SMA e EMA:**\n",
    "    A EMA acompanha as oscilações da série original de forma mais próxima do que a SMA devido ao maior peso nos dados recentes.\n",
    "    A SMA apresenta uma suavização mais \"atrasada\" e estável, o que é esperado."
   ]
  },
  {
   "cell_type": "markdown",
   "id": "5befb0ed",
   "metadata": {},
   "source": []
  },
  {
   "cell_type": "code",
   "execution_count": null,
   "id": "0b0ee317",
   "metadata": {},
   "outputs": [],
   "source": [
    "plot.wavelet_transform()"
   ]
  },
  {
   "cell_type": "code",
   "execution_count": null,
   "id": "4cc2b24c",
   "metadata": {},
   "outputs": [],
   "source": []
  }
 ],
 "metadata": {
  "kernelspec": {
   "display_name": "vrm-lstm-XgRwfIx7-py3.13",
   "language": "python",
   "name": "python3"
  },
  "language_info": {
   "codemirror_mode": {
    "name": "ipython",
    "version": 3
   },
   "file_extension": ".py",
   "mimetype": "text/x-python",
   "name": "python",
   "nbconvert_exporter": "python",
   "pygments_lexer": "ipython3",
   "version": "3.13.1"
  }
 },
 "nbformat": 4,
 "nbformat_minor": 5
}
