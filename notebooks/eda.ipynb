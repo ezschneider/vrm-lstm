{
 "cells": [
  {
   "cell_type": "code",
   "execution_count": 1,
   "id": "54fe643e-c28d-4b30-9c6d-09e3711efefe",
   "metadata": {},
   "outputs": [],
   "source": [
    "import pandas as pd\n",
    "import numpy as np\n",
    "\n",
    "import statsmodels.api as sm\n",
    "from scipy import stats\n",
    "\n",
    "import ipywidgets\n",
    "\n",
    "from src.vizualization import VibrationPlots\n",
    "from src.statistical import StatisticalAnalysis"
   ]
  },
  {
   "cell_type": "code",
   "execution_count": 2,
   "id": "9206aed3-e8f4-4d96-86cc-965ffd7be334",
   "metadata": {},
   "outputs": [],
   "source": [
    "df_raw: pd.DataFrame = pd.read_csv(\n",
    "    'data/processed_data.csv',\n",
    "    parse_dates=[\"Time\"],\n",
    "    index_col=[0],\n",
    "    sep=';'\n",
    ")\n",
    "\n",
    "# Drop rows where 'Vibration' column has NaN values\n",
    "df = df_raw.dropna(subset=['feature']).copy()"
   ]
  },
  {
   "cell_type": "code",
   "execution_count": 3,
   "id": "37a15847-34b0-4b0c-9eb2-57ee2456e1dd",
   "metadata": {},
   "outputs": [],
   "source": [
    "# Z-score\n",
    "df['z_score'] = stats.zscore(df['feature'])\n",
    "df_outliers = df[df['z_score'].abs() > 3]"
   ]
  },
  {
   "cell_type": "code",
   "execution_count": null,
   "id": "7ef72d68-42d1-4b2a-8f57-3eb581869310",
   "metadata": {},
   "outputs": [],
   "source": [
    "df_outliers.head()"
   ]
  },
  {
   "cell_type": "code",
   "execution_count": null,
   "id": "0ef6cabd-7337-44b9-a8a1-c8e095185920",
   "metadata": {},
   "outputs": [],
   "source": [
    "plot = VibrationPlots(df, target='feature')\n",
    "plot.general()\n",
    "plot.hist_and_box()"
   ]
  },
  {
   "cell_type": "code",
   "execution_count": 6,
   "id": "31ec6f91",
   "metadata": {},
   "outputs": [],
   "source": [
    "# Count the number of outliers\n",
    "def count_outliers(df: pd.DataFrame):\n",
    "    return df[df['z_score'] > 3].shape[0]"
   ]
  },
  {
   "cell_type": "code",
   "execution_count": null,
   "id": "f6f7e18f",
   "metadata": {},
   "outputs": [],
   "source": [
    "plot.z_score()\n",
    "print(f'Número de outliers: {count_outliers(df_outliers)}')\n",
    "print(f'Número de amostras: {df_outliers.shape[0]}')\n",
    "print(f'Porcentagem de outliers: {count_outliers(df_outliers) / df_outliers.shape[0] * 100:.2f}%')"
   ]
  },
  {
   "cell_type": "markdown",
   "id": "08406c61",
   "metadata": {},
   "source": [
    "### **Análise Outliers**\n",
    "\n",
    "---\n",
    "\n",
    "#### **1. Z-Score**\n",
    "- A linha vermelha, que mostra o Z-score, apresenta vários picos acima e abaixo de **±3**, o que indica outliers significativos, porém alguns influenciados por momentos normais de processo, como paradas planejadas.\n",
    "- A porcentagem de outliers é de 3% do total de amostras presentes."
   ]
  },
  {
   "cell_type": "code",
   "execution_count": null,
   "id": "ef63e41a",
   "metadata": {},
   "outputs": [],
   "source": [
    "analysis = StatisticalAnalysis(df, 'feature')\n",
    "analysis.perform_analysis()"
   ]
  },
  {
   "cell_type": "markdown",
   "id": "84d0c3fe",
   "metadata": {},
   "source": [
    "### **Análise Estatística dos Dados de Vibração**\n",
    "\n",
    "---\n",
    "\n",
    "#### **1. Estatísticas Descritivas**\n",
    "- **Contagem (count):** 194.557 observações, um número significativo de dados coletados minuto a minuto ao longo de 6 meses.\n",
    "- **Média (mean):** **1.1738**. A vibração média gira em torno desse valor.\n",
    "- **Desvio Padrão (std):** **0.2644**. A dispersão dos dados em torno da média é moderada.\n",
    "- **Mínimo (min):** **0.0**. Valores zerados podem indicar paradas ou falhas na medição.\n",
    "- **Percentis (25%, 50%, 75%):**\n",
    "   - **25%:** 1.0655  \n",
    "   - **Mediana (50%):** 1.1897  \n",
    "   - **75%:** 1.3207  \n",
    "   - A distribuição dos dados está **levemente concentrada acima de 1.0**, o que significa que a maior parte dos valores é relativamente próxima da média.\n",
    "- **Máximo (max):** **3.1553**. Existem valores extremos que representam picos de vibração.\n",
    "\n",
    "---\n",
    "\n",
    "#### **2. Coeficiente de Variação (CV):**\n",
    "- O CV é calculado como a razão entre o desvio padrão e a média:\n",
    "  \\[\n",
    "  CV = \\frac{\\text{Desvio Padrão}}{\\text{Média}} = 0.225\n",
    "  \\]\n",
    "- **Interpretação:**\n",
    "   - Um coeficiente de variação de **0.225 (22,5%)** indica uma **variabilidade moderada** nos dados em relação à média.\n",
    "   - Isso sugere que, apesar da presença de outliers e variações, os valores de vibração não têm dispersão extrema.\n",
    "\n",
    "---\n",
    "\n",
    "#### **3. Assimetria (Skewness):**\n",
    "- **Skewness = -1.60** (valor negativo):\n",
    "   - A distribuição é **negativamente assimétrica**, ou seja, a cauda esquerda da distribuição é mais longa.\n",
    "   - Isso indica que existem **valores mais baixos** de vibração (próximos a zero), possivelmente associados a:\n",
    "     - **Paradas do equipamento**.\n",
    "     - **Reduções temporárias** na operação.\n",
    "   - A concentração maior de valores está acima de **1.0**, com raros valores baixos (outliers para a esquerda).\n",
    "\n",
    "---\n",
    "\n",
    "#### **4. Curtose:**\n",
    "- **Curtose = 6.04**:\n",
    "   - A curtose indica que a distribuição é **leptocúrtica**, ou seja, possui **caudas longas e picos mais elevados** do que uma distribuição normal.\n",
    "   - Isso sugere a presença de **outliers**, tanto na parte inferior (valores próximos de 0) quanto superior (picos de vibração).\n",
    "\n",
    "---\n",
    "\n",
    "#### **5. Análise Geral**\n",
    "- A distribuição dos dados de vibração é **moderadamente concentrada**, com uma **média de 1.17** e **baixa dispersão** (CV de 22,5%).\n",
    "- **Assimetria negativa** e **alta curtose** sugerem:\n",
    "   - **Presença de valores zerados**, possivelmente indicando **falhas** ou **paradas** no sistema.\n",
    "   - Picos de vibração fora do padrão.\n",
    "- O comportamento geral sugere que, na maior parte do tempo, os valores de vibração oscilam próximos à média, mas há momentos específicos em que ocorrem **quedas abruptas ou aumentos extremos**.\n",
    "\n",
    "---\n",
    "\n",
    "#### **Conclusões**\n",
    "1. **Análise de Outliers:**\n",
    "   - Identificar os períodos onde os valores se aproximam de zero e correlacioná-los com registros operacionais.\n",
    "   - Analisar os valores máximos para entender possíveis **sobrecargas** ou condições críticas do equipamento.\n",
    "\n",
    "2. **Segmentação Temporal:**\n",
    "   - Dividir os dados por períodos (ex.: diários ou semanais) para entender o comportamento da sazonalidade mais claramente.\n",
    "   - Comparar horários e dias específicos para correlacionar com picos e quedas.\n",
    "\n",
    "3. **Modelagem Preditiva:**\n",
    "   - A alta curtose e a assimetria sugerem que modelos tradicionais (como regressão linear) podem não capturar bem esses padrões.\n",
    "   - Modelos como **LSTM**, SARIMA ou técnicas baseadas em **detectores de anomalia** (ex.: Isolation Forest) podem ser usados para prever vibrações e detectar comportamentos anormais.\n",
    "\n",
    "---\n"
   ]
  },
  {
   "cell_type": "code",
   "execution_count": null,
   "id": "10ee3d0b-4339-48c0-b094-fe0afd47bd3c",
   "metadata": {},
   "outputs": [],
   "source": [
    "plot.seasonal_decompose()"
   ]
  },
  {
   "cell_type": "markdown",
   "id": "ef5243e2",
   "metadata": {},
   "source": [
    "### **Análise da Decomposição Sazonal (Seasonal Decompose)**\n",
    "\n",
    "---\n",
    "\n",
    "#### **1. Gráfico Geral**\n",
    "O gráfico gerado pelo `seasonal_decompose` foi dividido em quatro componentes principais:\n",
    "\n",
    "1. **Série Original (feature):**\n",
    "   - Representa os valores brutos da série temporal de vibração, registrados **minuto a minuto** durante **8 meses**.\n",
    "   - A série apresenta uma grande quantidade de oscilações e ruído, mas com padrões visíveis de períodos de estabilidade e instabilidade.\n",
    "\n",
    "2. **Tendência (Trend):**\n",
    "   - A **tendência** captura o comportamento de longo prazo dos dados.\n",
    "   - Observações:\n",
    "     - Há um crescimento gradual na tendência até meados de 2023-11, seguido de períodos de estabilização.\n",
    "     - Pequenas quedas bruscas indicam **anomalias** ou **falhas temporárias**, possivelmente associadas a paradas ou intervenções no processo.\n",
    "     - O aumento recente sugere **picos de vibração recorrentes** no final da série, indicando uma possível mudança nas operações do equipamento.\n",
    "\n",
    "3. **Sazonalidade (Seasonal):**\n",
    "   - A **componente sazonal** evidencia **oscilações periódicas** nos dados, capturando padrões de curto prazo.\n",
    "   - Com um **período de 1440 minutos** (equivalente a 1 dia), observa-se:\n",
    "     - Um **padrão diário consistente**, onde os valores de vibração oscilam de forma **regular**.\n",
    "     - Algumas alterações no padrão sazonal ao longo do tempo podem indicar variações no comportamento diário do processo.\n",
    "\n",
    "4. **Resíduos (Residual):**\n",
    "   - Os **resíduos** representam os valores que **não foram explicados** pela tendência ou sazonalidade.\n",
    "   - Observações:\n",
    "     - A presença de **picos positivos e negativos** sugere **anomalias** ou ruídos nos dados.\n",
    "     - Resíduos mais acentuados podem estar associados a eventos **incomuns**, como falhas de equipamento, paradas inesperadas ou mudanças bruscas no processo.\n",
    "     - Em vários momentos, os resíduos mostram **clusters de pontos fora do padrão**, indicando que há variações não capturadas pelos componentes anteriores.\n",
    "\n",
    "---\n",
    "\n",
    "#### **2. Interpretação**\n",
    "A decomposição sazonal revelou os seguintes pontos-chave:\n",
    "1. **Tendência Ascendente com Oscilações:**\n",
    "   - A tendência geral dos dados sugere um **aumento gradativo** nos valores de vibração ao longo do tempo.\n",
    "   - Isso pode estar relacionado a mudanças no funcionamento do equipamento, desgaste ou alterações no processo operacional.\n",
    "\n",
    "2. **Sazonalidade Diária:**\n",
    "   - Os dados possuem um **comportamento cíclico diário** (período = 1440 minutos), o que indica padrões regulares de vibração ao longo do dia.\n",
    "   - Qualquer desvio significativo desse padrão sazonal pode ser **sinal de anomalias** ou **mudanças no processo**.\n",
    "\n",
    "3. **Resíduos e Anomalias:**\n",
    "   - Os resíduos exibem **variações significativas**, sugerindo que nem toda a variabilidade dos dados foi explicada pela decomposição.\n",
    "   - Eventos pontuais, como **picos de vibração ou quedas abruptas**, devem ser analisados com cuidado para entender suas causas.\n",
    "\n",
    "---\n"
   ]
  },
  {
   "cell_type": "code",
   "execution_count": null,
   "id": "5b2433b7",
   "metadata": {},
   "outputs": [],
   "source": [
    "widow_size = 10080  # 1 semana de dados (7 dias * 24 horas * 60 minutos)\n",
    "df['SMA_7'] = df['feature'].rolling(window=widow_size).mean()\n",
    "df['EMA_7'] = df['feature'].ewm(span=widow_size, adjust=False).mean()\n",
    "\n",
    "NUM_SAMPLES = 43200 # 1 mes de dados (30 dias * 24 horas * 60 minutos)\n",
    "\n",
    "plt.figure(figsize=(12, 6))\n",
    "plt.plot(df['feature'], label=\"Original\")\n",
    "plt.plot(df['SMA_7'], label=\"SMA (7 dias)\", linestyle=\"--\")\n",
    "plt.plot(df['EMA_7'], label=\"EMA (7 dias)\", linestyle=\":\")\n",
    "#plt.plot(df['feature'].head(NUM_SAMPLES), label=\"Original\")\n",
    "#plt.plot(df['SMA_7'].head(NUM_SAMPLES), label=\"SMA (7 dias)\", linestyle=\"--\")\n",
    "#plt.plot(df['EMA_7'].head(NUM_SAMPLES), label=\"EMA (7 dias)\", linestyle=\":\")\n",
    "plt.legend()\n",
    "plt.show()"
   ]
  },
  {
   "cell_type": "markdown",
   "id": "1b48a30f",
   "metadata": {},
   "source": [
    "#### **Principais Observações:**\n",
    "\n",
    "1. **Tendência Geral:**\n",
    "    A série original oscila em torno de uma média central próxima a 1.0.\n",
    "    Tanto a SMA quanto a EMA indicam uma tendência estável no longo prazo, com variações sutis.\n",
    "\n",
    "2. **Picos e Ruído:**\n",
    "    Existem picos bem altos (valores > 2.5) em momentos específicos, que podem ser considerados anomalias ou flutuações extremas.\n",
    "    Há também períodos com muitos valores baixos, sugerindo possíveis interrupções ou falhas no processo.\n",
    "\n",
    "3. **Diferença entre SMA e EMA:**\n",
    "    A EMA acompanha as oscilações da série original de forma mais próxima do que a SMA devido ao maior peso nos dados recentes.\n",
    "    A SMA apresenta uma suavização mais \"atrasada\" e estável, o que é esperado."
   ]
  },
  {
   "cell_type": "markdown",
   "id": "5befb0ed",
   "metadata": {},
   "source": []
  }
 ],
 "metadata": {
  "kernelspec": {
   "display_name": "vrm-lstm-XgRwfIx7-py3.13",
   "language": "python",
   "name": "python3"
  },
  "language_info": {
   "codemirror_mode": {
    "name": "ipython",
    "version": 3
   },
   "file_extension": ".py",
   "mimetype": "text/x-python",
   "name": "python",
   "nbconvert_exporter": "python",
   "pygments_lexer": "ipython3",
   "version": "3.13.1"
  }
 },
 "nbformat": 4,
 "nbformat_minor": 5
}
