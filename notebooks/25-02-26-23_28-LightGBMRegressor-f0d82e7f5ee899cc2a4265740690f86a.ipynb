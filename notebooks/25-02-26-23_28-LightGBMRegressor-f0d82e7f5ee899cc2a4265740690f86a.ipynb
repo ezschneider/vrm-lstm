{
 "cells": [
  {
   "cell_type": "markdown",
   "metadata": {
    "application/vnd.databricks.v1+cell": {
     "cellMetadata": {
      "byteLimit": 2048000,
      "rowLimit": 10000
     },
     "inputWidgets": {},
     "nuid": "1cde0e75-15c7-4588-94b9-3f077e567bbe",
     "showTitle": false,
     "tableResultSettingsMap": {},
     "title": ""
    }
   },
   "source": [
    "# LightGBM Regressor training\n",
    "- This is an auto-generated notebook.\n",
    "- To reproduce these results, attach this notebook to a cluster with runtime version **16.2.x-cpu-ml-scala2.12**, and rerun it.\n",
    "- Compare trials in the [MLflow experiment](#mlflow/experiments/1286397497605697).\n",
    "- Clone this notebook into your project folder by selecting **File > Clone** in the notebook toolbar."
   ]
  },
  {
   "cell_type": "code",
   "execution_count": 0,
   "metadata": {
    "application/vnd.databricks.v1+cell": {
     "cellMetadata": {
      "byteLimit": 2048000,
      "rowLimit": 10000
     },
     "inputWidgets": {},
     "nuid": "698f2810-831e-44e3-a2b0-e04b04a0f2dc",
     "showTitle": false,
     "tableResultSettingsMap": {},
     "title": ""
    },
    "execution": {
     "iopub.execute_input": "2025-02-26T23:59:23.642283Z",
     "iopub.status.busy": "2025-02-26T23:59:23.640648Z",
     "iopub.status.idle": "2025-02-26T23:59:23.659463Z",
     "shell.execute_reply": "2025-02-26T23:59:23.658615Z"
    }
   },
   "outputs": [],
   "source": [
    "import mlflow\n",
    "import databricks.automl_runtime\n",
    "\n",
    "target_col = \"feature\"\n",
    "time_col = \"time\""
   ]
  },
  {
   "cell_type": "markdown",
   "metadata": {
    "application/vnd.databricks.v1+cell": {
     "cellMetadata": {
      "byteLimit": 2048000,
      "rowLimit": 10000
     },
     "inputWidgets": {},
     "nuid": "0df5c62f-7505-40cc-aecc-301843deaf1a",
     "showTitle": false,
     "tableResultSettingsMap": {},
     "title": ""
    }
   },
   "source": [
    "## Load Data"
   ]
  },
  {
   "cell_type": "code",
   "execution_count": 0,
   "metadata": {
    "application/vnd.databricks.v1+cell": {
     "cellMetadata": {
      "byteLimit": 2048000,
      "rowLimit": 10000
     },
     "inputWidgets": {},
     "nuid": "0a78b29e-dcac-4c00-8bf8-4e08a41d775a",
     "showTitle": false,
     "tableResultSettingsMap": {},
     "title": ""
    },
    "execution": {
     "iopub.execute_input": "2025-02-26T23:59:23.666653Z",
     "iopub.status.busy": "2025-02-26T23:59:23.665412Z",
     "iopub.status.idle": "2025-02-26T23:59:29.265344Z",
     "shell.execute_reply": "2025-02-26T23:59:29.263145Z"
    }
   },
   "outputs": [
    {
     "output_type": "stream",
     "name": "stderr",
     "output_type": "stream",
     "text": [
      "/databricks/python/lib/python3.12/site-packages/databricks/sdk/service/jobs.py:60: SyntaxWarning: invalid escape sequence '\\.'\n  \"\"\"The sequence number of this run attempt for a triggered job run. The initial attempt of a run\n/databricks/python/lib/python3.12/site-packages/databricks/sdk/service/jobs.py:2570: SyntaxWarning: invalid escape sequence '\\.'\n  \"\"\"The sequence number of this run attempt for a triggered job run. The initial attempt of a run\n/databricks/python/lib/python3.12/site-packages/databricks/sdk/service/jobs.py:3431: SyntaxWarning: invalid escape sequence '\\.'\n  \"\"\"The sequence number of this run attempt for a triggered job run. The initial attempt of a run\n"
     ]
    },
    {
     "output_type": "display_data",
     "data": {
      "application/vnd.jupyter.widget-view+json": {
       "model_id": "201066ae51f24b9280ef1bf514ceda1e",
       "version_major": 2,
       "version_minor": 0
      },
      "text/plain": [
       "Downloading artifacts:   0%|          | 0/1 [00:00<?, ?it/s]"
      ]
     },
     "metadata": {},
     "output_type": "display_data"
    },
    {
     "output_type": "display_data",
     "data": {
      "text/html": [
       "<style scoped>\n",
       "  .table-result-container {\n",
       "    max-height: 300px;\n",
       "    overflow: auto;\n",
       "  }\n",
       "  table, th, td {\n",
       "    border: 1px solid black;\n",
       "    border-collapse: collapse;\n",
       "  }\n",
       "  th, td {\n",
       "    padding: 5px;\n",
       "  }\n",
       "  th {\n",
       "    text-align: left;\n",
       "  }\n",
       "</style><div class='table-result-container'><table class='table-result'><thead style='background-color: white'><tr><th>time</th><th>alimentacao_bu</th><th>alimentacao_bs</th><th>ceee</th><th>%_clinquer</th><th>%_gesso_mineral</th><th>%__gesso_sintetico</th><th>%_calcario</th><th>%_po_filler</th><th>%_escoria</th><th>altura_da_camada_na_mesa</th><th>pressao_de_moagem</th><th>velocidade_da_mesa</th><th>aditivo</th><th>agua</th><th>dp_moinho</th><th>velocidade_sr1</th><th>velocidade_fan</th><th>vazao_de_gases</th><th>relacao_ar_/_po</th><th>motores_moinho</th><th>exaustor</th><th>separador</th><th>gases_do_forno</th><th>total_vrm</th><th>aux</th><th>corrente_motor</th><th>rotacao\n",
       "5wa-fn1</th><th>torque</th><th>potencia_da_mesa</th><th>rejeito_da_mesa</th><th>horas</th><th>producao</th><th>blaine</th><th>#400</th><th>umidade</th><th>md1</th><th>md2</th><th>md3</th><th>md4</th><th>md5</th><th>md6</th><th>mda</th><th>56a-fn1</th><th>5wa-fn1</th><th>56a-sr1</th><th>energia_-_aditivos_e_corretivos</th><th>motores_440</th><th>compressores</th><th>transporte,_iluminacao,_etc</th><th>energia_total</th><th>alimentacao</th><th>camada_-_r1</th><th>camada_-_r2</th><th>camada_-_r3</th><th>camada_-_r4</th><th>camada_-_r5</th><th>camada_-_r6</th><th>pressao_-_r1</th><th>pressao_-_r2</th><th>pressao_-_r3</th><th>pressao_-_r4</th><th>pressao_-_r5</th><th>pressao_-_r6</th><th>feature</th><th>_automl_split_col_0000</th></tr></thead><tbody><tr><td>2023-08-01T03:00:00Z</td><td>383.8787069</td><td>376.0451121</td><td>47.04488814</td><td>61.0667</td><td>3.224712</td><td>0.0</td><td>4.026222</td><td>4.084743</td><td>27.59763</td><td>25.04673</td><td>193.3909</td><td>18.96785</td><td>142.0</td><td>8.14</td><td>4.888447</td><td>105.8826</td><td>85.9</td><td>1397.397</td><td>222.9621</td><td>31.1452</td><td>9.371216238</td><td>3.57138</td><td>0.165</td><td>21.83687</td><td>10887.75</td><td>2000.0</td><td>null</td><td>null</td><td>null</td><td>null</td><td>null</td><td>null</td><td>null</td><td>null</td><td>null</td><td>null</td><td>null</td><td>null</td><td>null</td><td>null</td><td>null</td><td>null</td><td>null</td><td>null</td><td>null</td><td>null</td><td>null</td><td>null</td><td>null</td><td>null</td><td>null</td><td>null</td><td>null</td><td>null</td><td>null</td><td>null</td><td>null</td><td>null</td><td>null</td><td>null</td><td>null</td><td>null</td><td>null</td><td>1.087224</td><td>train</td></tr><tr><td>2023-08-01T03:01:00Z</td><td>383.8787203</td><td>376.045121</td><td>47.04488642</td><td>61.06669727</td><td>3.224711915</td><td>0.0</td><td>4.026221913</td><td>4.084743161</td><td>27.59762574</td><td>25.04673195</td><td>193.3908539</td><td>18.96784592</td><td>142.0</td><td>8.135408401</td><td>4.888446808</td><td>105.8825531</td><td>85.90000153</td><td>1397.397095</td><td>222.9621304</td><td>31.14519838</td><td>9.371216015</td><td>3.571380033</td><td>0.165</td><td>21.83686829</td><td>10887.75488</td><td>2000.0</td><td>null</td><td>null</td><td>null</td><td>null</td><td>null</td><td>null</td><td>null</td><td>null</td><td>null</td><td>null</td><td>null</td><td>null</td><td>null</td><td>null</td><td>null</td><td>null</td><td>null</td><td>null</td><td>null</td><td>null</td><td>null</td><td>null</td><td>null</td><td>null</td><td>null</td><td>null</td><td>null</td><td>null</td><td>null</td><td>null</td><td>null</td><td>null</td><td>null</td><td>null</td><td>null</td><td>null</td><td>null</td><td>1.087224364</td><td>train</td></tr><tr><td>2023-08-01T03:02:00Z</td><td>383.8787069</td><td>376.0451121</td><td>47.15391761</td><td>61.0667</td><td>3.224712</td><td>0.0</td><td>4.026222</td><td>4.084743</td><td>27.59763</td><td>25.04673</td><td>193.3909</td><td>18.96785</td><td>142.0</td><td>8.14</td><td>4.888447</td><td>105.8826</td><td>85.9</td><td>1397.397</td><td>222.9621</td><td>31.1452</td><td>9.371216238</td><td>3.57138</td><td>0.165</td><td>21.83687</td><td>10887.75</td><td>2000.0</td><td>null</td><td>null</td><td>null</td><td>null</td><td>null</td><td>null</td><td>null</td><td>null</td><td>null</td><td>null</td><td>null</td><td>null</td><td>null</td><td>null</td><td>null</td><td>null</td><td>null</td><td>null</td><td>null</td><td>null</td><td>null</td><td>null</td><td>null</td><td>null</td><td>null</td><td>null</td><td>null</td><td>null</td><td>null</td><td>null</td><td>null</td><td>null</td><td>null</td><td>null</td><td>null</td><td>null</td><td>null</td><td>1.087224</td><td>train</td></tr><tr><td>2023-08-01T03:03:00Z</td><td>383.3345404</td><td>375.4931636</td><td>45.9289318</td><td>60.96062</td><td>3.218622</td><td>0.0</td><td>4.044761</td><td>4.110132</td><td>27.66586</td><td>25.56987</td><td>190.2041</td><td>18.97711</td><td>142.2935</td><td>8.13</td><td>4.847767</td><td>105.9878</td><td>86.0</td><td>1429.039</td><td>228.346</td><td>29.91533</td><td>9.384991266</td><td>3.531356</td><td>0.165</td><td>27.75906</td><td>10682.45</td><td>1920.0</td><td>null</td><td>null</td><td>null</td><td>null</td><td>null</td><td>null</td><td>null</td><td>null</td><td>null</td><td>null</td><td>null</td><td>null</td><td>null</td><td>null</td><td>null</td><td>null</td><td>null</td><td>null</td><td>null</td><td>null</td><td>null</td><td>null</td><td>null</td><td>null</td><td>null</td><td>null</td><td>null</td><td>null</td><td>null</td><td>null</td><td>null</td><td>null</td><td>null</td><td>null</td><td>null</td><td>null</td><td>null</td><td>1.035019</td><td>train</td></tr><tr><td>2023-08-01T03:04:00Z</td><td>383.3345145</td><td>375.493134</td><td>45.92893571</td><td>60.96062268</td><td>3.218622595</td><td>0.0</td><td>4.044761606</td><td>4.110132029</td><td>27.66586109</td><td>25.56986618</td><td>190.2041016</td><td>18.97710609</td><td>142.2935486</td><td>8.13</td><td>4.847767353</td><td>105.9878311</td><td>86.0</td><td>1429.039185</td><td>228.3459771</td><td>29.91532733</td><td>9.384992003</td><td>3.531356058</td><td>0.165</td><td>27.75906372</td><td>10682.44922</td><td>1920.767334</td><td>null</td><td>null</td><td>null</td><td>null</td><td>null</td><td>null</td><td>null</td><td>null</td><td>null</td><td>null</td><td>null</td><td>null</td><td>null</td><td>null</td><td>null</td><td>null</td><td>null</td><td>null</td><td>null</td><td>null</td><td>null</td><td>null</td><td>null</td><td>null</td><td>null</td><td>null</td><td>null</td><td>null</td><td>null</td><td>null</td><td>null</td><td>null</td><td>null</td><td>null</td><td>null</td><td>null</td><td>null</td><td>1.035019398</td><td>train</td></tr></tbody></table></div>"
      ]
     },
     "metadata": {
      "application/vnd.databricks.v1+output": {
       "addedWidgets": {},
       "aggData": [],
       "aggError": "",
       "aggOverflow": false,
       "aggSchema": [],
       "aggSeriesLimitReached": false,
       "aggType": "",
       "arguments": {},
       "columnCustomDisplayInfos": {},
       "data": [
        [
         "2023-08-01T03:00:00Z",
         383.8787069,
         376.0451121,
         47.04488814,
         61.0667,
         3.224712,
         0.0,
         4.026222,
         4.084743,
         27.59763,
         25.04673,
         193.3909,
         18.96785,
         142.0,
         8.14,
         4.888447,
         105.8826,
         85.9,
         1397.397,
         222.9621,
         31.1452,
         9.371216238,
         3.57138,
         0.165,
         21.83687,
         10887.75,
         2000.0,
         null,
         null,
         null,
         null,
         null,
         null,
         null,
         null,
         null,
         null,
         null,
         null,
         null,
         null,
         null,
         null,
         null,
         null,
         null,
         null,
         null,
         null,
         null,
         null,
         null,
         null,
         null,
         null,
         null,
         null,
         null,
         null,
         null,
         null,
         null,
         null,
         null,
         1.087224,
         "train"
        ],
        [
         "2023-08-01T03:01:00Z",
         383.8787203,
         376.045121,
         47.04488642,
         61.06669727,
         3.224711915,
         0.0,
         4.026221913,
         4.084743161,
         27.59762574,
         25.04673195,
         193.3908539,
         18.96784592,
         142.0,
         8.135408401,
         4.888446808,
         105.8825531,
         85.90000153,
         1397.397095,
         222.9621304,
         31.14519838,
         9.371216015,
         3.571380033,
         0.165,
         21.83686829,
         10887.75488,
         2000.0,
         null,
         null,
         null,
         null,
         null,
         null,
         null,
         null,
         null,
         null,
         null,
         null,
         null,
         null,
         null,
         null,
         null,
         null,
         null,
         null,
         null,
         null,
         null,
         null,
         null,
         null,
         null,
         null,
         null,
         null,
         null,
         null,
         null,
         null,
         null,
         null,
         null,
         1.087224364,
         "train"
        ],
        [
         "2023-08-01T03:02:00Z",
         383.8787069,
         376.0451121,
         47.15391761,
         61.0667,
         3.224712,
         0.0,
         4.026222,
         4.084743,
         27.59763,
         25.04673,
         193.3909,
         18.96785,
         142.0,
         8.14,
         4.888447,
         105.8826,
         85.9,
         1397.397,
         222.9621,
         31.1452,
         9.371216238,
         3.57138,
         0.165,
         21.83687,
         10887.75,
         2000.0,
         null,
         null,
         null,
         null,
         null,
         null,
         null,
         null,
         null,
         null,
         null,
         null,
         null,
         null,
         null,
         null,
         null,
         null,
         null,
         null,
         null,
         null,
         null,
         null,
         null,
         null,
         null,
         null,
         null,
         null,
         null,
         null,
         null,
         null,
         null,
         null,
         null,
         1.087224,
         "train"
        ],
        [
         "2023-08-01T03:03:00Z",
         383.3345404,
         375.4931636,
         45.9289318,
         60.96062,
         3.218622,
         0.0,
         4.044761,
         4.110132,
         27.66586,
         25.56987,
         190.2041,
         18.97711,
         142.2935,
         8.13,
         4.847767,
         105.9878,
         86.0,
         1429.039,
         228.346,
         29.91533,
         9.384991266,
         3.531356,
         0.165,
         27.75906,
         10682.45,
         1920.0,
         null,
         null,
         null,
         null,
         null,
         null,
         null,
         null,
         null,
         null,
         null,
         null,
         null,
         null,
         null,
         null,
         null,
         null,
         null,
         null,
         null,
         null,
         null,
         null,
         null,
         null,
         null,
         null,
         null,
         null,
         null,
         null,
         null,
         null,
         null,
         null,
         null,
         1.035019,
         "train"
        ],
        [
         "2023-08-01T03:04:00Z",
         383.3345145,
         375.493134,
         45.92893571,
         60.96062268,
         3.218622595,
         0.0,
         4.044761606,
         4.110132029,
         27.66586109,
         25.56986618,
         190.2041016,
         18.97710609,
         142.2935486,
         8.13,
         4.847767353,
         105.9878311,
         86.0,
         1429.039185,
         228.3459771,
         29.91532733,
         9.384992003,
         3.531356058,
         0.165,
         27.75906372,
         10682.44922,
         1920.767334,
         null,
         null,
         null,
         null,
         null,
         null,
         null,
         null,
         null,
         null,
         null,
         null,
         null,
         null,
         null,
         null,
         null,
         null,
         null,
         null,
         null,
         null,
         null,
         null,
         null,
         null,
         null,
         null,
         null,
         null,
         null,
         null,
         null,
         null,
         null,
         null,
         null,
         1.035019398,
         "train"
        ]
       ],
       "datasetInfos": [],
       "dbfsResultPath": null,
       "isJsonSchema": true,
       "metadata": {},
       "overflow": false,
       "plotOptions": {
        "customPlotOptions": {},
        "displayType": "table",
        "pivotAggregation": null,
        "pivotColumns": null,
        "xColumns": null,
        "yColumns": null
       },
       "removedWidgets": [],
       "schema": [
        {
         "metadata": "{}",
         "name": "time",
         "type": "\"timestamp\""
        },
        {
         "metadata": "{}",
         "name": "alimentacao_bu",
         "type": "\"double\""
        },
        {
         "metadata": "{}",
         "name": "alimentacao_bs",
         "type": "\"double\""
        },
        {
         "metadata": "{}",
         "name": "ceee",
         "type": "\"double\""
        },
        {
         "metadata": "{}",
         "name": "%_clinquer",
         "type": "\"double\""
        },
        {
         "metadata": "{}",
         "name": "%_gesso_mineral",
         "type": "\"double\""
        },
        {
         "metadata": "{}",
         "name": "%__gesso_sintetico",
         "type": "\"double\""
        },
        {
         "metadata": "{}",
         "name": "%_calcario",
         "type": "\"double\""
        },
        {
         "metadata": "{}",
         "name": "%_po_filler",
         "type": "\"double\""
        },
        {
         "metadata": "{}",
         "name": "%_escoria",
         "type": "\"double\""
        },
        {
         "metadata": "{}",
         "name": "altura_da_camada_na_mesa",
         "type": "\"double\""
        },
        {
         "metadata": "{}",
         "name": "pressao_de_moagem",
         "type": "\"double\""
        },
        {
         "metadata": "{}",
         "name": "velocidade_da_mesa",
         "type": "\"double\""
        },
        {
         "metadata": "{}",
         "name": "aditivo",
         "type": "\"double\""
        },
        {
         "metadata": "{}",
         "name": "agua",
         "type": "\"double\""
        },
        {
         "metadata": "{}",
         "name": "dp_moinho",
         "type": "\"double\""
        },
        {
         "metadata": "{}",
         "name": "velocidade_sr1",
         "type": "\"double\""
        },
        {
         "metadata": "{}",
         "name": "velocidade_fan",
         "type": "\"double\""
        },
        {
         "metadata": "{}",
         "name": "vazao_de_gases",
         "type": "\"double\""
        },
        {
         "metadata": "{}",
         "name": "relacao_ar_/_po",
         "type": "\"double\""
        },
        {
         "metadata": "{}",
         "name": "motores_moinho",
         "type": "\"double\""
        },
        {
         "metadata": "{}",
         "name": "exaustor",
         "type": "\"double\""
        },
        {
         "metadata": "{}",
         "name": "separador",
         "type": "\"double\""
        },
        {
         "metadata": "{}",
         "name": "gases_do_forno",
         "type": "\"double\""
        },
        {
         "metadata": "{}",
         "name": "total_vrm",
         "type": "\"double\""
        },
        {
         "metadata": "{}",
         "name": "aux",
         "type": "\"double\""
        },
        {
         "metadata": "{}",
         "name": "corrente_motor",
         "type": "\"double\""
        },
        {
         "metadata": "{}",
         "name": "rotacao\n5wa-fn1",
         "type": "\"double\""
        },
        {
         "metadata": "{}",
         "name": "torque",
         "type": "\"double\""
        },
        {
         "metadata": "{}",
         "name": "potencia_da_mesa",
         "type": "\"double\""
        },
        {
         "metadata": "{}",
         "name": "rejeito_da_mesa",
         "type": "\"double\""
        },
        {
         "metadata": "{}",
         "name": "horas",
         "type": "\"double\""
        },
        {
         "metadata": "{}",
         "name": "producao",
         "type": "\"double\""
        },
        {
         "metadata": "{}",
         "name": "blaine",
         "type": "\"double\""
        },
        {
         "metadata": "{}",
         "name": "#400",
         "type": "\"double\""
        },
        {
         "metadata": "{}",
         "name": "umidade",
         "type": "\"double\""
        },
        {
         "metadata": "{}",
         "name": "md1",
         "type": "\"double\""
        },
        {
         "metadata": "{}",
         "name": "md2",
         "type": "\"double\""
        },
        {
         "metadata": "{}",
         "name": "md3",
         "type": "\"double\""
        },
        {
         "metadata": "{}",
         "name": "md4",
         "type": "\"double\""
        },
        {
         "metadata": "{}",
         "name": "md5",
         "type": "\"double\""
        },
        {
         "metadata": "{}",
         "name": "md6",
         "type": "\"double\""
        },
        {
         "metadata": "{}",
         "name": "mda",
         "type": "\"double\""
        },
        {
         "metadata": "{}",
         "name": "56a-fn1",
         "type": "\"double\""
        },
        {
         "metadata": "{}",
         "name": "5wa-fn1",
         "type": "\"double\""
        },
        {
         "metadata": "{}",
         "name": "56a-sr1",
         "type": "\"double\""
        },
        {
         "metadata": "{}",
         "name": "energia_-_aditivos_e_corretivos",
         "type": "\"double\""
        },
        {
         "metadata": "{}",
         "name": "motores_440",
         "type": "\"double\""
        },
        {
         "metadata": "{}",
         "name": "compressores",
         "type": "\"double\""
        },
        {
         "metadata": "{}",
         "name": "transporte,_iluminacao,_etc",
         "type": "\"double\""
        },
        {
         "metadata": "{}",
         "name": "energia_total",
         "type": "\"double\""
        },
        {
         "metadata": "{}",
         "name": "alimentacao",
         "type": "\"double\""
        },
        {
         "metadata": "{}",
         "name": "camada_-_r1",
         "type": "\"double\""
        },
        {
         "metadata": "{}",
         "name": "camada_-_r2",
         "type": "\"double\""
        },
        {
         "metadata": "{}",
         "name": "camada_-_r3",
         "type": "\"double\""
        },
        {
         "metadata": "{}",
         "name": "camada_-_r4",
         "type": "\"double\""
        },
        {
         "metadata": "{}",
         "name": "camada_-_r5",
         "type": "\"double\""
        },
        {
         "metadata": "{}",
         "name": "camada_-_r6",
         "type": "\"double\""
        },
        {
         "metadata": "{}",
         "name": "pressao_-_r1",
         "type": "\"double\""
        },
        {
         "metadata": "{}",
         "name": "pressao_-_r2",
         "type": "\"double\""
        },
        {
         "metadata": "{}",
         "name": "pressao_-_r3",
         "type": "\"double\""
        },
        {
         "metadata": "{}",
         "name": "pressao_-_r4",
         "type": "\"double\""
        },
        {
         "metadata": "{}",
         "name": "pressao_-_r5",
         "type": "\"double\""
        },
        {
         "metadata": "{}",
         "name": "pressao_-_r6",
         "type": "\"double\""
        },
        {
         "metadata": "{}",
         "name": "feature",
         "type": "\"double\""
        },
        {
         "metadata": "{}",
         "name": "_automl_split_col_0000",
         "type": "\"string\""
        }
       ],
       "type": "table"
      }
     },
     "output_type": "display_data"
    }
   ],
   "source": [
    "import mlflow\n",
    "import os\n",
    "import uuid\n",
    "import shutil\n",
    "import pandas as pd\n",
    "\n",
    "# Create temp directory to download input data from MLflow\n",
    "input_temp_dir = os.path.join(os.environ[\"SPARK_LOCAL_DIRS\"], \"tmp\", str(uuid.uuid4())[:8])\n",
    "os.makedirs(input_temp_dir)\n",
    "\n",
    "\n",
    "# Download the artifact and read it into a pandas DataFrame\n",
    "input_data_path = mlflow.artifacts.download_artifacts(run_id=\"19bc4094750946d7b40fd82895cdb81d\", artifact_path=\"data\", dst_path=input_temp_dir)\n",
    "\n",
    "df_loaded = pd.read_parquet(os.path.join(input_data_path, \"training_data\"))\n",
    "# Delete the temp data\n",
    "shutil.rmtree(input_temp_dir)\n",
    "\n",
    "# Preview data\n",
    "display(df_loaded.head(5))"
   ]
  },
  {
   "cell_type": "markdown",
   "metadata": {
    "application/vnd.databricks.v1+cell": {
     "cellMetadata": {
      "byteLimit": 2048000,
      "rowLimit": 10000
     },
     "inputWidgets": {},
     "nuid": "3a85322a-1dc8-469c-b5dd-691476efc6f2",
     "showTitle": false,
     "tableResultSettingsMap": {},
     "title": ""
    }
   },
   "source": [
    "### Select supported columns\n",
    "Select only the columns that are supported. This allows us to train a model that can predict on a dataset that has extra columns that are not used in training.\n",
    "`[\"56a-fn1\", \"camada_-_r4\", \"pressao_-_r6\", \"camada_-_r2\", \"energia_-_aditivos_e_corretivos\", \"%__gesso_sintetico\", \"56a-sr1\", \"md2\", \"motores_440\", \"#400\", \"camada_-_r6\", \"pressao_-_r3\", \"camada_-_r3\", \"pressao_-_r2\", \"umidade\", \"producao\", \"md3\", \"pressao_-_r5\", \"compressores\", \"alimentacao\", \"rejeito_da_mesa\", \"horas\", \"rotacao\n",
    "5wa-fn1\", \"mda\", \"pressao_-_r4\", \"pressao_-_r1\", \"blaine\", \"5wa-fn1\", \"potencia_da_mesa\", \"camada_-_r1\", \"camada_-_r5\", \"torque\", \"md5\", \"md6\", \"transporte,_iluminacao,_etc\", \"energia_total\", \"md1\", \"md4\"]` are dropped in the pipelines. See the Alerts tab of the AutoML Experiment page for details on why these columns are dropped."
   ]
  },
  {
   "cell_type": "code",
   "execution_count": 0,
   "metadata": {
    "application/vnd.databricks.v1+cell": {
     "cellMetadata": {
      "byteLimit": 2048000,
      "rowLimit": 10000
     },
     "inputWidgets": {},
     "nuid": "276e6c59-0083-45ca-81ec-71bea6ff95ae",
     "showTitle": false,
     "tableResultSettingsMap": {},
     "title": ""
    },
    "execution": {
     "iopub.execute_input": "2025-02-26T23:59:29.271106Z",
     "iopub.status.busy": "2025-02-26T23:59:29.270383Z",
     "iopub.status.idle": "2025-02-26T23:59:34.335761Z",
     "shell.execute_reply": "2025-02-26T23:59:34.333575Z"
    }
   },
   "outputs": [],
   "source": [
    "from databricks.automl_runtime.sklearn.column_selector import ColumnSelector\n",
    "supported_cols = [\"exaustor\", \"%_calcario\", \"separador\", \"pressao_de_moagem\", \"%_escoria\", \"relacao_ar_/_po\", \"total_vrm\", \"ceee\", \"gases_do_forno\", \"time\", \"%_clinquer\", \"alimentacao_bs\", \"corrente_motor\", \"altura_da_camada_na_mesa\", \"velocidade_fan\", \"agua\", \"dp_moinho\", \"aux\", \"alimentacao_bu\", \"velocidade_sr1\", \"%_po_filler\", \"aditivo\", \"motores_moinho\", \"%_gesso_mineral\", \"velocidade_da_mesa\", \"vazao_de_gases\"]\n",
    "col_selector = ColumnSelector(supported_cols)"
   ]
  },
  {
   "cell_type": "markdown",
   "metadata": {
    "application/vnd.databricks.v1+cell": {
     "cellMetadata": {
      "byteLimit": 2048000,
      "rowLimit": 10000
     },
     "inputWidgets": {},
     "nuid": "a4ccc8eb-53a1-4b81-bfe5-0e201db87fe2",
     "showTitle": false,
     "tableResultSettingsMap": {},
     "title": ""
    }
   },
   "source": [
    "## Preprocessors"
   ]
  },
  {
   "cell_type": "markdown",
   "metadata": {
    "application/vnd.databricks.v1+cell": {
     "cellMetadata": {
      "byteLimit": 2048000,
      "rowLimit": 10000
     },
     "inputWidgets": {},
     "nuid": "71958623-ade5-4d4b-8d61-f807ba74a161",
     "showTitle": false,
     "tableResultSettingsMap": {},
     "title": ""
    }
   },
   "source": [
    "### Datetime Preprocessor\n",
    "For each datetime column, extract relevant information from the date:\n",
    "- Unix timestamp\n",
    "- whether the date is a weekend\n",
    "- whether the date is a holiday\n",
    "\n",
    "Additionally, extract extra information from columns with timestamps:\n",
    "- hour of the day (one-hot encoded)\n",
    "\n",
    "For cyclic features, plot the values along a unit circle to encode temporal proximity:\n",
    "- hour of the day\n",
    "- hours since the beginning of the week\n",
    "- hours since the beginning of the month\n",
    "- hours since the beginning of the year"
   ]
  },
  {
   "cell_type": "code",
   "execution_count": 0,
   "metadata": {
    "application/vnd.databricks.v1+cell": {
     "cellMetadata": {
      "byteLimit": 2048000,
      "rowLimit": 10000
     },
     "inputWidgets": {},
     "nuid": "3206c6a2-402a-489e-abbf-675912d836db",
     "showTitle": false,
     "tableResultSettingsMap": {},
     "title": ""
    },
    "execution": {
     "iopub.execute_input": "2025-02-26T23:59:34.341644Z",
     "iopub.status.busy": "2025-02-26T23:59:34.339480Z",
     "iopub.status.idle": "2025-02-26T23:59:34.350220Z",
     "shell.execute_reply": "2025-02-26T23:59:34.348405Z"
    }
   },
   "outputs": [],
   "source": [
    "from pandas import Timestamp\n",
    "from sklearn.compose import ColumnTransformer\n",
    "from sklearn.pipeline import Pipeline\n",
    "\n",
    "from databricks.automl_runtime.sklearn import DatetimeImputer\n",
    "from databricks.automl_runtime.sklearn import OneHotEncoder\n",
    "from databricks.automl_runtime.sklearn import TimestampTransformer\n",
    "from sklearn.preprocessing import StandardScaler\n",
    "\n",
    "imputers = {\n",
    "  \"time\": DatetimeImputer(),\n",
    "}\n",
    "\n",
    "datetime_transformers = []\n",
    "\n",
    "for col in [\"time\"]:\n",
    "    ohe_transformer = ColumnTransformer(\n",
    "        [(\"ohe\", OneHotEncoder(sparse=False, handle_unknown=\"indicator\"), [TimestampTransformer.HOUR_COLUMN_INDEX])],\n",
    "        remainder=\"passthrough\")\n",
    "    timestamp_preprocessor = Pipeline([\n",
    "        (f\"impute_{col}\", imputers[col]),\n",
    "        (f\"transform_{col}\", TimestampTransformer()),\n",
    "        (f\"onehot_encode_{col}\", ohe_transformer),\n",
    "        (f\"standardize_{col}\", StandardScaler()),\n",
    "    ])\n",
    "    datetime_transformers.append((f\"timestamp_{col}\", timestamp_preprocessor, [col]))"
   ]
  },
  {
   "cell_type": "markdown",
   "metadata": {
    "application/vnd.databricks.v1+cell": {
     "cellMetadata": {
      "byteLimit": 2048000,
      "rowLimit": 10000
     },
     "inputWidgets": {},
     "nuid": "aa75be68-2836-45b0-a4b3-2e387b76afa4",
     "showTitle": false,
     "tableResultSettingsMap": {},
     "title": ""
    }
   },
   "source": [
    "### Numerical columns\n",
    "\n",
    "Missing values for numerical columns are imputed with mean by default."
   ]
  },
  {
   "cell_type": "code",
   "execution_count": 0,
   "metadata": {
    "application/vnd.databricks.v1+cell": {
     "cellMetadata": {
      "byteLimit": 2048000,
      "rowLimit": 10000
     },
     "inputWidgets": {},
     "nuid": "c07c76c5-b3e0-44f3-a1e5-56aeae9a8c5c",
     "showTitle": false,
     "tableResultSettingsMap": {},
     "title": ""
    },
    "execution": {
     "iopub.execute_input": "2025-02-26T23:59:34.354098Z",
     "iopub.status.busy": "2025-02-26T23:59:34.353294Z",
     "iopub.status.idle": "2025-02-26T23:59:34.360614Z",
     "shell.execute_reply": "2025-02-26T23:59:34.360005Z"
    }
   },
   "outputs": [],
   "source": [
    "from sklearn.compose import ColumnTransformer\n",
    "from sklearn.impute import SimpleImputer\n",
    "from sklearn.pipeline import Pipeline\n",
    "from sklearn.preprocessing import FunctionTransformer, StandardScaler\n",
    "\n",
    "num_imputers = []\n",
    "num_imputers.append((\"impute_mean\", SimpleImputer(), [\"%_calcario\", \"%_clinquer\", \"%_escoria\", \"%_gesso_mineral\", \"%_po_filler\", \"aditivo\", \"agua\", \"alimentacao_bs\", \"alimentacao_bu\", \"altura_da_camada_na_mesa\", \"aux\", \"ceee\", \"corrente_motor\", \"dp_moinho\", \"exaustor\", \"gases_do_forno\", \"motores_moinho\", \"pressao_de_moagem\", \"relacao_ar_/_po\", \"separador\", \"total_vrm\", \"vazao_de_gases\", \"velocidade_da_mesa\", \"velocidade_fan\", \"velocidade_sr1\"]))\n",
    "\n",
    "numerical_pipeline = Pipeline(steps=[\n",
    "    (\"converter\", FunctionTransformer(lambda df: df.apply(pd.to_numeric, errors='coerce'))),\n",
    "    (\"imputers\", ColumnTransformer(num_imputers)),\n",
    "    (\"standardizer\", StandardScaler()),\n",
    "])\n",
    "\n",
    "numerical_transformers = [(\"numerical\", numerical_pipeline, [\"exaustor\", \"%_calcario\", \"separador\", \"pressao_de_moagem\", \"%_escoria\", \"relacao_ar_/_po\", \"total_vrm\", \"ceee\", \"gases_do_forno\", \"%_clinquer\", \"alimentacao_bs\", \"corrente_motor\", \"altura_da_camada_na_mesa\", \"velocidade_fan\", \"agua\", \"dp_moinho\", \"aux\", \"alimentacao_bu\", \"velocidade_sr1\", \"%_po_filler\", \"aditivo\", \"motores_moinho\", \"%_gesso_mineral\", \"velocidade_da_mesa\", \"vazao_de_gases\"])]"
   ]
  },
  {
   "cell_type": "code",
   "execution_count": 0,
   "metadata": {
    "application/vnd.databricks.v1+cell": {
     "cellMetadata": {
      "byteLimit": 2048000,
      "rowLimit": 10000
     },
     "inputWidgets": {},
     "nuid": "73feacbe-34d7-48e8-8990-1e6bdfc58208",
     "showTitle": false,
     "tableResultSettingsMap": {},
     "title": ""
    },
    "execution": {
     "iopub.execute_input": "2025-02-26T23:59:34.363925Z",
     "iopub.status.busy": "2025-02-26T23:59:34.363557Z",
     "iopub.status.idle": "2025-02-26T23:59:34.368914Z",
     "shell.execute_reply": "2025-02-26T23:59:34.368155Z"
    }
   },
   "outputs": [],
   "source": [
    "from sklearn.compose import ColumnTransformer\n",
    "\n",
    "transformers = datetime_transformers + numerical_transformers\n",
    "\n",
    "preprocessor = ColumnTransformer(transformers, remainder=\"passthrough\", sparse_threshold=0)"
   ]
  },
  {
   "cell_type": "markdown",
   "metadata": {
    "application/vnd.databricks.v1+cell": {
     "cellMetadata": {
      "byteLimit": 2048000,
      "rowLimit": 10000
     },
     "inputWidgets": {},
     "nuid": "8ff600ce-4cb5-4e6f-835f-94002e9fa5fe",
     "showTitle": false,
     "tableResultSettingsMap": {},
     "title": ""
    }
   },
   "source": [
    "## Train - Validation - Test Split\n",
    "The input data is split by AutoML into 3 sets:\n",
    "- Train (60% of the dataset used to train the model)\n",
    "- Validation (20% of the dataset used to tune the hyperparameters of the model)\n",
    "- Test (20% of the dataset used to report the true performance of the model on an unseen dataset)\n",
    "\n",
    "`_automl_split_col_0000` contains the information of which set a given row belongs to.\n",
    "We use this column to split the dataset into the above 3 sets. \n",
    "The column should not be used for training so it is dropped after split is done.\n",
    "\n",
    "Given that `time` is provided as the `time_col`, the data is split based on time order,\n",
    "where the most recent data is split to the test data."
   ]
  },
  {
   "cell_type": "code",
   "execution_count": 0,
   "metadata": {
    "application/vnd.databricks.v1+cell": {
     "cellMetadata": {
      "byteLimit": 2048000,
      "rowLimit": 10000
     },
     "inputWidgets": {},
     "nuid": "cad83e94-94d5-4ef8-8809-3095ce7f421c",
     "showTitle": false,
     "tableResultSettingsMap": {},
     "title": ""
    },
    "execution": {
     "iopub.execute_input": "2025-02-26T23:59:34.372524Z",
     "iopub.status.busy": "2025-02-26T23:59:34.371987Z",
     "iopub.status.idle": "2025-02-26T23:59:34.398540Z",
     "shell.execute_reply": "2025-02-26T23:59:34.397595Z"
    }
   },
   "outputs": [],
   "source": [
    "# AutoML completed train - validation - test split internally and used _automl_split_col_0000 to specify the set\n",
    "split_train_df = df_loaded.loc[df_loaded._automl_split_col_0000 == \"train\"]\n",
    "split_val_df = df_loaded.loc[df_loaded._automl_split_col_0000 == \"validate\"]\n",
    "split_test_df = df_loaded.loc[df_loaded._automl_split_col_0000 == \"test\"]\n",
    "\n",
    "# Separate target column from features and drop _automl_split_col_0000\n",
    "X_train = split_train_df.drop([target_col, \"_automl_split_col_0000\"], axis=1)\n",
    "y_train = split_train_df[target_col]\n",
    "\n",
    "X_val = split_val_df.drop([target_col, \"_automl_split_col_0000\"], axis=1)\n",
    "y_val = split_val_df[target_col]\n",
    "\n",
    "X_test = split_test_df.drop([target_col, \"_automl_split_col_0000\"], axis=1)\n",
    "y_test = split_test_df[target_col]"
   ]
  },
  {
   "cell_type": "markdown",
   "metadata": {
    "application/vnd.databricks.v1+cell": {
     "cellMetadata": {
      "byteLimit": 2048000,
      "rowLimit": 10000
     },
     "inputWidgets": {},
     "nuid": "7b1ec499-ef6f-4d4a-9362-77a713d9913f",
     "showTitle": false,
     "tableResultSettingsMap": {},
     "title": ""
    }
   },
   "source": [
    "## Train regression model\n",
    "- Log relevant metrics to MLflow to track runs\n",
    "- All the runs are logged under [this MLflow experiment](#mlflow/experiments/1286397497605697)\n",
    "- Change the model parameters and re-run the training cell to log a different trial to the MLflow experiment\n",
    "- To view the full list of tunable hyperparameters, check the output of the cell below"
   ]
  },
  {
   "cell_type": "code",
   "execution_count": 0,
   "metadata": {
    "application/vnd.databricks.v1+cell": {
     "cellMetadata": {
      "byteLimit": 2048000,
      "rowLimit": 10000
     },
     "inputWidgets": {},
     "nuid": "c19e1364-c963-4737-a5cc-cb5fb361e64f",
     "showTitle": false,
     "tableResultSettingsMap": {},
     "title": ""
    },
    "execution": {
     "iopub.execute_input": "2025-02-26T23:59:34.402959Z",
     "iopub.status.busy": "2025-02-26T23:59:34.402388Z",
     "iopub.status.idle": "2025-02-26T23:59:34.848552Z",
     "shell.execute_reply": "2025-02-26T23:59:34.847630Z"
    }
   },
   "outputs": [
    {
     "output_type": "stream",
     "name": "stdout",
     "output_type": "stream",
     "text": [
      "Help on class LGBMRegressor in module lightgbm.sklearn:\n\nclass LGBMRegressor(sklearn.base.RegressorMixin, LGBMModel)\n |  LGBMRegressor(boosting_type: str = 'gbdt', num_leaves: int = 31, max_depth: int = -1, learning_rate: float = 0.1, n_estimators: int = 100, subsample_for_bin: int = 200000, objective: Union[str, Callable[[Optional[numpy.ndarray], numpy.ndarray], Tuple[numpy.ndarray, numpy.ndarray]], Callable[[Optional[numpy.ndarray], numpy.ndarray, Optional[numpy.ndarray]], Tuple[numpy.ndarray, numpy.ndarray]], Callable[[Optional[numpy.ndarray], numpy.ndarray, Optional[numpy.ndarray], Optional[numpy.ndarray]], Tuple[numpy.ndarray, numpy.ndarray]], NoneType] = None, class_weight: Union[Dict, str, NoneType] = None, min_split_gain: float = 0.0, min_child_weight: float = 0.001, min_child_samples: int = 20, subsample: float = 1.0, subsample_freq: int = 0, colsample_bytree: float = 1.0, reg_alpha: float = 0.0, reg_lambda: float = 0.0, random_state: Union[int, numpy.random.mtrand.RandomState, numpy.random._generator.Generator, NoneType] = None, n_jobs: Optional[int] = None, importance_type: str = 'split', **kwargs: Any)\n |\n |  LightGBM regressor.\n |\n |  Method resolution order:\n |      LGBMRegressor\n |      sklearn.base.RegressorMixin\n |      LGBMModel\n |      sklearn.base.BaseEstimator\n |      sklearn.utils._estimator_html_repr._HTMLDocumentationLinkMixin\n |      sklearn.utils._metadata_requests._MetadataRequester\n |      builtins.object\n |\n |  Methods defined here:\n |\n |  fit(self, X: Union[lightgbm.compat.dt_DataTable, List[Union[List[float], List[int]]], numpy.ndarray, pandas.core.frame.DataFrame, scipy.sparse._matrix.spmatrix], y: Union[List[float], List[int], numpy.ndarray, pandas.core.series.Series, pandas.core.frame.DataFrame, pyarrow.lib.Array, pyarrow.lib.ChunkedArray], sample_weight: Union[List[float], List[int], numpy.ndarray, pandas.core.series.Series, pyarrow.lib.Array, pyarrow.lib.ChunkedArray, NoneType] = None, init_score: Union[List[float], List[List[float]], numpy.ndarray, pandas.core.series.Series, pandas.core.frame.DataFrame, pyarrow.lib.Table, pyarrow.lib.Array, pyarrow.lib.ChunkedArray, NoneType] = None, eval_set: Optional[List[Tuple[Union[lightgbm.compat.dt_DataTable, List[Union[List[float], List[int]]], numpy.ndarray, pandas.core.frame.DataFrame, scipy.sparse._matrix.spmatrix], Union[List[float], List[int], numpy.ndarray, pandas.core.series.Series, pandas.core.frame.DataFrame, pyarrow.lib.Array, pyarrow.lib.ChunkedArray]]]] = None, eval_names: Optional[List[str]] = None, eval_sample_weight: Optional[List[Union[List[float], List[int], numpy.ndarray, pandas.core.series.Series, pyarrow.lib.Array, pyarrow.lib.ChunkedArray]]] = None, eval_init_score: Optional[List[Union[List[float], List[List[float]], numpy.ndarray, pandas.core.series.Series, pandas.core.frame.DataFrame, pyarrow.lib.Table, pyarrow.lib.Array, pyarrow.lib.ChunkedArray]]] = None, eval_metric: Union[str, Callable[[Optional[numpy.ndarray], numpy.ndarray], Tuple[str, float, bool]], Callable[[Optional[numpy.ndarray], numpy.ndarray], List[Tuple[str, float, bool]]], Callable[[Optional[numpy.ndarray], numpy.ndarray, Optional[numpy.ndarray]], Tuple[str, float, bool]], Callable[[Optional[numpy.ndarray], numpy.ndarray, Optional[numpy.ndarray]], List[Tuple[str, float, bool]]], Callable[[Optional[numpy.ndarray], numpy.ndarray, Optional[numpy.ndarray], Optional[numpy.ndarray]], Tuple[str, float, bool]], Callable[[Optional[numpy.ndarray], numpy.ndarray, Optional[numpy.ndarray], Optional[numpy.ndarray]], List[Tuple[str, float, bool]]], List[Union[str, Callable[[Optional[numpy.ndarray], numpy.ndarray], Tuple[str, float, bool]], Callable[[Optional[numpy.ndarray], numpy.ndarray], List[Tuple[str, float, bool]]], Callable[[Optional[numpy.ndarray], numpy.ndarray, Optional[numpy.ndarray]], Tuple[str, float, bool]], Callable[[Optional[numpy.ndarray], numpy.ndarray, Optional[numpy.ndarray]], List[Tuple[str, float, bool]]], Callable[[Optional[numpy.ndarray], numpy.ndarray, Optional[numpy.ndarray], Optional[numpy.ndarray]], Tuple[str, float, bool]], Callable[[Optional[numpy.ndarray], numpy.ndarray, Optional[numpy.ndarray], Optional[numpy.ndarray]], List[Tuple[str, float, bool]]]]], NoneType] = None, feature_name: Union[List[str], ForwardRef(\"Literal['auto']\")] = 'auto', categorical_feature: Union[List[str], List[int], ForwardRef(\"Literal['auto']\")] = 'auto', callbacks: Optional[List[Callable]] = None, init_model: Union[str, pathlib.Path, lightgbm.basic.Booster, lightgbm.sklearn.LGBMModel, NoneType] = None) -> 'LGBMRegressor'\n |      Build a gradient boosting model from the training set (X, y).\n |\n |      Parameters\n |      ----------\n |      X : numpy array, pandas DataFrame, H2O DataTable's Frame , scipy.sparse, list of lists of int or float of shape = [n_samples, n_features]\n |          Input feature matrix.\n |      y : numpy array, pandas DataFrame, pandas Series, list of int or float of shape = [n_samples]\n |          The target values (class labels in classification, real numbers in regression).\n |      sample_weight : numpy array, pandas Series, list of int or float of shape = [n_samples] or None, optional (default=None)\n |          Weights of training data. Weights should be non-negative.\n |      init_score : numpy array, pandas DataFrame, pandas Series, list of int or float of shape = [n_samples] or shape = [n_samples * n_classes] (for multi-class task) or shape = [n_samples, n_classes] (for multi-class task) or None, optional (default=None)\n |          Init score of training data.\n |      eval_set : list or None, optional (default=None)\n |          A list of (X, y) tuple pairs to use as validation sets.\n |      eval_names : list of str, or None, optional (default=None)\n |          Names of eval_set.\n |      eval_sample_weight : list of array (same types as ``sample_weight`` supports), or None, optional (default=None)\n |          Weights of eval data. Weights should be non-negative.\n |      eval_init_score : list of array (same types as ``init_score`` supports), or None, optional (default=None)\n |          Init score of eval data.\n |      eval_metric : str, callable, list or None, optional (default=None)\n |          If str, it should be a built-in evaluation metric to use.\n |          If callable, it should be a custom evaluation metric, see note below for more details.\n |          If list, it can be a list of built-in metrics, a list of custom evaluation metrics, or a mix of both.\n |          In either case, the ``metric`` from the model parameters will be evaluated and used as well.\n |          Default: 'l2' for LGBMRegressor, 'logloss' for LGBMClassifier, 'ndcg' for LGBMRanker.\n |      feature_name : list of str, or 'auto', optional (default='auto')\n |          Feature names.\n |          If 'auto' and data is pandas DataFrame, data columns names are used.\n |      categorical_feature : list of str or int, or 'auto', optional (default='auto')\n |          Categorical features.\n |          If list of int, interpreted as indices.\n |          If list of str, interpreted as feature names (need to specify ``feature_name`` as well).\n |          If 'auto' and data is pandas DataFrame, pandas unordered categorical columns are used.\n |          All values in categorical features will be cast to int32 and thus should be less than int32 max value (2147483647).\n |          Large values could be memory consuming. Consider using consecutive integers starting from zero.\n |          All negative values in categorical features will be treated as missing values.\n |          The output cannot be monotonically constrained with respect to a categorical feature.\n |          Floating point numbers in categorical features will be rounded towards 0.\n |      callbacks : list of callable, or None, optional (default=None)\n |          List of callback functions that are applied at each iteration.\n |          See Callbacks in Python API for more information.\n |      init_model : str, pathlib.Path, Booster, LGBMModel or None, optional (default=None)\n |          Filename of LightGBM model, Booster instance or LGBMModel instance used for continue training.\n |\n |      Returns\n |      -------\n |      self : LGBMRegressor\n |          Returns self.\n |\n |\n |\n |      Note\n |      ----\n |      Custom eval function expects a callable with following signatures:\n |      ``func(y_true, y_pred)``, ``func(y_true, y_pred, weight)`` or\n |      ``func(y_true, y_pred, weight, group)``\n |      and returns (eval_name, eval_result, is_higher_better) or\n |      list of (eval_name, eval_result, is_higher_better):\n |\n |          y_true : numpy 1-D array of shape = [n_samples]\n |              The target values.\n |          y_pred : numpy 1-D array of shape = [n_samples] or numpy 2-D array of shape = [n_samples, n_classes] (for multi-class task)\n |              The predicted values.\n |              In case of custom ``objective``, predicted values are returned before any transformation,\n |              e.g. they are raw margin instead of probability of positive class for binary task in this case.\n |          weight : numpy 1-D array of shape = [n_samples]\n |              The weight of samples. Weights should be non-negative.\n |          group : numpy 1-D array\n |              Group/query data.\n |              Only used in the learning-to-rank task.\n |              sum(group) = n_samples.\n |              For example, if you have a 100-document dataset with ``group = [10, 20, 40, 10, 10, 10]``, that means that you have 6 groups,\n |              where the first 10 records are in the first group, records 11-30 are in the second group, records 31-70 are in the third group, etc.\n |          eval_name : str\n |              The name of evaluation function (without whitespace).\n |          eval_result : float\n |              The eval result.\n |          is_higher_better : bool\n |              Is eval result higher better, e.g. AUC is ``is_higher_better``.\n |\n |  predict(self, X: Union[lightgbm.compat.dt_DataTable, List[Union[List[float], List[int]]], numpy.ndarray, pandas.core.frame.DataFrame, scipy.sparse._matrix.spmatrix], raw_score: bool = False, start_iteration: int = 0, num_iteration: Optional[int] = None, pred_leaf: bool = False, pred_contrib: bool = False, validate_features: bool = False, **kwargs: Any) from lightgbm.sklearn.LGBMModel\n |      Return the predicted value for each sample.\n |\n |      Parameters\n |      ----------\n |      X : numpy array, pandas DataFrame, H2O DataTable's Frame , scipy.sparse, list of lists of int or float of shape = [n_samples, n_features]\n |          Input features matrix.\n |      raw_score : bool, optional (default=False)\n |          Whether to predict raw scores.\n |      start_iteration : int, optional (default=0)\n |          Start index of the iteration to predict.\n |          If <= 0, starts from the first iteration.\n |      num_iteration : int or None, optional (default=None)\n |          Total number of iterations used in the prediction.\n |          If None, if the best iteration exists and start_iteration <= 0, the best iteration is used;\n |          otherwise, all iterations from ``start_iteration`` are used (no limits).\n |          If <= 0, all iterations from ``start_iteration`` are used (no limits).\n |      pred_leaf : bool, optional (default=False)\n |          Whether to predict leaf index.\n |      pred_contrib : bool, optional (default=False)\n |          Whether to predict feature contributions.\n |\n |          .. note::\n |\n |              If you want to get more explanations for your model's predictions using SHAP values,\n |              like SHAP interaction values,\n |              you can install the shap package (https://github.com/slundberg/shap).\n |              Note that unlike the shap package, with ``pred_contrib`` we return a matrix with an extra\n |              column, where the last column is the expected value.\n |\n |      validate_features : bool, optional (default=False)\n |          If True, ensure that the features used to predict match the ones used to train.\n |          Used only if data is pandas DataFrame.\n |      **kwargs\n |          Other parameters for the prediction.\n |\n |      Returns\n |      -------\n |      predicted_result : array-like of shape = [n_samples] or shape = [n_samples, n_classes]\n |          The predicted values.\n |      X_leaves : array-like of shape = [n_samples, n_trees] or shape = [n_samples, n_trees * n_classes]\n |          If ``pred_leaf=True``, the predicted leaf of every tree for each sample.\n |      X_SHAP_values : array-like of shape = [n_samples, n_features + 1] or shape = [n_samples, (n_features + 1) * n_classes] or list with n_classes length of such objects\n |          If ``pred_contrib=True``, the feature contributions for each sample.\n |\n |  score(self, X, y, sample_weight=None) from sklearn.base.RegressorMixin\n |      Return the coefficient of determination of the prediction.\n |\n |      The coefficient of determination :math:`R^2` is defined as\n |      :math:`(1 - \\frac{u}{v})`, where :math:`u` is the residual\n |      sum of squares ``((y_true - y_pred)** 2).sum()`` and :math:`v`\n |      is the total sum of squares ``((y_true - y_true.mean()) ** 2).sum()``.\n |      The best possible score is 1.0 and it can be negative (because the\n |      model can be arbitrarily worse). A constant model that always predicts\n |      the expected value of `y`, disregarding the input features, would get\n |      a :math:`R^2` score of 0.0.\n |\n |      Parameters\n |      ----------\n |      X : array-like of shape (n_samples, n_features)\n |          Test samples. For some estimators this may be a precomputed\n |          kernel matrix or a list of generic objects instead with shape\n |          ``(n_samples, n_samples_fitted)``, where ``n_samples_fitted``\n |          is the number of samples used in the fitting for the estimator.\n |\n |      y : array-like of shape (n_samples,) or (n_samples, n_outputs)\n |          True values for `X`.\n |\n |      sample_weight : array-like of shape (n_samples,), default=None\n |          Sample weights.\n |\n |      Returns\n |      -------\n |      score : float\n |          :math:`R^2` of ``self.predict(X)`` w.r.t. `y`.\n |\n |      Notes\n |      -----\n |      The :math:`R^2` score used when calling ``score`` on a regressor uses\n |      ``multioutput='uniform_average'`` from version 0.23 to keep consistent\n |      with default value of :func:`~sklearn.metrics.r2_score`.\n |      This influences the ``score`` method of all the multioutput\n |      regressors (except for\n |      :class:`~sklearn.multioutput.MultiOutputRegressor`).\n |\n |  set_fit_request(self: lightgbm.sklearn.LGBMRegressor, *, callbacks: Union[bool, NoneType, str] = '$UNCHANGED$', categorical_feature: Union[bool, NoneType, str] = '$UNCHANGED$', eval_init_score: Union[bool, NoneType, str] = '$UNCHANGED$', eval_metric: Union[bool, NoneType, str] = '$UNCHANGED$', eval_names: Union[bool, NoneType, str] = '$UNCHANGED$', eval_sample_weight: Union[bool, NoneType, str] = '$UNCHANGED$', eval_set: Union[bool, NoneType, str] = '$UNCHANGED$', feature_name: Union[bool, NoneType, str] = '$UNCHANGED$', init_model: Union[bool, NoneType, str] = '$UNCHANGED$', init_score: Union[bool, NoneType, str] = '$UNCHANGED$', sample_weight: Union[bool, NoneType, str] = '$UNCHANGED$') -> lightgbm.sklearn.LGBMRegressor from sklearn.utils._metadata_requests.RequestMethod.__get__.<locals>\n |      Request metadata passed to the ``fit`` method.\n |\n |      Note that this method is only relevant if\n |      ``enable_metadata_routing=True`` (see :func:`sklearn.set_config`).\n |      Please see :ref:`User Guide <metadata_routing>` on how the routing\n |      mechanism works.\n |\n |      The options for each parameter are:\n |\n |      - ``True``: metadata is requested, and passed to ``fit`` if provided. The request is ignored if metadata is not provided.\n |\n |      - ``False``: metadata is not requested and the meta-estimator will not pass it to ``fit``.\n |\n |      - ``None``: metadata is not requested, and the meta-estimator will raise an error if the user provides it.\n |\n |      - ``str``: metadata should be passed to the meta-estimator with this given alias instead of the original name.\n |\n |      The default (``sklearn.utils.metadata_routing.UNCHANGED``) retains the\n |      existing request. This allows you to change the request for some\n |      parameters and not others.\n |\n |      .. versionadded:: 1.3\n |\n |      .. note::\n |          This method is only relevant if this estimator is used as a\n |          sub-estimator of a meta-estimator, e.g. used inside a\n |          :class:`~sklearn.pipeline.Pipeline`. Otherwise it has no effect.\n |\n |      Parameters\n |      ----------\n |      callbacks : str, True, False, or None,                     default=sklearn.utils.metadata_routing.UNCHANGED\n |          Metadata routing for ``callbacks`` parameter in ``fit``.\n |\n |      categorical_feature : str, True, False, or None,                     default=sklearn.utils.metadata_routing.UNCHANGED\n |          Metadata routing for ``categorical_feature`` parameter in ``fit``.\n |\n |      eval_init_score : str, True, False, or None,                     default=sklearn.utils.metadata_routing.UNCHANGED\n |          Metadata routing for ``eval_init_score`` parameter in ``fit``.\n |\n |      eval_metric : str, True, False, or None,                     default=sklearn.utils.metadata_routing.UNCHANGED\n |          Metadata routing for ``eval_metric`` parameter in ``fit``.\n |\n |      eval_names : str, True, False, or None,                     default=sklearn.utils.metadata_routing.UNCHANGED\n |          Metadata routing for ``eval_names`` parameter in ``fit``.\n |\n |      eval_sample_weight : str, True, False, or None,                     default=sklearn.utils.metadata_routing.UNCHANGED\n |          Metadata routing for ``eval_sample_weight`` parameter in ``fit``.\n |\n |      eval_set : str, True, False, or None,                     default=sklearn.utils.metadata_routing.UNCHANGED\n |          Metadata routing for ``eval_set`` parameter in ``fit``.\n |\n |      feature_name : str, True, False, or None,                     default=sklearn.utils.metadata_routing.UNCHANGED\n |          Metadata routing for ``feature_name`` parameter in ``fit``.\n |\n |      init_model : str, True, False, or None,                     default=sklearn.utils.metadata_routing.UNCHANGED\n |          Metadata routing for ``init_model`` parameter in ``fit``.\n |\n |      init_score : str, True, False, or None,                     default=sklearn.utils.metadata_routing.UNCHANGED\n |          Metadata routing for ``init_score`` parameter in ``fit``.\n |\n |      sample_weight : str, True, False, or None,                     default=sklearn.utils.metadata_routing.UNCHANGED\n |          Metadata routing for ``sample_weight`` parameter in ``fit``.\n |\n |      Returns\n |      -------\n |      self : object\n |          The updated object.\n |\n |  set_predict_request(self: lightgbm.sklearn.LGBMRegressor, *, num_iteration: Union[bool, NoneType, str] = '$UNCHANGED$', pred_contrib: Union[bool, NoneType, str] = '$UNCHANGED$', pred_leaf: Union[bool, NoneType, str] = '$UNCHANGED$', raw_score: Union[bool, NoneType, str] = '$UNCHANGED$', start_iteration: Union[bool, NoneType, str] = '$UNCHANGED$', validate_features: Union[bool, NoneType, str] = '$UNCHANGED$') -> lightgbm.sklearn.LGBMRegressor from sklearn.utils._metadata_requests.RequestMethod.__get__.<locals>\n |      Request metadata passed to the ``predict`` method.\n |\n |      Note that this method is only relevant if\n |      ``enable_metadata_routing=True`` (see :func:`sklearn.set_config`).\n |      Please see :ref:`User Guide <metadata_routing>` on how the routing\n |      mechanism works.\n |\n |      The options for each parameter are:\n |\n |      - ``True``: metadata is requested, and passed to ``predict`` if provided. The request is ignored if metadata is not provided.\n |\n |      - ``False``: metadata is not requested and the meta-estimator will not pass it to ``predict``.\n |\n |      - ``None``: metadata is not requested, and the meta-estimator will raise an error if the user provides it.\n |\n |      - ``str``: metadata should be passed to the meta-estimator with this given alias instead of the original name.\n |\n |      The default (``sklearn.utils.metadata_routing.UNCHANGED``) retains the\n |      existing request. This allows you to change the request for some\n |      parameters and not others.\n |\n |      .. versionadded:: 1.3\n |\n |      .. note::\n |          This method is only relevant if this estimator is used as a\n |          sub-estimator of a meta-estimator, e.g. used inside a\n |          :class:`~sklearn.pipeline.Pipeline`. Otherwise it has no effect.\n |\n |      Parameters\n |      ----------\n |      num_iteration : str, True, False, or None,                     default=sklearn.utils.metadata_routing.UNCHANGED\n |          Metadata routing for ``num_iteration`` parameter in ``predict``.\n |\n |      pred_contrib : str, True, False, or None,                     default=sklearn.utils.metadata_routing.UNCHANGED\n |          Metadata routing for ``pred_contrib`` parameter in ``predict``.\n |\n |      pred_leaf : str, True, False, or None,                     default=sklearn.utils.metadata_routing.UNCHANGED\n |          Metadata routing for ``pred_leaf`` parameter in ``predict``.\n |\n |      raw_score : str, True, False, or None,                     default=sklearn.utils.metadata_routing.UNCHANGED\n |          Metadata routing for ``raw_score`` parameter in ``predict``.\n |\n |      start_iteration : str, True, False, or None,                     default=sklearn.utils.metadata_routing.UNCHANGED\n |          Metadata routing for ``start_iteration`` parameter in ``predict``.\n |\n |      validate_features : str, True, False, or None,                     default=sklearn.utils.metadata_routing.UNCHANGED\n |          Metadata routing for ``validate_features`` parameter in ``predict``.\n |\n |      Returns\n |      -------\n |      self : object\n |          The updated object.\n |\n |  set_score_request(self: lightgbm.sklearn.LGBMRegressor, *, sample_weight: Union[bool, NoneType, str] = '$UNCHANGED$') -> lightgbm.sklearn.LGBMRegressor from sklearn.utils._metadata_requests.RequestMethod.__get__.<locals>\n |      Request metadata passed to the ``score`` method.\n |\n |      Note that this method is only relevant if\n |      ``enable_metadata_routing=True`` (see :func:`sklearn.set_config`).\n |      Please see :ref:`User Guide <metadata_routing>` on how the routing\n |      mechanism works.\n |\n |      The options for each parameter are:\n |\n |      - ``True``: metadata is requested, and passed to ``score`` if provided. The request is ignored if metadata is not provided.\n |\n |      - ``False``: metadata is not requested and the meta-estimator will not pass it to ``score``.\n |\n |      - ``None``: metadata is not requested, and the meta-estimator will raise an error if the user provides it.\n |\n |      - ``str``: metadata should be passed to the meta-estimator with this given alias instead of the original name.\n |\n |      The default (``sklearn.utils.metadata_routing.UNCHANGED``) retains the\n |      existing request. This allows you to change the request for some\n |      parameters and not others.\n |\n |      .. versionadded:: 1.3\n |\n |      .. note::\n |          This method is only relevant if this estimator is used as a\n |          sub-estimator of a meta-estimator, e.g. used inside a\n |          :class:`~sklearn.pipeline.Pipeline`. Otherwise it has no effect.\n |\n |      Parameters\n |      ----------\n |      sample_weight : str, True, False, or None,                     default=sklearn.utils.metadata_routing.UNCHANGED\n |          Metadata routing for ``sample_weight`` parameter in ``score``.\n |\n |      Returns\n |      -------\n |      self : object\n |          The updated object.\n |\n |  ----------------------------------------------------------------------\n |  Data descriptors inherited from sklearn.base.RegressorMixin:\n |\n |  __dict__\n |      dictionary for instance variables\n |\n |  __weakref__\n |      list of weak references to the object\n |\n |  ----------------------------------------------------------------------\n |  Methods inherited from LGBMModel:\n |\n |  __init__(self, boosting_type: str = 'gbdt', num_leaves: int = 31, max_depth: int = -1, learning_rate: float = 0.1, n_estimators: int = 100, subsample_for_bin: int = 200000, objective: Union[str, Callable[[Optional[numpy.ndarray], numpy.ndarray], Tuple[numpy.ndarray, numpy.ndarray]], Callable[[Optional[numpy.ndarray], numpy.ndarray, Optional[numpy.ndarray]], Tuple[numpy.ndarray, numpy.ndarray]], Callable[[Optional[numpy.ndarray], numpy.ndarray, Optional[numpy.ndarray], Optional[numpy.ndarray]], Tuple[numpy.ndarray, numpy.ndarray]], NoneType] = None, class_weight: Union[Dict, str, NoneType] = None, min_split_gain: float = 0.0, min_child_weight: float = 0.001, min_child_samples: int = 20, subsample: float = 1.0, subsample_freq: int = 0, colsample_bytree: float = 1.0, reg_alpha: float = 0.0, reg_lambda: float = 0.0, random_state: Union[int, numpy.random.mtrand.RandomState, numpy.random._generator.Generator, NoneType] = None, n_jobs: Optional[int] = None, importance_type: str = 'split', **kwargs: Any)\n |      Construct a gradient boosting model.\n |\n |      Parameters\n |      ----------\n |      boosting_type : str, optional (default='gbdt')\n |          'gbdt', traditional Gradient Boosting Decision Tree.\n |          'dart', Dropouts meet Multiple Additive Regression Trees.\n |          'rf', Random Forest.\n |      num_leaves : int, optional (default=31)\n |          Maximum tree leaves for base learners.\n |      max_depth : int, optional (default=-1)\n |          Maximum tree depth for base learners, <=0 means no limit.\n |          If setting this to a positive value, consider also changing ``num_leaves`` to ``<= 2^max_depth``.\n |      learning_rate : float, optional (default=0.1)\n |          Boosting learning rate.\n |          You can use ``callbacks`` parameter of ``fit`` method to shrink/adapt learning rate\n |          in training using ``reset_parameter`` callback.\n |          Note, that this will ignore the ``learning_rate`` argument in training.\n |      n_estimators : int, optional (default=100)\n |          Number of boosted trees to fit.\n |      subsample_for_bin : int, optional (default=200000)\n |          Number of samples for constructing bins.\n |      objective : str, callable or None, optional (default=None)\n |          Specify the learning task and the corresponding learning objective or\n |          a custom objective function to be used (see note below).\n |          Default: 'regression' for LGBMRegressor, 'binary' or 'multiclass' for LGBMClassifier, 'lambdarank' for LGBMRanker.\n |      class_weight : dict, 'balanced' or None, optional (default=None)\n |          Weights associated with classes in the form ``{class_label: weight}``.\n |          Use this parameter only for multi-class classification task;\n |          for binary classification task you may use ``is_unbalance`` or ``scale_pos_weight`` parameters.\n |          Note, that the usage of all these parameters will result in poor estimates of the individual class probabilities.\n |          You may want to consider performing probability calibration\n |          (https://scikit-learn.org/stable/modules/calibration.html) of your model.\n |          The 'balanced' mode uses the values of y to automatically adjust weights\n |          inversely proportional to class frequencies in the input data as ``n_samples / (n_classes * np.bincount(y))``.\n |          If None, all classes are supposed to have weight one.\n |          Note, that these weights will be multiplied with ``sample_weight`` (passed through the ``fit`` method)\n |          if ``sample_weight`` is specified.\n |      min_split_gain : float, optional (default=0.)\n |          Minimum loss reduction required to make a further partition on a leaf node of the tree.\n |      min_child_weight : float, optional (default=1e-3)\n |          Minimum sum of instance weight (Hessian) needed in a child (leaf).\n |      min_child_samples : int, optional (default=20)\n |          Minimum number of data needed in a child (leaf).\n |      subsample : float, optional (default=1.)\n |          Subsample ratio of the training instance.\n |      subsample_freq : int, optional (default=0)\n |          Frequency of subsample, <=0 means no enable.\n |      colsample_bytree : float, optional (default=1.)\n |          Subsample ratio of columns when constructing each tree.\n |      reg_alpha : float, optional (default=0.)\n |          L1 regularization term on weights.\n |      reg_lambda : float, optional (default=0.)\n |          L2 regularization term on weights.\n |      random_state : int, RandomState object or None, optional (default=None)\n |          Random number seed.\n |          If int, this number is used to seed the C++ code.\n |          If RandomState or Generator object (numpy), a random integer is picked based on its state to seed the C++ code.\n |          If None, default seeds in C++ code are used.\n |      n_jobs : int or None, optional (default=None)\n |          Number of parallel threads to use for training (can be changed at prediction time by\n |          passing it as an extra keyword argument).\n |\n |          For better performance, it is recommended to set this to the number of physical cores\n |          in the CPU.\n |\n |          Negative integers are interpreted as following joblib's formula (n_cpus + 1 + n_jobs), just like\n |          scikit-learn (so e.g. -1 means using all threads). A value of zero corresponds the default number of\n |          threads configured for OpenMP in the system. A value of ``None`` (the default) corresponds\n |          to using the number of physical cores in the system (its correct detection requires\n |          either the ``joblib`` or the ``psutil`` util libraries to be installed).\n |\n |          .. versionchanged:: 4.0.0\n |\n |      importance_type : str, optional (default='split')\n |          The type of feature importance to be filled into ``feature_importances_``.\n |          If 'split', result contains numbers of times the feature is used in a model.\n |          If 'gain', result contains total gains of splits which use the feature.\n |      **kwargs\n |          Other parameters for the model.\n |          Check http://lightgbm.readthedocs.io/en/latest/Parameters.html for more parameters.\n |\n |          .. warning::\n |\n |              \\*\\*kwargs is not supported in sklearn, it may cause unexpected issues.\n |\n |      Note\n |      ----\n |      A custom objective function can be provided for the ``objective`` parameter.\n |      In this case, it should have the signature\n |      ``objective(y_true, y_pred) -> grad, hess``,\n |      ``objective(y_true, y_pred, weight) -> grad, hess``\n |      or ``objective(y_true, y_pred, weight, group) -> grad, hess``:\n |\n |          y_true : numpy 1-D array of shape = [n_samples]\n |              The target values.\n |          y_pred : numpy 1-D array of shape = [n_samples] or numpy 2-D array of shape = [n_samples, n_classes] (for multi-class task)\n |              The predicted values.\n |              Predicted values are returned before any transformation,\n |              e.g. they are raw margin instead of probability of positive class for binary task.\n |          weight : numpy 1-D array of shape = [n_samples]\n |              The weight of samples. Weights should be non-negative.\n |          group : numpy 1-D array\n |              Group/query data.\n |              Only used in the learning-to-rank task.\n |              sum(group) = n_samples.\n |              For example, if you have a 100-document dataset with ``group = [10, 20, 40, 10, 10, 10]``, that means that you have 6 groups,\n |              where the first 10 records are in the first group, records 11-30 are in the second group, records 31-70 are in the third group, etc.\n |          grad : numpy 1-D array of shape = [n_samples] or numpy 2-D array of shape = [n_samples, n_classes] (for multi-class task)\n |              The value of the first order derivative (gradient) of the loss\n |              with respect to the elements of y_pred for each sample point.\n |          hess : numpy 1-D array of shape = [n_samples] or numpy 2-D array of shape = [n_samples, n_classes] (for multi-class task)\n |              The value of the second order derivative (Hessian) of the loss\n |              with respect to the elements of y_pred for each sample point.\n |\n |      For multi-class task, y_pred is a numpy 2-D array of shape = [n_samples, n_classes],\n |      and grad and hess should be returned in the same format.\n |\n |  __sklearn_is_fitted__(self) -> bool\n |\n |  get_params(self, deep: bool = True) -> Dict[str, Any]\n |      Get parameters for this estimator.\n |\n |      Parameters\n |      ----------\n |      deep : bool, optional (default=True)\n |          If True, will return the parameters for this estimator and\n |          contained subobjects that are estimators.\n |\n |      Returns\n |      -------\n |      params : dict\n |          Parameter names mapped to their values.\n |\n |  set_params(self, **params: Any) -> 'LGBMModel'\n |      Set the parameters of this estimator.\n |\n |      Parameters\n |      ----------\n |      **params\n |          Parameter names with their new values.\n |\n |      Returns\n |      -------\n |      self : object\n |          Returns self.\n |\n |  ----------------------------------------------------------------------\n |  Readonly properties inherited from LGBMModel:\n |\n |  best_iteration_\n |      :obj:`int`: The best iteration of fitted model if ``early_stopping()`` callback has been specified.\n |\n |  best_score_\n |      :obj:`dict`: The best score of fitted model.\n |\n |  booster_\n |      Booster: The underlying Booster of this model.\n |\n |  evals_result_\n |      :obj:`dict`: The evaluation results if validation sets have been specified.\n |\n |  feature_importances_\n |      :obj:`array` of shape = [n_features]: The feature importances (the higher, the more important).\n |\n |      .. note::\n |\n |          ``importance_type`` attribute is passed to the function\n |          to configure the type of importance values to be extracted.\n |\n |  feature_name_\n |      :obj:`list` of shape = [n_features]: The names of features.\n |\n |      .. note::\n |\n |          If input does not contain feature names, they will be added during fitting in the format ``Column_0``, ``Column_1``, ..., ``Column_N``.\n |\n |  feature_names_in_\n |      :obj:`array` of shape = [n_features]: scikit-learn compatible version of ``.feature_name_``.\n |\n |      .. versionadded:: 4.5.0\n |\n |  n_estimators_\n |      :obj:`int`: True number of boosting iterations performed.\n |\n |      This might be less than parameter ``n_estimators`` if early stopping was enabled or\n |      if boosting stopped early due to limits on complexity like ``min_gain_to_split``.\n |\n |      .. versionadded:: 4.0.0\n |\n |  n_features_\n |      :obj:`int`: The number of features of fitted model.\n |\n |  n_features_in_\n |      :obj:`int`: The number of features of fitted model.\n |\n |  n_iter_\n |      :obj:`int`: True number of boosting iterations performed.\n |\n |      This might be less than parameter ``n_estimators`` if early stopping was enabled or\n |      if boosting stopped early due to limits on complexity like ``min_gain_to_split``.\n |\n |      .. versionadded:: 4.0.0\n |\n |  objective_\n |      :obj:`str` or :obj:`callable`: The concrete objective used while fitting this model.\n |\n |  ----------------------------------------------------------------------\n |  Methods inherited from sklearn.base.BaseEstimator:\n |\n |  __getstate__(self)\n |      Helper for pickle.\n |\n |  __repr__(self, N_CHAR_MAX=700)\n |      Return repr(self).\n |\n |  __setstate__(self, state)\n |\n |  __sklearn_clone__(self)\n |\n |  ----------------------------------------------------------------------\n |  Methods inherited from sklearn.utils._metadata_requests._MetadataRequester:\n |\n |  get_metadata_routing(self)\n |      Get metadata routing of this object.\n |\n |      Please check :ref:`User Guide <metadata_routing>` on how the routing\n |      mechanism works.\n |\n |      Returns\n |      -------\n |      routing : MetadataRequest\n |          A :class:`~sklearn.utils.metadata_routing.MetadataRequest` encapsulating\n |          routing information.\n |\n |  ----------------------------------------------------------------------\n |  Class methods inherited from sklearn.utils._metadata_requests._MetadataRequester:\n |\n |  __init_subclass__(**kwargs)\n |      Set the ``set_{method}_request`` methods.\n |\n |      This uses PEP-487 [1]_ to set the ``set_{method}_request`` methods. It\n |      looks for the information available in the set default values which are\n |      set using ``__metadata_request__*`` class attributes, or inferred\n |      from method signatures.\n |\n |      The ``__metadata_request__*`` class attributes are used when a method\n |      does not explicitly accept a metadata through its arguments or if the\n |      developer would like to specify a request value for those metadata\n |      which are different from the default ``None``.\n |\n |      References\n |      ----------\n |      .. [1] https://www.python.org/dev/peps/pep-0487\n\n"
     ]
    }
   ],
   "source": [
    "import lightgbm\n",
    "from lightgbm import LGBMRegressor\n",
    "\n",
    "help(LGBMRegressor)"
   ]
  },
  {
   "cell_type": "markdown",
   "metadata": {
    "application/vnd.databricks.v1+cell": {
     "cellMetadata": {
      "byteLimit": 2048000,
      "rowLimit": 10000
     },
     "inputWidgets": {},
     "nuid": "b89b79f0-f538-4d6b-916d-012e68948194",
     "showTitle": false,
     "tableResultSettingsMap": {},
     "title": ""
    }
   },
   "source": [
    "### Define the objective function\n",
    "The objective function used to find optimal hyperparameters. By default, this notebook only runs\n",
    "this function once (`max_evals=1` in the `hyperopt.fmin` invocation) with fixed hyperparameters, but\n",
    "hyperparameters can be tuned by modifying `space`, defined below. `hyperopt.fmin` will then use this\n",
    "function's return value to search the space to minimize the loss."
   ]
  },
  {
   "cell_type": "code",
   "execution_count": 0,
   "metadata": {
    "application/vnd.databricks.v1+cell": {
     "cellMetadata": {
      "byteLimit": 2048000,
      "rowLimit": 10000
     },
     "inputWidgets": {},
     "nuid": "780f33c1-08df-4ab5-9dfd-b2009626e2ea",
     "showTitle": false,
     "tableResultSettingsMap": {},
     "title": ""
    },
    "execution": {
     "iopub.execute_input": "2025-02-26T23:59:34.852656Z",
     "iopub.status.busy": "2025-02-26T23:59:34.852380Z",
     "iopub.status.idle": "2025-02-26T23:59:37.307669Z",
     "shell.execute_reply": "2025-02-26T23:59:37.306860Z"
    }
   },
   "outputs": [
    {
     "output_type": "stream",
     "name": "stderr",
     "output_type": "stream",
     "text": [
      "WARNING:dbruntime.MLDeprecationWarning.hyperopt:Hyperopt is deprecated for Databricks runtime for machine learning and will not be pre-installed in the next major version.\n"
     ]
    },
    {
     "output_type": "stream",
     "name": "stdout",
     "output_type": "stream",
     "text": [
      "Warning: No categorical columns found. Calling 'transform' will only return input data.\n"
     ]
    }
   ],
   "source": [
    "import mlflow\n",
    "from mlflow.models import Model, infer_signature, ModelSignature\n",
    "from mlflow.pyfunc import PyFuncModel\n",
    "from mlflow import pyfunc\n",
    "import sklearn\n",
    "from sklearn import set_config\n",
    "from sklearn.pipeline import Pipeline\n",
    "from hyperopt import hp, tpe, fmin, STATUS_OK, Trials\n",
    "\n",
    "\n",
    "# Create a separate pipeline to transform the validation dataset. This is used for early stopping.\n",
    "pipeline_val = Pipeline([\n",
    "    (\"column_selector\", col_selector),\n",
    "    (\"preprocessor\", preprocessor),\n",
    "])\n",
    "\n",
    "mlflow.sklearn.autolog(disable=True)\n",
    "pipeline_val.fit(X_train, y_train)\n",
    "X_val_processed = pipeline_val.transform(X_val)\n",
    "\n",
    "def objective(params):\n",
    "  with mlflow.start_run(experiment_id=\"1286397497605697\") as mlflow_run:\n",
    "    lgbmr_regressor = LGBMRegressor(**params)\n",
    "\n",
    "    model = Pipeline([\n",
    "        (\"column_selector\", col_selector),\n",
    "        (\"preprocessor\", preprocessor),\n",
    "        (\"regressor\", lgbmr_regressor),\n",
    "    ])\n",
    "\n",
    "    # Enable automatic logging of input samples, metrics, parameters, and models\n",
    "    mlflow.sklearn.autolog(\n",
    "        log_input_examples=True,\n",
    "        silent=True,\n",
    "    )\n",
    "\n",
    "    model.fit(X_train, y_train, regressor__callbacks=[lightgbm.early_stopping(5), lightgbm.log_evaluation(0)], regressor__eval_set=[(X_val_processed,y_val)])\n",
    "\n",
    "    \n",
    "    # Log metrics for the training set\n",
    "    mlflow_model = Model()\n",
    "    pyfunc.add_to_model(mlflow_model, loader_module=\"mlflow.sklearn\")\n",
    "    pyfunc_model = PyFuncModel(model_meta=mlflow_model, model_impl=model)\n",
    "    training_eval_result = mlflow.evaluate(\n",
    "        model=pyfunc_model,\n",
    "        data=X_train.assign(**{str(target_col):y_train}),\n",
    "        targets=target_col,\n",
    "        model_type=\"regressor\",\n",
    "        evaluator_config = {\"log_model_explainability\": False,\n",
    "                            \"metric_prefix\": \"training_\"  }\n",
    "    )\n",
    "    # Log metrics for the validation set\n",
    "    val_eval_result = mlflow.evaluate(\n",
    "        model=pyfunc_model,\n",
    "        data=X_val.assign(**{str(target_col):y_val}),\n",
    "        targets=target_col,\n",
    "        model_type=\"regressor\",\n",
    "        evaluator_config= {\"log_model_explainability\": False,\n",
    "                           \"metric_prefix\": \"val_\"  }\n",
    "   )\n",
    "    lgbmr_val_metrics = val_eval_result.metrics\n",
    "    # Log metrics for the test set\n",
    "    test_eval_result = mlflow.evaluate(\n",
    "        model=pyfunc_model,\n",
    "        data=X_test.assign(**{str(target_col):y_test}),\n",
    "        targets=target_col,\n",
    "        model_type=\"regressor\",\n",
    "        evaluator_config= {\"log_model_explainability\": False,\n",
    "                           \"metric_prefix\": \"test_\"  }\n",
    "   )\n",
    "    lgbmr_test_metrics = test_eval_result.metrics\n",
    "\n",
    "    loss = -lgbmr_val_metrics[\"val_r2_score\"]\n",
    "\n",
    "    # Truncate metric key names so they can be displayed together\n",
    "    lgbmr_val_metrics = {k.replace(\"val_\", \"\"): v for k, v in lgbmr_val_metrics.items()}\n",
    "    lgbmr_test_metrics = {k.replace(\"test_\", \"\"): v for k, v in lgbmr_test_metrics.items()}\n",
    "\n",
    "    return {\n",
    "      \"loss\": loss,\n",
    "      \"status\": STATUS_OK,\n",
    "      \"val_metrics\": lgbmr_val_metrics,\n",
    "      \"test_metrics\": lgbmr_test_metrics,\n",
    "      \"model\": model,\n",
    "      \"run\": mlflow_run,\n",
    "    }"
   ]
  },
  {
   "cell_type": "markdown",
   "metadata": {
    "application/vnd.databricks.v1+cell": {
     "cellMetadata": {
      "byteLimit": 2048000,
      "rowLimit": 10000
     },
     "inputWidgets": {},
     "nuid": "f51207c4-5155-461a-8e15-e96a23a79ff0",
     "showTitle": false,
     "tableResultSettingsMap": {},
     "title": ""
    }
   },
   "source": [
    "### Configure the hyperparameter search space\n",
    "Configure the search space of parameters. Parameters below are all constant expressions but can be\n",
    "modified to widen the search space. For example, when training a decision tree regressor, to allow\n",
    "the maximum tree depth to be either 2 or 3, set the key of 'max_depth' to\n",
    "`hp.choice('max_depth', [2, 3])`. Be sure to also increase `max_evals` in the `fmin` call below.\n",
    "\n",
    "See https://docs.databricks.com/applications/machine-learning/automl-hyperparam-tuning/index.html\n",
    "for more information on hyperparameter tuning as well as\n",
    "http://hyperopt.github.io/hyperopt/getting-started/search_spaces/ for documentation on supported\n",
    "search expressions.\n",
    "\n",
    "For documentation on parameters used by the model in use, please see:\n",
    "https://lightgbm.readthedocs.io/en/stable/pythonapi/lightgbm.LGBMRegressor.html\n",
    "\n",
    "NOTE: The above URL points to a stable version of the documentation corresponding to the last\n",
    "released version of the package. The documentation may differ slightly for the package version\n",
    "used by this notebook."
   ]
  },
  {
   "cell_type": "code",
   "execution_count": 0,
   "metadata": {
    "application/vnd.databricks.v1+cell": {
     "cellMetadata": {
      "byteLimit": 2048000,
      "rowLimit": 10000
     },
     "inputWidgets": {},
     "nuid": "8e97fc6b-74c7-42f0-a27c-32a677e3ba5e",
     "showTitle": false,
     "tableResultSettingsMap": {},
     "title": ""
    },
    "execution": {
     "iopub.execute_input": "2025-02-26T23:59:37.311671Z",
     "iopub.status.busy": "2025-02-26T23:59:37.311404Z",
     "iopub.status.idle": "2025-02-26T23:59:37.316069Z",
     "shell.execute_reply": "2025-02-26T23:59:37.315104Z"
    }
   },
   "outputs": [],
   "source": [
    "space = {\n",
    "  \"colsample_bytree\": 0.6413570877368466,\n",
    "  \"lambda_l1\": 1.281286730594843,\n",
    "  \"lambda_l2\": 562.0645632662288,\n",
    "  \"learning_rate\": 0.45659599940182366,\n",
    "  \"max_bin\": 240,\n",
    "  \"max_depth\": 2,\n",
    "  \"min_child_samples\": 126,\n",
    "  \"n_estimators\": 834,\n",
    "  \"num_leaves\": 17,\n",
    "  \"subsample\": 0.6674565178654761,\n",
    "  \"random_state\": 372924344,\n",
    "}"
   ]
  },
  {
   "cell_type": "markdown",
   "metadata": {
    "application/vnd.databricks.v1+cell": {
     "cellMetadata": {
      "byteLimit": 2048000,
      "rowLimit": 10000
     },
     "inputWidgets": {},
     "nuid": "e9929c1f-9315-4048-8816-4492e4e60bef",
     "showTitle": false,
     "tableResultSettingsMap": {},
     "title": ""
    }
   },
   "source": [
    "### Run trials\n",
    "When widening the search space and training multiple models, switch to `SparkTrials` to parallelize\n",
    "training on Spark:\n",
    "```\n",
    "from hyperopt import SparkTrials\n",
    "trials = SparkTrials()\n",
    "```\n",
    "\n",
    "NOTE: While `Trials` starts an MLFlow run for each set of hyperparameters, `SparkTrials` only starts\n",
    "one top-level run; it will start a subrun for each set of hyperparameters.\n",
    "\n",
    "See http://hyperopt.github.io/hyperopt/scaleout/spark/ for more info."
   ]
  },
  {
   "cell_type": "code",
   "execution_count": 0,
   "metadata": {
    "application/vnd.databricks.v1+cell": {
     "cellMetadata": {
      "byteLimit": 2048000,
      "rowLimit": 10000
     },
     "inputWidgets": {},
     "nuid": "c5eb3951-260f-425f-842d-8c94d3ec4b32",
     "showTitle": false,
     "tableResultSettingsMap": {},
     "title": ""
    },
    "execution": {
     "iopub.execute_input": "2025-02-26T23:59:37.320641Z",
     "iopub.status.busy": "2025-02-26T23:59:37.320310Z",
     "iopub.status.idle": "2025-02-27T00:00:48.069749Z",
     "shell.execute_reply": "2025-02-27T00:00:48.068789Z"
    }
   },
   "outputs": [
    {
     "output_type": "stream",
     "name": "stdout",
     "output_type": "stream",
     "text": [
      "\r  0%|          | 0/1 [00:00<?, ?trial/s, best loss=?]\r                                                     \rWarning: No categorical columns found. Calling 'transform' will only return input data.\n\r  0%|          | 0/1 [00:01<?, ?trial/s, best loss=?]\r                                                     \r[LightGBM] [Warning] lambda_l2 is set=562.0645632662288, reg_lambda=0.0 will be ignored. Current value: lambda_l2=562.0645632662288\n\r  0%|          | 0/1 [00:01<?, ?trial/s, best loss=?]\r                                                     \r[LightGBM] [Warning] lambda_l1 is set=1.281286730594843, reg_alpha=0.0 will be ignored. Current value: lambda_l1=1.281286730594843\n\r  0%|          | 0/1 [00:01<?, ?trial/s, best loss=?]\r                                                     \r[LightGBM] [Warning] lambda_l2 is set=562.0645632662288, reg_lambda=0.0 will be ignored. Current value: lambda_l2=562.0645632662288\n\r  0%|          | 0/1 [00:01<?, ?trial/s, best loss=?]\r                                                     \r[LightGBM] [Warning] lambda_l1 is set=1.281286730594843, reg_alpha=0.0 will be ignored. Current value: lambda_l1=1.281286730594843\n\r  0%|          | 0/1 [00:01<?, ?trial/s, best loss=?]\r                                                     \r[LightGBM] [Info] Auto-choosing row-wise multi-threading, the overhead of testing was 0.000741 seconds.\nYou can set `force_row_wise=true` to remove the overhead.\nAnd if memory is not enough, you can set `force_col_wise=true`.\n\r  0%|          | 0/1 [00:01<?, ?trial/s, best loss=?]\r                                                     \r[LightGBM] [Info] Total Bins 7031\n\r  0%|          | 0/1 [00:01<?, ?trial/s, best loss=?]\r                                                     \r[LightGBM] [Info] Number of data points in the train set: 9423, number of used features: 36\n\r  0%|          | 0/1 [00:01<?, ?trial/s, best loss=?]\r                                                     \r[LightGBM] [Warning] lambda_l2 is set=562.0645632662288, reg_lambda=0.0 will be ignored. Current value: lambda_l2=562.0645632662288\n\r  0%|          | 0/1 [00:01<?, ?trial/s, best loss=?]\r                                                     \r[LightGBM] [Warning] lambda_l1 is set=1.281286730594843, reg_alpha=0.0 will be ignored. Current value: lambda_l1=1.281286730594843\n\r  0%|          | 0/1 [00:01<?, ?trial/s, best loss=?]\r                                                     \r[LightGBM] [Info] Start training from score 1.039418\n\r  0%|          | 0/1 [00:01<?, ?trial/s, best loss=?]\r                                                     \r[LightGBM] [Warning] No further splits with positive gain, best gain: -inf\n\r  0%|          | 0/1 [00:01<?, ?trial/s, best loss=?]\r                                                     \rTraining until validation scores don't improve for 5 rounds\n\r  0%|          | 0/1 [00:01<?, ?trial/s, best loss=?]\r                                                     \r[LightGBM] [Warning] No further splits with positive gain, best gain: -inf\n\r  0%|          | 0/1 [00:01<?, ?trial/s, best loss=?]\r                                                     \r[LightGBM] [Warning] No further splits with positive gain, best gain: -inf\n\r  0%|          | 0/1 [00:01<?, ?trial/s, best loss=?]\r                                                     \r[LightGBM] [Warning] No further splits with positive gain, best gain: -inf\n\r  0%|          | 0/1 [00:01<?, ?trial/s, best loss=?]\r                                                     \r[LightGBM] [Warning] No further splits with positive gain, best gain: -inf\n\r  0%|          | 0/1 [00:01<?, ?trial/s, best loss=?]\r                                                     \r[LightGBM] [Warning] No further splits with positive gain, best gain: -inf\n\r  0%|          | 0/1 [00:01<?, ?trial/s, best loss=?]\r                                                     \r[LightGBM] [Warning] No further splits with positive gain, best gain: -inf\n\r  0%|          | 0/1 [00:01<?, ?trial/s, best loss=?]\r                                                     \r[LightGBM] [Warning] No further splits with positive gain, best gain: -inf\n\r  0%|          | 0/1 [00:01<?, ?trial/s, best loss=?]\r                                                     \r[LightGBM] [Warning] No further splits with positive gain, best gain: -inf\n\r  0%|          | 0/1 [00:01<?, ?trial/s, best loss=?]\r                                                     \r[LightGBM] [Warning] No further splits with positive gain, best gain: -inf\n\r  0%|          | 0/1 [00:01<?, ?trial/s, best loss=?]\r                                                     \r[LightGBM] [Warning] No further splits with positive gain, best gain: -inf\n\r  0%|          | 0/1 [00:01<?, ?trial/s, best loss=?]\r                                                     \r[LightGBM] [Warning] No further splits with positive gain, best gain: -inf\n\r  0%|          | 0/1 [00:01<?, ?trial/s, best loss=?]\r                                                     \r[LightGBM] [Warning] No further splits with positive gain, best gain: -inf\n\r  0%|          | 0/1 [00:01<?, ?trial/s, best loss=?]\r                                                     \r[LightGBM] [Warning] No further splits with positive gain, best gain: -inf\n\r  0%|          | 0/1 [00:01<?, ?trial/s, best loss=?]\r                                                     \r[LightGBM] [Warning] No further splits with positive gain, best gain: -inf\n\r  0%|          | 0/1 [00:01<?, ?trial/s, best loss=?]\r                                                     \r[LightGBM] [Warning] No further splits with positive gain, best gain: -inf\n\r  0%|          | 0/1 [00:01<?, ?trial/s, best loss=?]\r                                                     \r[LightGBM] [Warning] No further splits with positive gain, best gain: -inf\n\r  0%|          | 0/1 [00:01<?, ?trial/s, best loss=?]\r                                                     \r[LightGBM] [Warning] No further splits with positive gain, best gain: -inf\n\r  0%|          | 0/1 [00:01<?, ?trial/s, best loss=?]\r                                                     \r[LightGBM] [Warning] No further splits with positive gain, best gain: -inf\n\r  0%|          | 0/1 [00:01<?, ?trial/s, best loss=?]\r                                                     \r[LightGBM] [Warning] No further splits with positive gain, best gain: -inf\n\r  0%|          | 0/1 [00:01<?, ?trial/s, best loss=?]\r                                                     \r[LightGBM] [Warning] No further splits with positive gain, best gain: -inf\n\r  0%|          | 0/1 [00:01<?, ?trial/s, best loss=?]\r                                                     \r[LightGBM] [Warning] No further splits with positive gain, best gain: -inf\n\r  0%|          | 0/1 [00:01<?, ?trial/s, best loss=?]\r                                                     \r[LightGBM] [Warning] No further splits with positive gain, best gain: -inf\n\r  0%|          | 0/1 [00:01<?, ?trial/s, best loss=?]\r                                                     \r[LightGBM] [Warning] No further splits with positive gain, best gain: -inf\n\r  0%|          | 0/1 [00:02<?, ?trial/s, best loss=?]\r                                                     \r[LightGBM] [Warning] No further splits with positive gain, best gain: -inf\n\r  0%|          | 0/1 [00:02<?, ?trial/s, best loss=?]\r                                                     \r[LightGBM] [Warning] No further splits with positive gain, best gain: -inf\n\r  0%|          | 0/1 [00:02<?, ?trial/s, best loss=?]\r                                                     \r[LightGBM] [Warning] No further splits with positive gain, best gain: -inf\n\r  0%|          | 0/1 [00:02<?, ?trial/s, best loss=?]\r                                                     \r[LightGBM] [Warning] No further splits with positive gain, best gain: -inf\n\r  0%|          | 0/1 [00:02<?, ?trial/s, best loss=?]\r                                                     \r[LightGBM] [Warning] No further splits with positive gain, best gain: -inf\n\r  0%|          | 0/1 [00:02<?, ?trial/s, best loss=?]\r                                                     \r[LightGBM] [Warning] No further splits with positive gain, best gain: -inf\n\r  0%|          | 0/1 [00:02<?, ?trial/s, best loss=?]\r                                                     \r[LightGBM] [Warning] No further splits with positive gain, best gain: -inf\n\r  0%|          | 0/1 [00:02<?, ?trial/s, best loss=?]\r                                                     \r[LightGBM] [Warning] No further splits with positive gain, best gain: -inf\n\r  0%|          | 0/1 [00:02<?, ?trial/s, best loss=?]\r                                                     \r[LightGBM] [Warning] No further splits with positive gain, best gain: -inf\n\r  0%|          | 0/1 [00:02<?, ?trial/s, best loss=?]\r                                                     \r[LightGBM] [Warning] No further splits with positive gain, best gain: -inf\n\r  0%|          | 0/1 [00:02<?, ?trial/s, best loss=?]\r                                                     \r[LightGBM] [Warning] No further splits with positive gain, best gain: -inf\n\r  0%|          | 0/1 [00:02<?, ?trial/s, best loss=?]\r                                                     \r[LightGBM] [Warning] No further splits with positive gain, best gain: -inf\n\r  0%|          | 0/1 [00:02<?, ?trial/s, best loss=?]\r                                                     \r[LightGBM] [Warning] No further splits with positive gain, best gain: -inf\n\r  0%|          | 0/1 [00:02<?, ?trial/s, best loss=?]\r                                                     \r[LightGBM] [Warning] No further splits with positive gain, best gain: -inf\n\r  0%|          | 0/1 [00:02<?, ?trial/s, best loss=?]\r                                                     \r[LightGBM] [Warning] No further splits with positive gain, best gain: -inf\n\r  0%|          | 0/1 [00:02<?, ?trial/s, best loss=?]\r                                                     \r[LightGBM] [Warning] No further splits with positive gain, best gain: -inf\n\r  0%|          | 0/1 [00:02<?, ?trial/s, best loss=?]\r                                                     \r[LightGBM] [Warning] No further splits with positive gain, best gain: -inf\n\r  0%|          | 0/1 [00:02<?, ?trial/s, best loss=?]\r                                                     \r[LightGBM] [Warning] No further splits with positive gain, best gain: -inf\n\r  0%|          | 0/1 [00:02<?, ?trial/s, best loss=?]\r                                                     \r[LightGBM] [Warning] No further splits with positive gain, best gain: -inf\n\r  0%|          | 0/1 [00:02<?, ?trial/s, best loss=?]\r                                                     \r[LightGBM] [Warning] No further splits with positive gain, best gain: -inf\n\r  0%|          | 0/1 [00:02<?, ?trial/s, best loss=?]\r                                                     \r[LightGBM] [Warning] No further splits with positive gain, best gain: -inf\n\r  0%|          | 0/1 [00:02<?, ?trial/s, best loss=?]\r                                                     \r[LightGBM] [Warning] No further splits with positive gain, best gain: -inf\n\r  0%|          | 0/1 [00:02<?, ?trial/s, best loss=?]\r                                                     \r[LightGBM] [Warning] No further splits with positive gain, best gain: -inf\n\r  0%|          | 0/1 [00:02<?, ?trial/s, best loss=?]\r                                                     \r[LightGBM] [Warning] No further splits with positive gain, best gain: -inf\n\r  0%|          | 0/1 [00:02<?, ?trial/s, best loss=?]\r                                                     \r[LightGBM] [Warning] No further splits with positive gain, best gain: -inf\n\r  0%|          | 0/1 [00:02<?, ?trial/s, best loss=?]\r                                                     \r[LightGBM] [Warning] No further splits with positive gain, best gain: -inf\n\r  0%|          | 0/1 [00:02<?, ?trial/s, best loss=?]\r                                                     \r[LightGBM] [Warning] No further splits with positive gain, best gain: -inf\n\r  0%|          | 0/1 [00:02<?, ?trial/s, best loss=?]\r                                                     \r[LightGBM] [Warning] No further splits with positive gain, best gain: -inf\n\r  0%|          | 0/1 [00:02<?, ?trial/s, best loss=?]\r                                                     \r[LightGBM] [Warning] No further splits with positive gain, best gain: -inf\n\r  0%|          | 0/1 [00:02<?, ?trial/s, best loss=?]\r                                                     \r[LightGBM] [Warning] No further splits with positive gain, best gain: -inf\n\r  0%|          | 0/1 [00:02<?, ?trial/s, best loss=?]\r                                                     \r[LightGBM] [Warning] No further splits with positive gain, best gain: -inf\n\r  0%|          | 0/1 [00:02<?, ?trial/s, best loss=?]\r                                                     \r[LightGBM] [Warning] No further splits with positive gain, best gain: -inf\n\r  0%|          | 0/1 [00:02<?, ?trial/s, best loss=?]\r                                                     \r[LightGBM] [Warning] No further splits with positive gain, best gain: -inf\n\r  0%|          | 0/1 [00:02<?, ?trial/s, best loss=?]\r                                                     \r[LightGBM] [Warning] No further splits with positive gain, best gain: -inf\n\r  0%|          | 0/1 [00:02<?, ?trial/s, best loss=?]\r                                                     \rEarly stopping, best iteration is:\n[53]\tvalid_0's l2: 0.0140824\n\r  0%|          | 0/1 [00:02<?, ?trial/s, best loss=?]\r                                                     \r[LightGBM] [Warning] lambda_l2 is set=562.0645632662288, reg_lambda=0.0 will be ignored. Current value: lambda_l2=562.0645632662288\n\r  0%|          | 0/1 [00:02<?, ?trial/s, best loss=?]\r                                                     \r[LightGBM] [Warning] lambda_l1 is set=1.281286730594843, reg_alpha=0.0 will be ignored. Current value: lambda_l1=1.281286730594843\n\r  0%|          | 0/1 [00:02<?, ?trial/s, best loss=?]\r                                                     \r[LightGBM] [Warning] lambda_l2 is set=562.0645632662288, reg_lambda=0.0 will be ignored. Current value: lambda_l2=562.0645632662288\n\r  0%|          | 0/1 [00:02<?, ?trial/s, best loss=?]\r                                                     \r[LightGBM] [Warning] lambda_l1 is set=1.281286730594843, reg_alpha=0.0 will be ignored. Current value: lambda_l1=1.281286730594843\n\r  0%|          | 0/1 [00:02<?, ?trial/s, best loss=?]\r                                                     \r[LightGBM] [Warning] lambda_l2 is set=562.0645632662288, reg_lambda=0.0 will be ignored. Current value: lambda_l2=562.0645632662288\n\r  0%|          | 0/1 [00:03<?, ?trial/s, best loss=?]\r                                                     \r[LightGBM] [Warning] lambda_l1 is set=1.281286730594843, reg_alpha=0.0 will be ignored. Current value: lambda_l1=1.281286730594843\n\r  0%|          | 0/1 [00:03<?, ?trial/s, best loss=?]"
     ]
    },
    {
     "output_type": "display_data",
     "data": {
      "application/vnd.jupyter.widget-view+json": {
       "model_id": "f4ccdba2ad2849439302d4109479a887",
       "version_major": 2,
       "version_minor": 0
      },
      "text/plain": [
       "Uploading artifacts:   0%|          | 0/11 [00:00<?, ?it/s]"
      ]
     },
     "metadata": {},
     "output_type": "display_data"
    },
    {
     "output_type": "display_data",
     "data": {
      "application/vnd.jupyter.widget-view+json": {
       "model_id": "c76e7dbc640640eba286effb7d2edfbe",
       "version_major": 2,
       "version_minor": 0
      },
      "text/plain": [
       "Downloading artifacts:   0%|          | 0/11 [00:00<?, ?it/s]"
      ]
     },
     "metadata": {},
     "output_type": "display_data"
    },
    {
     "output_type": "stream",
     "name": "stdout",
     "output_type": "stream",
     "text": [
      "\r                                                     \r[LightGBM] [Warning] lambda_l2 is set=562.0645632662288, reg_lambda=0.0 will be ignored. Current value: lambda_l2=562.0645632662288\n\r  0%|          | 0/1 [00:17<?, ?trial/s, best loss=?]\r                                                     \r[LightGBM] [Warning] lambda_l1 is set=1.281286730594843, reg_alpha=0.0 will be ignored. Current value: lambda_l1=1.281286730594843\n\r  0%|          | 0/1 [00:17<?, ?trial/s, best loss=?]"
     ]
    },
    {
     "output_type": "stream",
     "name": "stderr",
     "output_type": "stream",
     "text": [
      "2025/02/27 01:40:53 INFO mlflow.models.evaluation.default_evaluator: Computing model predictions.\n\n2025/02/27 01:40:53 WARNING mlflow.utils.autologging_utils: You are using an unsupported version of langchain. If you encounter errors during autologging, try upgrading / downgrading langchain to a supported version, or try upgrading MLflow.\n\n"
     ]
    },
    {
     "output_type": "stream",
     "name": "stdout",
     "output_type": "stream",
     "text": [
      "\r                                                     \r[LightGBM] [Warning] lambda_l2 is set=562.0645632662288, reg_lambda=0.0 will be ignored. Current value: lambda_l2=562.0645632662288\n\r  0%|          | 0/1 [00:19<?, ?trial/s, best loss=?]\r                                                     \r[LightGBM] [Warning] lambda_l1 is set=1.281286730594843, reg_alpha=0.0 will be ignored. Current value: lambda_l1=1.281286730594843\n\r  0%|          | 0/1 [00:19<?, ?trial/s, best loss=?]"
     ]
    },
    {
     "output_type": "stream",
     "name": "stderr",
     "output_type": "stream",
     "text": [
      "2025/02/27 01:40:53 WARNING mlflow.utils.autologging_utils: You are using an unsupported version of langchain. If you encounter errors during autologging, try upgrading / downgrading langchain to a supported version, or try upgrading MLflow.\n\n"
     ]
    },
    {
     "output_type": "stream",
     "name": "stdout",
     "output_type": "stream",
     "text": [
      "\r                                                     \r[LightGBM] [Warning] lambda_l2 is set=562.0645632662288, reg_lambda=0.0 will be ignored. Current value: lambda_l2=562.0645632662288\n\r  0%|          | 0/1 [00:19<?, ?trial/s, best loss=?]\r                                                     \r[LightGBM] [Warning] lambda_l1 is set=1.281286730594843, reg_alpha=0.0 will be ignored. Current value: lambda_l1=1.281286730594843\n\r  0%|          | 0/1 [00:19<?, ?trial/s, best loss=?]"
     ]
    },
    {
     "output_type": "stream",
     "name": "stderr",
     "output_type": "stream",
     "text": [
      "/databricks/python/lib/python3.12/site-packages/sklearn/metrics/_regression.py:483: FutureWarning: 'squared' is deprecated in version 1.4 and will be removed in 1.6. To calculate the root mean squared error, use the function'root_mean_squared_error'.\n  warnings.warn(\n\n2025/02/27 01:40:54 INFO mlflow.models.evaluation.default_evaluator: Testing metrics on first row...\n\n2025/02/27 01:40:54 INFO mlflow.models.evaluation.default_evaluator: Computing model predictions.\n\n2025/02/27 01:40:54 WARNING mlflow.utils.autologging_utils: You are using an unsupported version of langchain. If you encounter errors during autologging, try upgrading / downgrading langchain to a supported version, or try upgrading MLflow.\n\n"
     ]
    },
    {
     "output_type": "stream",
     "name": "stdout",
     "output_type": "stream",
     "text": [
      "\r                                                     \r[LightGBM] [Warning] lambda_l2 is set=562.0645632662288, reg_lambda=0.0 will be ignored. Current value: lambda_l2=562.0645632662288\n\r  0%|          | 0/1 [00:20<?, ?trial/s, best loss=?]\r                                                     \r[LightGBM] [Warning] lambda_l1 is set=1.281286730594843, reg_alpha=0.0 will be ignored. Current value: lambda_l1=1.281286730594843\n\r  0%|          | 0/1 [00:20<?, ?trial/s, best loss=?]"
     ]
    },
    {
     "output_type": "stream",
     "name": "stderr",
     "output_type": "stream",
     "text": [
      "2025/02/27 01:40:54 WARNING mlflow.utils.autologging_utils: You are using an unsupported version of langchain. If you encounter errors during autologging, try upgrading / downgrading langchain to a supported version, or try upgrading MLflow.\n\n"
     ]
    },
    {
     "output_type": "stream",
     "name": "stdout",
     "output_type": "stream",
     "text": [
      "\r                                                     \r[LightGBM] [Warning] lambda_l2 is set=562.0645632662288, reg_lambda=0.0 will be ignored. Current value: lambda_l2=562.0645632662288\n\r  0%|          | 0/1 [00:20<?, ?trial/s, best loss=?]\r                                                     \r[LightGBM] [Warning] lambda_l1 is set=1.281286730594843, reg_alpha=0.0 will be ignored. Current value: lambda_l1=1.281286730594843\n\r  0%|          | 0/1 [00:20<?, ?trial/s, best loss=?]"
     ]
    },
    {
     "output_type": "stream",
     "name": "stderr",
     "output_type": "stream",
     "text": [
      "/databricks/python/lib/python3.12/site-packages/sklearn/metrics/_regression.py:483: FutureWarning: 'squared' is deprecated in version 1.4 and will be removed in 1.6. To calculate the root mean squared error, use the function'root_mean_squared_error'.\n  warnings.warn(\n\n2025/02/27 01:40:54 INFO mlflow.models.evaluation.default_evaluator: Testing metrics on first row...\n\n2025/02/27 01:40:55 INFO mlflow.models.evaluation.default_evaluator: Computing model predictions.\n\n2025/02/27 01:40:55 WARNING mlflow.utils.autologging_utils: You are using an unsupported version of langchain. If you encounter errors during autologging, try upgrading / downgrading langchain to a supported version, or try upgrading MLflow.\n\n"
     ]
    },
    {
     "output_type": "stream",
     "name": "stdout",
     "output_type": "stream",
     "text": [
      "\r                                                     \r[LightGBM] [Warning] lambda_l2 is set=562.0645632662288, reg_lambda=0.0 will be ignored. Current value: lambda_l2=562.0645632662288\n\r  0%|          | 0/1 [00:21<?, ?trial/s, best loss=?]\r                                                     \r[LightGBM] [Warning] lambda_l1 is set=1.281286730594843, reg_alpha=0.0 will be ignored. Current value: lambda_l1=1.281286730594843\n\r  0%|          | 0/1 [00:21<?, ?trial/s, best loss=?]"
     ]
    },
    {
     "output_type": "stream",
     "name": "stderr",
     "output_type": "stream",
     "text": [
      "2025/02/27 01:40:55 WARNING mlflow.utils.autologging_utils: You are using an unsupported version of langchain. If you encounter errors during autologging, try upgrading / downgrading langchain to a supported version, or try upgrading MLflow.\n\n"
     ]
    },
    {
     "output_type": "stream",
     "name": "stdout",
     "output_type": "stream",
     "text": [
      "\r                                                     \r[LightGBM] [Warning] lambda_l2 is set=562.0645632662288, reg_lambda=0.0 will be ignored. Current value: lambda_l2=562.0645632662288\n\r  0%|          | 0/1 [00:21<?, ?trial/s, best loss=?]\r                                                     \r[LightGBM] [Warning] lambda_l1 is set=1.281286730594843, reg_alpha=0.0 will be ignored. Current value: lambda_l1=1.281286730594843\n\r  0%|          | 0/1 [00:21<?, ?trial/s, best loss=?]"
     ]
    },
    {
     "output_type": "stream",
     "name": "stderr",
     "output_type": "stream",
     "text": [
      "/databricks/python/lib/python3.12/site-packages/sklearn/metrics/_regression.py:483: FutureWarning: 'squared' is deprecated in version 1.4 and will be removed in 1.6. To calculate the root mean squared error, use the function'root_mean_squared_error'.\n  warnings.warn(\n\n2025/02/27 01:40:56 INFO mlflow.models.evaluation.default_evaluator: Testing metrics on first row...\n\n2025/02/27 01:40:56 INFO mlflow.tracking._tracking_service.client: 🏃 View run rebellious-foal-905 at: adb-6229616931294414.14.azuredatabricks.net/ml/experiments/1286397497605697/runs/bde1fd8c306449f282e030378381458a.\n\n2025/02/27 01:40:56 INFO mlflow.tracking._tracking_service.client: 🧪 View experiment at: adb-6229616931294414.14.azuredatabricks.net/ml/experiments/1286397497605697.\n\n"
     ]
    },
    {
     "output_type": "stream",
     "name": "stdout",
     "output_type": "stream",
     "text": [
      "\r100%|██████████| 1/1 [00:21<00:00, 21.93s/trial, best loss: -0.635514969395893]\r100%|██████████| 1/1 [00:21<00:00, 21.93s/trial, best loss: -0.635514969395893]\n"
     ]
    },
    {
     "output_type": "display_data",
     "data": {
      "text/html": [
       "<style scoped>\n",
       "  .table-result-container {\n",
       "    max-height: 300px;\n",
       "    overflow: auto;\n",
       "  }\n",
       "  table, th, td {\n",
       "    border: 1px solid black;\n",
       "    border-collapse: collapse;\n",
       "  }\n",
       "  th, td {\n",
       "    padding: 5px;\n",
       "  }\n",
       "  th {\n",
       "    text-align: left;\n",
       "  }\n",
       "</style><div class='table-result-container'><table class='table-result'><thead style='background-color: white'><tr><th>split</th><th>score</th><th>example_count</th><th>mean_absolute_error</th><th>mean_squared_error</th><th>root_mean_squared_error</th><th>sum_on_target</th><th>mean_on_target</th><th>r2_score</th><th>max_error</th><th>mean_absolute_percentage_error</th></tr></thead><tbody><tr><td>validation</td><td>0.635514969395893</td><td>3141</td><td>0.08952204019071838</td><td>0.014082435658540435</td><td>0.11866943860379738</td><td>3231.0786052189983</td><td>1.028678320668258</td><td>0.635514969395893</td><td>1.456790592798919</td><td>3.108567464240857E12</td></tr><tr><td>test</td><td>0.5452066265679875</td><td>3141</td><td>0.08550862761826482</td><td>0.01366552029413502</td><td>0.11689961631303594</td><td>3470.7827868030045</td><td>1.1049929279856747</td><td>0.5452066265679875</td><td>1.6887229301413402</td><td>1.1871242660659634E12</td></tr></tbody></table></div>"
      ]
     },
     "metadata": {
      "application/vnd.databricks.v1+output": {
       "addedWidgets": {},
       "aggData": [],
       "aggError": "",
       "aggOverflow": false,
       "aggSchema": [],
       "aggSeriesLimitReached": false,
       "aggType": "",
       "arguments": {},
       "columnCustomDisplayInfos": {},
       "data": [
        [
         "validation",
         0.635514969395893,
         3141,
         0.08952204019071838,
         0.014082435658540435,
         0.11866943860379738,
         3231.0786052189983,
         1.028678320668258,
         0.635514969395893,
         1.456790592798919,
         3.108567464240857E12
        ],
        [
         "test",
         0.5452066265679875,
         3141,
         0.08550862761826482,
         0.01366552029413502,
         0.11689961631303594,
         3470.7827868030045,
         1.1049929279856747,
         0.5452066265679875,
         1.6887229301413402,
         1.1871242660659634E12
        ]
       ],
       "datasetInfos": [],
       "dbfsResultPath": null,
       "isJsonSchema": true,
       "metadata": {},
       "overflow": false,
       "plotOptions": {
        "customPlotOptions": {},
        "displayType": "table",
        "pivotAggregation": null,
        "pivotColumns": null,
        "xColumns": null,
        "yColumns": null
       },
       "removedWidgets": [],
       "schema": [
        {
         "metadata": "{}",
         "name": "split",
         "type": "\"string\""
        },
        {
         "metadata": "{}",
         "name": "score",
         "type": "\"double\""
        },
        {
         "metadata": "{}",
         "name": "example_count",
         "type": "\"long\""
        },
        {
         "metadata": "{}",
         "name": "mean_absolute_error",
         "type": "\"double\""
        },
        {
         "metadata": "{}",
         "name": "mean_squared_error",
         "type": "\"double\""
        },
        {
         "metadata": "{}",
         "name": "root_mean_squared_error",
         "type": "\"double\""
        },
        {
         "metadata": "{}",
         "name": "sum_on_target",
         "type": "\"double\""
        },
        {
         "metadata": "{}",
         "name": "mean_on_target",
         "type": "\"double\""
        },
        {
         "metadata": "{}",
         "name": "r2_score",
         "type": "\"double\""
        },
        {
         "metadata": "{}",
         "name": "max_error",
         "type": "\"double\""
        },
        {
         "metadata": "{}",
         "name": "mean_absolute_percentage_error",
         "type": "\"double\""
        }
       ],
       "type": "table"
      }
     },
     "output_type": "display_data"
    },
    {
     "output_type": "execute_result",
     "data": {
      "text/html": [
       "<style>#sk-container-id-2 {\n",
       "  /* Definition of color scheme common for light and dark mode */\n",
       "  --sklearn-color-text: black;\n",
       "  --sklearn-color-line: gray;\n",
       "  /* Definition of color scheme for unfitted estimators */\n",
       "  --sklearn-color-unfitted-level-0: #fff5e6;\n",
       "  --sklearn-color-unfitted-level-1: #f6e4d2;\n",
       "  --sklearn-color-unfitted-level-2: #ffe0b3;\n",
       "  --sklearn-color-unfitted-level-3: chocolate;\n",
       "  /* Definition of color scheme for fitted estimators */\n",
       "  --sklearn-color-fitted-level-0: #f0f8ff;\n",
       "  --sklearn-color-fitted-level-1: #d4ebff;\n",
       "  --sklearn-color-fitted-level-2: #b3dbfd;\n",
       "  --sklearn-color-fitted-level-3: cornflowerblue;\n",
       "\n",
       "  /* Specific color for light theme */\n",
       "  --sklearn-color-text-on-default-background: var(--sg-text-color, var(--theme-code-foreground, var(--jp-content-font-color1, black)));\n",
       "  --sklearn-color-background: var(--sg-background-color, var(--theme-background, var(--jp-layout-color0, white)));\n",
       "  --sklearn-color-border-box: var(--sg-text-color, var(--theme-code-foreground, var(--jp-content-font-color1, black)));\n",
       "  --sklearn-color-icon: #696969;\n",
       "\n",
       "  @media (prefers-color-scheme: dark) {\n",
       "    /* Redefinition of color scheme for dark theme */\n",
       "    --sklearn-color-text-on-default-background: var(--sg-text-color, var(--theme-code-foreground, var(--jp-content-font-color1, white)));\n",
       "    --sklearn-color-background: var(--sg-background-color, var(--theme-background, var(--jp-layout-color0, #111)));\n",
       "    --sklearn-color-border-box: var(--sg-text-color, var(--theme-code-foreground, var(--jp-content-font-color1, white)));\n",
       "    --sklearn-color-icon: #878787;\n",
       "  }\n",
       "}\n",
       "\n",
       "#sk-container-id-2 {\n",
       "  color: var(--sklearn-color-text);\n",
       "}\n",
       "\n",
       "#sk-container-id-2 pre {\n",
       "  padding: 0;\n",
       "}\n",
       "\n",
       "#sk-container-id-2 input.sk-hidden--visually {\n",
       "  border: 0;\n",
       "  clip: rect(1px 1px 1px 1px);\n",
       "  clip: rect(1px, 1px, 1px, 1px);\n",
       "  height: 1px;\n",
       "  margin: -1px;\n",
       "  overflow: hidden;\n",
       "  padding: 0;\n",
       "  position: absolute;\n",
       "  width: 1px;\n",
       "}\n",
       "\n",
       "#sk-container-id-2 div.sk-dashed-wrapped {\n",
       "  border: 1px dashed var(--sklearn-color-line);\n",
       "  margin: 0 0.4em 0.5em 0.4em;\n",
       "  box-sizing: border-box;\n",
       "  padding-bottom: 0.4em;\n",
       "  background-color: var(--sklearn-color-background);\n",
       "}\n",
       "\n",
       "#sk-container-id-2 div.sk-container {\n",
       "  /* jupyter's `normalize.less` sets `[hidden] { display: none; }`\n",
       "     but bootstrap.min.css set `[hidden] { display: none !important; }`\n",
       "     so we also need the `!important` here to be able to override the\n",
       "     default hidden behavior on the sphinx rendered scikit-learn.org.\n",
       "     See: https://github.com/scikit-learn/scikit-learn/issues/21755 */\n",
       "  display: inline-block !important;\n",
       "  position: relative;\n",
       "}\n",
       "\n",
       "#sk-container-id-2 div.sk-text-repr-fallback {\n",
       "  display: none;\n",
       "}\n",
       "\n",
       "div.sk-parallel-item,\n",
       "div.sk-serial,\n",
       "div.sk-item {\n",
       "  /* draw centered vertical line to link estimators */\n",
       "  background-image: linear-gradient(var(--sklearn-color-text-on-default-background), var(--sklearn-color-text-on-default-background));\n",
       "  background-size: 2px 100%;\n",
       "  background-repeat: no-repeat;\n",
       "  background-position: center center;\n",
       "}\n",
       "\n",
       "/* Parallel-specific style estimator block */\n",
       "\n",
       "#sk-container-id-2 div.sk-parallel-item::after {\n",
       "  content: \"\";\n",
       "  width: 100%;\n",
       "  border-bottom: 2px solid var(--sklearn-color-text-on-default-background);\n",
       "  flex-grow: 1;\n",
       "}\n",
       "\n",
       "#sk-container-id-2 div.sk-parallel {\n",
       "  display: flex;\n",
       "  align-items: stretch;\n",
       "  justify-content: center;\n",
       "  background-color: var(--sklearn-color-background);\n",
       "  position: relative;\n",
       "}\n",
       "\n",
       "#sk-container-id-2 div.sk-parallel-item {\n",
       "  display: flex;\n",
       "  flex-direction: column;\n",
       "}\n",
       "\n",
       "#sk-container-id-2 div.sk-parallel-item:first-child::after {\n",
       "  align-self: flex-end;\n",
       "  width: 50%;\n",
       "}\n",
       "\n",
       "#sk-container-id-2 div.sk-parallel-item:last-child::after {\n",
       "  align-self: flex-start;\n",
       "  width: 50%;\n",
       "}\n",
       "\n",
       "#sk-container-id-2 div.sk-parallel-item:only-child::after {\n",
       "  width: 0;\n",
       "}\n",
       "\n",
       "/* Serial-specific style estimator block */\n",
       "\n",
       "#sk-container-id-2 div.sk-serial {\n",
       "  display: flex;\n",
       "  flex-direction: column;\n",
       "  align-items: center;\n",
       "  background-color: var(--sklearn-color-background);\n",
       "  padding-right: 1em;\n",
       "  padding-left: 1em;\n",
       "}\n",
       "\n",
       "\n",
       "/* Toggleable style: style used for estimator/Pipeline/ColumnTransformer box that is\n",
       "clickable and can be expanded/collapsed.\n",
       "- Pipeline and ColumnTransformer use this feature and define the default style\n",
       "- Estimators will overwrite some part of the style using the `sk-estimator` class\n",
       "*/\n",
       "\n",
       "/* Pipeline and ColumnTransformer style (default) */\n",
       "\n",
       "#sk-container-id-2 div.sk-toggleable {\n",
       "  /* Default theme specific background. It is overwritten whether we have a\n",
       "  specific estimator or a Pipeline/ColumnTransformer */\n",
       "  background-color: var(--sklearn-color-background);\n",
       "}\n",
       "\n",
       "/* Toggleable label */\n",
       "#sk-container-id-2 label.sk-toggleable__label {\n",
       "  cursor: pointer;\n",
       "  display: block;\n",
       "  width: 100%;\n",
       "  margin-bottom: 0;\n",
       "  padding: 0.5em;\n",
       "  box-sizing: border-box;\n",
       "  text-align: center;\n",
       "}\n",
       "\n",
       "#sk-container-id-2 label.sk-toggleable__label-arrow:before {\n",
       "  /* Arrow on the left of the label */\n",
       "  content: \"▸\";\n",
       "  float: left;\n",
       "  margin-right: 0.25em;\n",
       "  color: var(--sklearn-color-icon);\n",
       "}\n",
       "\n",
       "#sk-container-id-2 label.sk-toggleable__label-arrow:hover:before {\n",
       "  color: var(--sklearn-color-text);\n",
       "}\n",
       "\n",
       "/* Toggleable content - dropdown */\n",
       "\n",
       "#sk-container-id-2 div.sk-toggleable__content {\n",
       "  max-height: 0;\n",
       "  max-width: 0;\n",
       "  overflow: hidden;\n",
       "  text-align: left;\n",
       "  /* unfitted */\n",
       "  background-color: var(--sklearn-color-unfitted-level-0);\n",
       "}\n",
       "\n",
       "#sk-container-id-2 div.sk-toggleable__content.fitted {\n",
       "  /* fitted */\n",
       "  background-color: var(--sklearn-color-fitted-level-0);\n",
       "}\n",
       "\n",
       "#sk-container-id-2 div.sk-toggleable__content pre {\n",
       "  margin: 0.2em;\n",
       "  border-radius: 0.25em;\n",
       "  color: var(--sklearn-color-text);\n",
       "  /* unfitted */\n",
       "  background-color: var(--sklearn-color-unfitted-level-0);\n",
       "}\n",
       "\n",
       "#sk-container-id-2 div.sk-toggleable__content.fitted pre {\n",
       "  /* unfitted */\n",
       "  background-color: var(--sklearn-color-fitted-level-0);\n",
       "}\n",
       "\n",
       "#sk-container-id-2 input.sk-toggleable__control:checked~div.sk-toggleable__content {\n",
       "  /* Expand drop-down */\n",
       "  max-height: 200px;\n",
       "  max-width: 100%;\n",
       "  overflow: auto;\n",
       "}\n",
       "\n",
       "#sk-container-id-2 input.sk-toggleable__control:checked~label.sk-toggleable__label-arrow:before {\n",
       "  content: \"▾\";\n",
       "}\n",
       "\n",
       "/* Pipeline/ColumnTransformer-specific style */\n",
       "\n",
       "#sk-container-id-2 div.sk-label input.sk-toggleable__control:checked~label.sk-toggleable__label {\n",
       "  color: var(--sklearn-color-text);\n",
       "  background-color: var(--sklearn-color-unfitted-level-2);\n",
       "}\n",
       "\n",
       "#sk-container-id-2 div.sk-label.fitted input.sk-toggleable__control:checked~label.sk-toggleable__label {\n",
       "  background-color: var(--sklearn-color-fitted-level-2);\n",
       "}\n",
       "\n",
       "/* Estimator-specific style */\n",
       "\n",
       "/* Colorize estimator box */\n",
       "#sk-container-id-2 div.sk-estimator input.sk-toggleable__control:checked~label.sk-toggleable__label {\n",
       "  /* unfitted */\n",
       "  background-color: var(--sklearn-color-unfitted-level-2);\n",
       "}\n",
       "\n",
       "#sk-container-id-2 div.sk-estimator.fitted input.sk-toggleable__control:checked~label.sk-toggleable__label {\n",
       "  /* fitted */\n",
       "  background-color: var(--sklearn-color-fitted-level-2);\n",
       "}\n",
       "\n",
       "#sk-container-id-2 div.sk-label label.sk-toggleable__label,\n",
       "#sk-container-id-2 div.sk-label label {\n",
       "  /* The background is the default theme color */\n",
       "  color: var(--sklearn-color-text-on-default-background);\n",
       "}\n",
       "\n",
       "/* On hover, darken the color of the background */\n",
       "#sk-container-id-2 div.sk-label:hover label.sk-toggleable__label {\n",
       "  color: var(--sklearn-color-text);\n",
       "  background-color: var(--sklearn-color-unfitted-level-2);\n",
       "}\n",
       "\n",
       "/* Label box, darken color on hover, fitted */\n",
       "#sk-container-id-2 div.sk-label.fitted:hover label.sk-toggleable__label.fitted {\n",
       "  color: var(--sklearn-color-text);\n",
       "  background-color: var(--sklearn-color-fitted-level-2);\n",
       "}\n",
       "\n",
       "/* Estimator label */\n",
       "\n",
       "#sk-container-id-2 div.sk-label label {\n",
       "  font-family: monospace;\n",
       "  font-weight: bold;\n",
       "  display: inline-block;\n",
       "  line-height: 1.2em;\n",
       "}\n",
       "\n",
       "#sk-container-id-2 div.sk-label-container {\n",
       "  text-align: center;\n",
       "}\n",
       "\n",
       "/* Estimator-specific */\n",
       "#sk-container-id-2 div.sk-estimator {\n",
       "  font-family: monospace;\n",
       "  border: 1px dotted var(--sklearn-color-border-box);\n",
       "  border-radius: 0.25em;\n",
       "  box-sizing: border-box;\n",
       "  margin-bottom: 0.5em;\n",
       "  /* unfitted */\n",
       "  background-color: var(--sklearn-color-unfitted-level-0);\n",
       "}\n",
       "\n",
       "#sk-container-id-2 div.sk-estimator.fitted {\n",
       "  /* fitted */\n",
       "  background-color: var(--sklearn-color-fitted-level-0);\n",
       "}\n",
       "\n",
       "/* on hover */\n",
       "#sk-container-id-2 div.sk-estimator:hover {\n",
       "  /* unfitted */\n",
       "  background-color: var(--sklearn-color-unfitted-level-2);\n",
       "}\n",
       "\n",
       "#sk-container-id-2 div.sk-estimator.fitted:hover {\n",
       "  /* fitted */\n",
       "  background-color: var(--sklearn-color-fitted-level-2);\n",
       "}\n",
       "\n",
       "/* Specification for estimator info (e.g. \"i\" and \"?\") */\n",
       "\n",
       "/* Common style for \"i\" and \"?\" */\n",
       "\n",
       ".sk-estimator-doc-link,\n",
       "a:link.sk-estimator-doc-link,\n",
       "a:visited.sk-estimator-doc-link {\n",
       "  float: right;\n",
       "  font-size: smaller;\n",
       "  line-height: 1em;\n",
       "  font-family: monospace;\n",
       "  background-color: var(--sklearn-color-background);\n",
       "  border-radius: 1em;\n",
       "  height: 1em;\n",
       "  width: 1em;\n",
       "  text-decoration: none !important;\n",
       "  margin-left: 1ex;\n",
       "  /* unfitted */\n",
       "  border: var(--sklearn-color-unfitted-level-1) 1pt solid;\n",
       "  color: var(--sklearn-color-unfitted-level-1);\n",
       "}\n",
       "\n",
       ".sk-estimator-doc-link.fitted,\n",
       "a:link.sk-estimator-doc-link.fitted,\n",
       "a:visited.sk-estimator-doc-link.fitted {\n",
       "  /* fitted */\n",
       "  border: var(--sklearn-color-fitted-level-1) 1pt solid;\n",
       "  color: var(--sklearn-color-fitted-level-1);\n",
       "}\n",
       "\n",
       "/* On hover */\n",
       "div.sk-estimator:hover .sk-estimator-doc-link:hover,\n",
       ".sk-estimator-doc-link:hover,\n",
       "div.sk-label-container:hover .sk-estimator-doc-link:hover,\n",
       ".sk-estimator-doc-link:hover {\n",
       "  /* unfitted */\n",
       "  background-color: var(--sklearn-color-unfitted-level-3);\n",
       "  color: var(--sklearn-color-background);\n",
       "  text-decoration: none;\n",
       "}\n",
       "\n",
       "div.sk-estimator.fitted:hover .sk-estimator-doc-link.fitted:hover,\n",
       ".sk-estimator-doc-link.fitted:hover,\n",
       "div.sk-label-container:hover .sk-estimator-doc-link.fitted:hover,\n",
       ".sk-estimator-doc-link.fitted:hover {\n",
       "  /* fitted */\n",
       "  background-color: var(--sklearn-color-fitted-level-3);\n",
       "  color: var(--sklearn-color-background);\n",
       "  text-decoration: none;\n",
       "}\n",
       "\n",
       "/* Span, style for the box shown on hovering the info icon */\n",
       ".sk-estimator-doc-link span {\n",
       "  display: none;\n",
       "  z-index: 9999;\n",
       "  position: relative;\n",
       "  font-weight: normal;\n",
       "  right: .2ex;\n",
       "  padding: .5ex;\n",
       "  margin: .5ex;\n",
       "  width: min-content;\n",
       "  min-width: 20ex;\n",
       "  max-width: 50ex;\n",
       "  color: var(--sklearn-color-text);\n",
       "  box-shadow: 2pt 2pt 4pt #999;\n",
       "  /* unfitted */\n",
       "  background: var(--sklearn-color-unfitted-level-0);\n",
       "  border: .5pt solid var(--sklearn-color-unfitted-level-3);\n",
       "}\n",
       "\n",
       ".sk-estimator-doc-link.fitted span {\n",
       "  /* fitted */\n",
       "  background: var(--sklearn-color-fitted-level-0);\n",
       "  border: var(--sklearn-color-fitted-level-3);\n",
       "}\n",
       "\n",
       ".sk-estimator-doc-link:hover span {\n",
       "  display: block;\n",
       "}\n",
       "\n",
       "/* \"?\"-specific style due to the `<a>` HTML tag */\n",
       "\n",
       "#sk-container-id-2 a.estimator_doc_link {\n",
       "  float: right;\n",
       "  font-size: 1rem;\n",
       "  line-height: 1em;\n",
       "  font-family: monospace;\n",
       "  background-color: var(--sklearn-color-background);\n",
       "  border-radius: 1rem;\n",
       "  height: 1rem;\n",
       "  width: 1rem;\n",
       "  text-decoration: none;\n",
       "  /* unfitted */\n",
       "  color: var(--sklearn-color-unfitted-level-1);\n",
       "  border: var(--sklearn-color-unfitted-level-1) 1pt solid;\n",
       "}\n",
       "\n",
       "#sk-container-id-2 a.estimator_doc_link.fitted {\n",
       "  /* fitted */\n",
       "  border: var(--sklearn-color-fitted-level-1) 1pt solid;\n",
       "  color: var(--sklearn-color-fitted-level-1);\n",
       "}\n",
       "\n",
       "/* On hover */\n",
       "#sk-container-id-2 a.estimator_doc_link:hover {\n",
       "  /* unfitted */\n",
       "  background-color: var(--sklearn-color-unfitted-level-3);\n",
       "  color: var(--sklearn-color-background);\n",
       "  text-decoration: none;\n",
       "}\n",
       "\n",
       "#sk-container-id-2 a.estimator_doc_link.fitted:hover {\n",
       "  /* fitted */\n",
       "  background-color: var(--sklearn-color-fitted-level-3);\n",
       "}\n",
       "</style><div id=\"sk-container-id-2\" class=\"sk-top-container\"><div class=\"sk-text-repr-fallback\"><pre>Pipeline(steps=[(&#x27;column_selector&#x27;,\n",
       "                 ColumnSelector(cols=[&#x27;exaustor&#x27;, &#x27;%_calcario&#x27;, &#x27;separador&#x27;,\n",
       "                                      &#x27;pressao_de_moagem&#x27;, &#x27;%_escoria&#x27;,\n",
       "                                      &#x27;relacao_ar_/_po&#x27;, &#x27;total_vrm&#x27;, &#x27;ceee&#x27;,\n",
       "                                      &#x27;gases_do_forno&#x27;, &#x27;time&#x27;, &#x27;%_clinquer&#x27;,\n",
       "                                      &#x27;alimentacao_bs&#x27;, &#x27;corrente_motor&#x27;,\n",
       "                                      &#x27;altura_da_camada_na_mesa&#x27;,\n",
       "                                      &#x27;velocidade_fan&#x27;, &#x27;agua&#x27;, &#x27;dp_moinho&#x27;,\n",
       "                                      &#x27;aux&#x27;, &#x27;alimentacao_bu&#x27;, &#x27;velocidade_sr1&#x27;,\n",
       "                                      &#x27;%_po_filler&#x27;, &#x27;...\n",
       "                                                   &#x27;motores_moinho&#x27;,\n",
       "                                                   &#x27;%_gesso_mineral&#x27;,\n",
       "                                                   &#x27;velocidade_da_mesa&#x27;,\n",
       "                                                   &#x27;vazao_de_gases&#x27;])])),\n",
       "                (&#x27;regressor&#x27;,\n",
       "                 LGBMRegressor(colsample_bytree=0.6413570877368466,\n",
       "                               lambda_l1=1.281286730594843,\n",
       "                               lambda_l2=562.0645632662288,\n",
       "                               learning_rate=0.45659599940182366, max_bin=240,\n",
       "                               max_depth=2, min_child_samples=126,\n",
       "                               n_estimators=834, num_leaves=17,\n",
       "                               random_state=372924344,\n",
       "                               subsample=0.6674565178654761))])</pre><b>In a Jupyter environment, please rerun this cell to show the HTML representation or trust the notebook. <br />On GitHub, the HTML representation is unable to render, please try loading this page with nbviewer.org.</b></div><div class=\"sk-container\" hidden><div class=\"sk-item sk-dashed-wrapped\"><div class=\"sk-label-container\"><div class=\"sk-label fitted sk-toggleable\"><input class=\"sk-toggleable__control sk-hidden--visually\" id=\"sk-estimator-id-22\" type=\"checkbox\" ><label for=\"sk-estimator-id-22\" class=\"sk-toggleable__label fitted sk-toggleable__label-arrow fitted\">&nbsp;&nbsp;Pipeline<a class=\"sk-estimator-doc-link fitted\" rel=\"noreferrer\" target=\"_blank\" href=\"https://scikit-learn.org/1.4/modules/generated/sklearn.pipeline.Pipeline.html\">?<span>Documentation for Pipeline</span></a><span class=\"sk-estimator-doc-link fitted\">i<span>Fitted</span></span></label><div class=\"sk-toggleable__content fitted\"><pre>Pipeline(steps=[(&#x27;column_selector&#x27;,\n",
       "                 ColumnSelector(cols=[&#x27;exaustor&#x27;, &#x27;%_calcario&#x27;, &#x27;separador&#x27;,\n",
       "                                      &#x27;pressao_de_moagem&#x27;, &#x27;%_escoria&#x27;,\n",
       "                                      &#x27;relacao_ar_/_po&#x27;, &#x27;total_vrm&#x27;, &#x27;ceee&#x27;,\n",
       "                                      &#x27;gases_do_forno&#x27;, &#x27;time&#x27;, &#x27;%_clinquer&#x27;,\n",
       "                                      &#x27;alimentacao_bs&#x27;, &#x27;corrente_motor&#x27;,\n",
       "                                      &#x27;altura_da_camada_na_mesa&#x27;,\n",
       "                                      &#x27;velocidade_fan&#x27;, &#x27;agua&#x27;, &#x27;dp_moinho&#x27;,\n",
       "                                      &#x27;aux&#x27;, &#x27;alimentacao_bu&#x27;, &#x27;velocidade_sr1&#x27;,\n",
       "                                      &#x27;%_po_filler&#x27;, &#x27;...\n",
       "                                                   &#x27;motores_moinho&#x27;,\n",
       "                                                   &#x27;%_gesso_mineral&#x27;,\n",
       "                                                   &#x27;velocidade_da_mesa&#x27;,\n",
       "                                                   &#x27;vazao_de_gases&#x27;])])),\n",
       "                (&#x27;regressor&#x27;,\n",
       "                 LGBMRegressor(colsample_bytree=0.6413570877368466,\n",
       "                               lambda_l1=1.281286730594843,\n",
       "                               lambda_l2=562.0645632662288,\n",
       "                               learning_rate=0.45659599940182366, max_bin=240,\n",
       "                               max_depth=2, min_child_samples=126,\n",
       "                               n_estimators=834, num_leaves=17,\n",
       "                               random_state=372924344,\n",
       "                               subsample=0.6674565178654761))])</pre></div> </div></div><div class=\"sk-serial\"><div class=\"sk-item\"><div class=\"sk-estimator fitted sk-toggleable\"><input class=\"sk-toggleable__control sk-hidden--visually\" id=\"sk-estimator-id-23\" type=\"checkbox\" ><label for=\"sk-estimator-id-23\" class=\"sk-toggleable__label fitted sk-toggleable__label-arrow fitted\">ColumnSelector</label><div class=\"sk-toggleable__content fitted\"><pre>ColumnSelector(cols=[&#x27;exaustor&#x27;, &#x27;%_calcario&#x27;, &#x27;separador&#x27;, &#x27;pressao_de_moagem&#x27;,\n",
       "                     &#x27;%_escoria&#x27;, &#x27;relacao_ar_/_po&#x27;, &#x27;total_vrm&#x27;, &#x27;ceee&#x27;,\n",
       "                     &#x27;gases_do_forno&#x27;, &#x27;time&#x27;, &#x27;%_clinquer&#x27;, &#x27;alimentacao_bs&#x27;,\n",
       "                     &#x27;corrente_motor&#x27;, &#x27;altura_da_camada_na_mesa&#x27;,\n",
       "                     &#x27;velocidade_fan&#x27;, &#x27;agua&#x27;, &#x27;dp_moinho&#x27;, &#x27;aux&#x27;,\n",
       "                     &#x27;alimentacao_bu&#x27;, &#x27;velocidade_sr1&#x27;, &#x27;%_po_filler&#x27;,\n",
       "                     &#x27;aditivo&#x27;, &#x27;motores_moinho&#x27;, &#x27;%_gesso_mineral&#x27;,\n",
       "                     &#x27;velocidade_da_mesa&#x27;, &#x27;vazao_de_gases&#x27;])</pre></div> </div></div><div class=\"sk-item sk-dashed-wrapped\"><div class=\"sk-label-container\"><div class=\"sk-label fitted sk-toggleable\"><input class=\"sk-toggleable__control sk-hidden--visually\" id=\"sk-estimator-id-24\" type=\"checkbox\" ><label for=\"sk-estimator-id-24\" class=\"sk-toggleable__label fitted sk-toggleable__label-arrow fitted\">&nbsp;preprocessor: ColumnTransformer<a class=\"sk-estimator-doc-link fitted\" rel=\"noreferrer\" target=\"_blank\" href=\"https://scikit-learn.org/1.4/modules/generated/sklearn.compose.ColumnTransformer.html\">?<span>Documentation for preprocessor: ColumnTransformer</span></a></label><div class=\"sk-toggleable__content fitted\"><pre>ColumnTransformer(remainder=&#x27;passthrough&#x27;, sparse_threshold=0,\n",
       "                  transformers=[(&#x27;timestamp_time&#x27;,\n",
       "                                 Pipeline(steps=[(&#x27;impute_time&#x27;,\n",
       "                                                  DatetimeImputer()),\n",
       "                                                 (&#x27;transform_time&#x27;,\n",
       "                                                  TimestampTransformer()),\n",
       "                                                 (&#x27;onehot_encode_time&#x27;,\n",
       "                                                  ColumnTransformer(remainder=&#x27;passthrough&#x27;,\n",
       "                                                                    transformers=[(&#x27;ohe&#x27;,\n",
       "                                                                                   OneHotEncoder(sparse=False),\n",
       "                                                                                   [10])])),\n",
       "                                                 (&#x27;standardize_time&#x27;,\n",
       "                                                  StandardScaler())]),\n",
       "                                 [&#x27;t...\n",
       "                                 [&#x27;exaustor&#x27;, &#x27;%_calcario&#x27;, &#x27;separador&#x27;,\n",
       "                                  &#x27;pressao_de_moagem&#x27;, &#x27;%_escoria&#x27;,\n",
       "                                  &#x27;relacao_ar_/_po&#x27;, &#x27;total_vrm&#x27;, &#x27;ceee&#x27;,\n",
       "                                  &#x27;gases_do_forno&#x27;, &#x27;%_clinquer&#x27;,\n",
       "                                  &#x27;alimentacao_bs&#x27;, &#x27;corrente_motor&#x27;,\n",
       "                                  &#x27;altura_da_camada_na_mesa&#x27;, &#x27;velocidade_fan&#x27;,\n",
       "                                  &#x27;agua&#x27;, &#x27;dp_moinho&#x27;, &#x27;aux&#x27;, &#x27;alimentacao_bu&#x27;,\n",
       "                                  &#x27;velocidade_sr1&#x27;, &#x27;%_po_filler&#x27;, &#x27;aditivo&#x27;,\n",
       "                                  &#x27;motores_moinho&#x27;, &#x27;%_gesso_mineral&#x27;,\n",
       "                                  &#x27;velocidade_da_mesa&#x27;, &#x27;vazao_de_gases&#x27;])])</pre></div> </div></div><div class=\"sk-parallel\"><div class=\"sk-parallel-item\"><div class=\"sk-item\"><div class=\"sk-label-container\"><div class=\"sk-label fitted sk-toggleable\"><input class=\"sk-toggleable__control sk-hidden--visually\" id=\"sk-estimator-id-25\" type=\"checkbox\" ><label for=\"sk-estimator-id-25\" class=\"sk-toggleable__label fitted sk-toggleable__label-arrow fitted\">timestamp_time</label><div class=\"sk-toggleable__content fitted\"><pre>[&#x27;time&#x27;]</pre></div> </div></div><div class=\"sk-serial\"><div class=\"sk-item\"><div class=\"sk-serial\"><div class=\"sk-item\"><div class=\"sk-estimator fitted sk-toggleable\"><input class=\"sk-toggleable__control sk-hidden--visually\" id=\"sk-estimator-id-26\" type=\"checkbox\" ><label for=\"sk-estimator-id-26\" class=\"sk-toggleable__label fitted sk-toggleable__label-arrow fitted\">DatetimeImputer</label><div class=\"sk-toggleable__content fitted\"><pre>DatetimeImputer()</pre></div> </div></div><div class=\"sk-item\"><div class=\"sk-estimator fitted sk-toggleable\"><input class=\"sk-toggleable__control sk-hidden--visually\" id=\"sk-estimator-id-27\" type=\"checkbox\" ><label for=\"sk-estimator-id-27\" class=\"sk-toggleable__label fitted sk-toggleable__label-arrow fitted\">TimestampTransformer</label><div class=\"sk-toggleable__content fitted\"><pre>TimestampTransformer()</pre></div> </div></div><div class=\"sk-item sk-dashed-wrapped\"><div class=\"sk-label-container\"><div class=\"sk-label fitted sk-toggleable\"><input class=\"sk-toggleable__control sk-hidden--visually\" id=\"sk-estimator-id-28\" type=\"checkbox\" ><label for=\"sk-estimator-id-28\" class=\"sk-toggleable__label fitted sk-toggleable__label-arrow fitted\">&nbsp;onehot_encode_time: ColumnTransformer<a class=\"sk-estimator-doc-link fitted\" rel=\"noreferrer\" target=\"_blank\" href=\"https://scikit-learn.org/1.4/modules/generated/sklearn.compose.ColumnTransformer.html\">?<span>Documentation for onehot_encode_time: ColumnTransformer</span></a></label><div class=\"sk-toggleable__content fitted\"><pre>ColumnTransformer(remainder=&#x27;passthrough&#x27;,\n",
       "                  transformers=[(&#x27;ohe&#x27;, OneHotEncoder(sparse=False), [10])])</pre></div> </div></div><div class=\"sk-parallel\"><div class=\"sk-parallel-item\"><div class=\"sk-item\"><div class=\"sk-label-container\"><div class=\"sk-label fitted sk-toggleable\"><input class=\"sk-toggleable__control sk-hidden--visually\" id=\"sk-estimator-id-29\" type=\"checkbox\" ><label for=\"sk-estimator-id-29\" class=\"sk-toggleable__label fitted sk-toggleable__label-arrow fitted\">ohe</label><div class=\"sk-toggleable__content fitted\"><pre>[10]</pre></div> </div></div><div class=\"sk-serial\"><div class=\"sk-item\"><div class=\"sk-estimator fitted sk-toggleable\"><input class=\"sk-toggleable__control sk-hidden--visually\" id=\"sk-estimator-id-30\" type=\"checkbox\" ><label for=\"sk-estimator-id-30\" class=\"sk-toggleable__label fitted sk-toggleable__label-arrow fitted\">OneHotEncoder</label><div class=\"sk-toggleable__content fitted\"><pre>OneHotEncoder(sparse=False)</pre></div> </div></div></div></div></div><div class=\"sk-parallel-item\"><div class=\"sk-item\"><div class=\"sk-label-container\"><div class=\"sk-label fitted sk-toggleable\"><input class=\"sk-toggleable__control sk-hidden--visually\" id=\"sk-estimator-id-31\" type=\"checkbox\" ><label for=\"sk-estimator-id-31\" class=\"sk-toggleable__label fitted sk-toggleable__label-arrow fitted\">remainder</label><div class=\"sk-toggleable__content fitted\"><pre></pre></div> </div></div><div class=\"sk-serial\"><div class=\"sk-item\"><div class=\"sk-estimator fitted sk-toggleable\"><input class=\"sk-toggleable__control sk-hidden--visually\" id=\"sk-estimator-id-32\" type=\"checkbox\" ><label for=\"sk-estimator-id-32\" class=\"sk-toggleable__label fitted sk-toggleable__label-arrow fitted\">passthrough</label><div class=\"sk-toggleable__content fitted\"><pre>passthrough</pre></div> </div></div></div></div></div></div></div><div class=\"sk-item\"><div class=\"sk-estimator fitted sk-toggleable\"><input class=\"sk-toggleable__control sk-hidden--visually\" id=\"sk-estimator-id-33\" type=\"checkbox\" ><label for=\"sk-estimator-id-33\" class=\"sk-toggleable__label fitted sk-toggleable__label-arrow fitted\">&nbsp;StandardScaler<a class=\"sk-estimator-doc-link fitted\" rel=\"noreferrer\" target=\"_blank\" href=\"https://scikit-learn.org/1.4/modules/generated/sklearn.preprocessing.StandardScaler.html\">?<span>Documentation for StandardScaler</span></a></label><div class=\"sk-toggleable__content fitted\"><pre>StandardScaler()</pre></div> </div></div></div></div></div></div></div><div class=\"sk-parallel-item\"><div class=\"sk-item\"><div class=\"sk-label-container\"><div class=\"sk-label fitted sk-toggleable\"><input class=\"sk-toggleable__control sk-hidden--visually\" id=\"sk-estimator-id-34\" type=\"checkbox\" ><label for=\"sk-estimator-id-34\" class=\"sk-toggleable__label fitted sk-toggleable__label-arrow fitted\">numerical</label><div class=\"sk-toggleable__content fitted\"><pre>[&#x27;exaustor&#x27;, &#x27;%_calcario&#x27;, &#x27;separador&#x27;, &#x27;pressao_de_moagem&#x27;, &#x27;%_escoria&#x27;, &#x27;relacao_ar_/_po&#x27;, &#x27;total_vrm&#x27;, &#x27;ceee&#x27;, &#x27;gases_do_forno&#x27;, &#x27;%_clinquer&#x27;, &#x27;alimentacao_bs&#x27;, &#x27;corrente_motor&#x27;, &#x27;altura_da_camada_na_mesa&#x27;, &#x27;velocidade_fan&#x27;, &#x27;agua&#x27;, &#x27;dp_moinho&#x27;, &#x27;aux&#x27;, &#x27;alimentacao_bu&#x27;, &#x27;velocidade_sr1&#x27;, &#x27;%_po_filler&#x27;, &#x27;aditivo&#x27;, &#x27;motores_moinho&#x27;, &#x27;%_gesso_mineral&#x27;, &#x27;velocidade_da_mesa&#x27;, &#x27;vazao_de_gases&#x27;]</pre></div> </div></div><div class=\"sk-serial\"><div class=\"sk-item\"><div class=\"sk-serial\"><div class=\"sk-item\"><div class=\"sk-estimator fitted sk-toggleable\"><input class=\"sk-toggleable__control sk-hidden--visually\" id=\"sk-estimator-id-35\" type=\"checkbox\" ><label for=\"sk-estimator-id-35\" class=\"sk-toggleable__label fitted sk-toggleable__label-arrow fitted\">&nbsp;FunctionTransformer<a class=\"sk-estimator-doc-link fitted\" rel=\"noreferrer\" target=\"_blank\" href=\"https://scikit-learn.org/1.4/modules/generated/sklearn.preprocessing.FunctionTransformer.html\">?<span>Documentation for FunctionTransformer</span></a></label><div class=\"sk-toggleable__content fitted\"><pre>FunctionTransformer(func=&lt;function &lt;lambda&gt; at 0x7fb1647e5c60&gt;)</pre></div> </div></div><div class=\"sk-item sk-dashed-wrapped\"><div class=\"sk-label-container\"><div class=\"sk-label fitted sk-toggleable\"><input class=\"sk-toggleable__control sk-hidden--visually\" id=\"sk-estimator-id-36\" type=\"checkbox\" ><label for=\"sk-estimator-id-36\" class=\"sk-toggleable__label fitted sk-toggleable__label-arrow fitted\">&nbsp;imputers: ColumnTransformer<a class=\"sk-estimator-doc-link fitted\" rel=\"noreferrer\" target=\"_blank\" href=\"https://scikit-learn.org/1.4/modules/generated/sklearn.compose.ColumnTransformer.html\">?<span>Documentation for imputers: ColumnTransformer</span></a></label><div class=\"sk-toggleable__content fitted\"><pre>ColumnTransformer(transformers=[(&#x27;impute_mean&#x27;, SimpleImputer(),\n",
       "                                 [&#x27;%_calcario&#x27;, &#x27;%_clinquer&#x27;, &#x27;%_escoria&#x27;,\n",
       "                                  &#x27;%_gesso_mineral&#x27;, &#x27;%_po_filler&#x27;, &#x27;aditivo&#x27;,\n",
       "                                  &#x27;agua&#x27;, &#x27;alimentacao_bs&#x27;, &#x27;alimentacao_bu&#x27;,\n",
       "                                  &#x27;altura_da_camada_na_mesa&#x27;, &#x27;aux&#x27;, &#x27;ceee&#x27;,\n",
       "                                  &#x27;corrente_motor&#x27;, &#x27;dp_moinho&#x27;, &#x27;exaustor&#x27;,\n",
       "                                  &#x27;gases_do_forno&#x27;, &#x27;motores_moinho&#x27;,\n",
       "                                  &#x27;pressao_de_moagem&#x27;, &#x27;relacao_ar_/_po&#x27;,\n",
       "                                  &#x27;separador&#x27;, &#x27;total_vrm&#x27;, &#x27;vazao_de_gases&#x27;,\n",
       "                                  &#x27;velocidade_da_mesa&#x27;, &#x27;velocidade_fan&#x27;,\n",
       "                                  &#x27;velocidade_sr1&#x27;])])</pre></div> </div></div><div class=\"sk-parallel\"><div class=\"sk-parallel-item\"><div class=\"sk-item\"><div class=\"sk-label-container\"><div class=\"sk-label fitted sk-toggleable\"><input class=\"sk-toggleable__control sk-hidden--visually\" id=\"sk-estimator-id-37\" type=\"checkbox\" ><label for=\"sk-estimator-id-37\" class=\"sk-toggleable__label fitted sk-toggleable__label-arrow fitted\">impute_mean</label><div class=\"sk-toggleable__content fitted\"><pre>[&#x27;%_calcario&#x27;, &#x27;%_clinquer&#x27;, &#x27;%_escoria&#x27;, &#x27;%_gesso_mineral&#x27;, &#x27;%_po_filler&#x27;, &#x27;aditivo&#x27;, &#x27;agua&#x27;, &#x27;alimentacao_bs&#x27;, &#x27;alimentacao_bu&#x27;, &#x27;altura_da_camada_na_mesa&#x27;, &#x27;aux&#x27;, &#x27;ceee&#x27;, &#x27;corrente_motor&#x27;, &#x27;dp_moinho&#x27;, &#x27;exaustor&#x27;, &#x27;gases_do_forno&#x27;, &#x27;motores_moinho&#x27;, &#x27;pressao_de_moagem&#x27;, &#x27;relacao_ar_/_po&#x27;, &#x27;separador&#x27;, &#x27;total_vrm&#x27;, &#x27;vazao_de_gases&#x27;, &#x27;velocidade_da_mesa&#x27;, &#x27;velocidade_fan&#x27;, &#x27;velocidade_sr1&#x27;]</pre></div> </div></div><div class=\"sk-serial\"><div class=\"sk-item\"><div class=\"sk-estimator fitted sk-toggleable\"><input class=\"sk-toggleable__control sk-hidden--visually\" id=\"sk-estimator-id-38\" type=\"checkbox\" ><label for=\"sk-estimator-id-38\" class=\"sk-toggleable__label fitted sk-toggleable__label-arrow fitted\">&nbsp;SimpleImputer<a class=\"sk-estimator-doc-link fitted\" rel=\"noreferrer\" target=\"_blank\" href=\"https://scikit-learn.org/1.4/modules/generated/sklearn.impute.SimpleImputer.html\">?<span>Documentation for SimpleImputer</span></a></label><div class=\"sk-toggleable__content fitted\"><pre>SimpleImputer()</pre></div> </div></div></div></div></div></div></div><div class=\"sk-item\"><div class=\"sk-estimator fitted sk-toggleable\"><input class=\"sk-toggleable__control sk-hidden--visually\" id=\"sk-estimator-id-39\" type=\"checkbox\" ><label for=\"sk-estimator-id-39\" class=\"sk-toggleable__label fitted sk-toggleable__label-arrow fitted\">&nbsp;StandardScaler<a class=\"sk-estimator-doc-link fitted\" rel=\"noreferrer\" target=\"_blank\" href=\"https://scikit-learn.org/1.4/modules/generated/sklearn.preprocessing.StandardScaler.html\">?<span>Documentation for StandardScaler</span></a></label><div class=\"sk-toggleable__content fitted\"><pre>StandardScaler()</pre></div> </div></div></div></div></div></div></div><div class=\"sk-parallel-item\"><div class=\"sk-item\"><div class=\"sk-label-container\"><div class=\"sk-label fitted sk-toggleable\"><input class=\"sk-toggleable__control sk-hidden--visually\" id=\"sk-estimator-id-40\" type=\"checkbox\" ><label for=\"sk-estimator-id-40\" class=\"sk-toggleable__label fitted sk-toggleable__label-arrow fitted\">remainder</label><div class=\"sk-toggleable__content fitted\"><pre>[]</pre></div> </div></div><div class=\"sk-serial\"><div class=\"sk-item\"><div class=\"sk-estimator fitted sk-toggleable\"><input class=\"sk-toggleable__control sk-hidden--visually\" id=\"sk-estimator-id-41\" type=\"checkbox\" ><label for=\"sk-estimator-id-41\" class=\"sk-toggleable__label fitted sk-toggleable__label-arrow fitted\">passthrough</label><div class=\"sk-toggleable__content fitted\"><pre>passthrough</pre></div> </div></div></div></div></div></div></div><div class=\"sk-item\"><div class=\"sk-estimator fitted sk-toggleable\"><input class=\"sk-toggleable__control sk-hidden--visually\" id=\"sk-estimator-id-42\" type=\"checkbox\" ><label for=\"sk-estimator-id-42\" class=\"sk-toggleable__label fitted sk-toggleable__label-arrow fitted\">LGBMRegressor</label><div class=\"sk-toggleable__content fitted\"><pre>LGBMRegressor(colsample_bytree=0.6413570877368466, lambda_l1=1.281286730594843,\n",
       "              lambda_l2=562.0645632662288, learning_rate=0.45659599940182366,\n",
       "              max_bin=240, max_depth=2, min_child_samples=126, n_estimators=834,\n",
       "              num_leaves=17, random_state=372924344,\n",
       "              subsample=0.6674565178654761)</pre></div> </div></div></div></div></div></div>"
      ],
      "text/plain": [
       "Pipeline(steps=[('column_selector',\n",
       "                 ColumnSelector(cols=['exaustor', '%_calcario', 'separador',\n",
       "                                      'pressao_de_moagem', '%_escoria',\n",
       "                                      'relacao_ar_/_po', 'total_vrm', 'ceee',\n",
       "                                      'gases_do_forno', 'time', '%_clinquer',\n",
       "                                      'alimentacao_bs', 'corrente_motor',\n",
       "                                      'altura_da_camada_na_mesa',\n",
       "                                      'velocidade_fan', 'agua', 'dp_moinho',\n",
       "                                      'aux', 'alimentacao_bu', 'velocidade_sr1',\n",
       "                                      '%_po_filler', '...\n",
       "                                                   'motores_moinho',\n",
       "                                                   '%_gesso_mineral',\n",
       "                                                   'velocidade_da_mesa',\n",
       "                                                   'vazao_de_gases'])])),\n",
       "                ('regressor',\n",
       "                 LGBMRegressor(colsample_bytree=0.6413570877368466,\n",
       "                               lambda_l1=1.281286730594843,\n",
       "                               lambda_l2=562.0645632662288,\n",
       "                               learning_rate=0.45659599940182366, max_bin=240,\n",
       "                               max_depth=2, min_child_samples=126,\n",
       "                               n_estimators=834, num_leaves=17,\n",
       "                               random_state=372924344,\n",
       "                               subsample=0.6674565178654761))])"
      ]
     },
     "execution_count": 11,
     "metadata": {},
     "output_type": "execute_result"
    }
   ],
   "source": [
    "trials = Trials()\n",
    "fmin(objective,\n",
    "     space=space,\n",
    "     algo=tpe.suggest,\n",
    "     max_evals=1,  # Increase this when widening the hyperparameter search space.\n",
    "     trials=trials)\n",
    "\n",
    "best_result = trials.best_trial[\"result\"]\n",
    "model = best_result[\"model\"]\n",
    "mlflow_run = best_result[\"run\"]\n",
    "\n",
    "display(\n",
    "  pd.DataFrame(\n",
    "    [best_result[\"val_metrics\"], best_result[\"test_metrics\"]],\n",
    "    index=pd.Index([\"validation\", \"test\"], name=\"split\")).reset_index())\n",
    "\n",
    "set_config(display=\"diagram\")\n",
    "model"
   ]
  },
  {
   "cell_type": "markdown",
   "metadata": {
    "application/vnd.databricks.v1+cell": {
     "cellMetadata": {
      "byteLimit": 2048000,
      "rowLimit": 10000
     },
     "inputWidgets": {},
     "nuid": "e0b90c7e-4790-4a5a-98bc-1b3c47862c30",
     "showTitle": false,
     "tableResultSettingsMap": {},
     "title": ""
    }
   },
   "source": [
    "### Patch pandas version in logged model\n",
    "\n",
    "Ensures that model serving uses the same version of pandas that was used to train the model."
   ]
  },
  {
   "cell_type": "code",
   "execution_count": 0,
   "metadata": {
    "application/vnd.databricks.v1+cell": {
     "cellMetadata": {
      "byteLimit": 2048000,
      "rowLimit": 10000
     },
     "inputWidgets": {},
     "nuid": "db0b12ba-eb9d-472c-aec4-2840a667fbe0",
     "showTitle": false,
     "tableResultSettingsMap": {},
     "title": ""
    },
    "execution": {
     "iopub.execute_input": "2025-02-27T00:00:48.075730Z",
     "iopub.status.busy": "2025-02-27T00:00:48.073821Z",
     "iopub.status.idle": "2025-02-27T00:00:49.726730Z",
     "shell.execute_reply": "2025-02-27T00:00:49.725993Z"
    }
   },
   "outputs": [
    {
     "output_type": "display_data",
     "data": {
      "application/vnd.jupyter.widget-view+json": {
       "model_id": "16ed3037d9d44b69896348a6bf9b4386",
       "version_major": 2,
       "version_minor": 0
      },
      "text/plain": [
       "Downloading artifacts:   0%|          | 0/1 [00:00<?, ?it/s]"
      ]
     },
     "metadata": {},
     "output_type": "display_data"
    },
    {
     "output_type": "stream",
     "name": "stdout",
     "output_type": "stream",
     "text": [
      "Adding pandas dependency to conda.yaml\n"
     ]
    },
    {
     "output_type": "display_data",
     "data": {
      "application/vnd.jupyter.widget-view+json": {
       "model_id": "3a59e19dc74f463682e1d372a3e40c77",
       "version_major": 2,
       "version_minor": 0
      },
      "text/plain": [
       "Downloading artifacts:   0%|          | 0/1 [00:00<?, ?it/s]"
      ]
     },
     "metadata": {},
     "output_type": "display_data"
    },
    {
     "output_type": "stream",
     "name": "stdout",
     "output_type": "stream",
     "text": [
      "Adding pandas dependency to requirements.txt\n"
     ]
    }
   ],
   "source": [
    "import mlflow\n",
    "import os\n",
    "import shutil\n",
    "import tempfile\n",
    "import yaml\n",
    "\n",
    "run_id = mlflow_run.info.run_id\n",
    "\n",
    "# Set up a local dir for downloading the artifacts.\n",
    "tmp_dir = tempfile.mkdtemp()\n",
    "\n",
    "client = mlflow.tracking.MlflowClient()\n",
    "\n",
    "# Fix conda.yaml\n",
    "conda_file_path = mlflow.artifacts.download_artifacts(artifact_uri=f\"runs:/{run_id}/model/conda.yaml\", dst_path=tmp_dir)\n",
    "with open(conda_file_path) as f:\n",
    "  conda_libs = yaml.load(f, Loader=yaml.FullLoader)\n",
    "pandas_lib_exists = any([lib.startswith(\"pandas==\") for lib in conda_libs[\"dependencies\"][-1][\"pip\"]])\n",
    "if not pandas_lib_exists:\n",
    "  print(\"Adding pandas dependency to conda.yaml\")\n",
    "  conda_libs[\"dependencies\"][-1][\"pip\"].append(f\"pandas=={pd.__version__}\")\n",
    "\n",
    "  with open(f\"{tmp_dir}/conda.yaml\", \"w\") as f:\n",
    "    f.write(yaml.dump(conda_libs))\n",
    "  client.log_artifact(run_id=run_id, local_path=conda_file_path, artifact_path=\"model\")\n",
    "\n",
    "# Fix requirements.txt\n",
    "venv_file_path = mlflow.artifacts.download_artifacts(artifact_uri=f\"runs:/{run_id}/model/requirements.txt\", dst_path=tmp_dir)\n",
    "with open(venv_file_path) as f:\n",
    "  venv_libs = f.readlines()\n",
    "venv_libs = [lib.strip() for lib in venv_libs]\n",
    "pandas_lib_exists = any([lib.startswith(\"pandas==\") for lib in venv_libs])\n",
    "if not pandas_lib_exists:\n",
    "  print(\"Adding pandas dependency to requirements.txt\")\n",
    "  venv_libs.append(f\"pandas=={pd.__version__}\")\n",
    "\n",
    "  with open(f\"{tmp_dir}/requirements.txt\", \"w\") as f:\n",
    "    f.write(\"\\n\".join(venv_libs))\n",
    "  client.log_artifact(run_id=run_id, local_path=venv_file_path, artifact_path=\"model\")\n",
    "\n",
    "shutil.rmtree(tmp_dir)"
   ]
  },
  {
   "cell_type": "markdown",
   "metadata": {
    "application/vnd.databricks.v1+cell": {
     "cellMetadata": {
      "byteLimit": 2048000,
      "rowLimit": 10000
     },
     "inputWidgets": {},
     "nuid": "e85484f8-ea54-4966-be29-481c196369bb",
     "showTitle": false,
     "tableResultSettingsMap": {},
     "title": ""
    }
   },
   "source": [
    "## Feature importance\n",
    "\n",
    "SHAP is a game-theoretic approach to explain machine learning models, providing a summary plot\n",
    "of the relationship between features and model output. Features are ranked in descending order of\n",
    "importance, and impact/color describe the correlation between the feature and the target variable.\n",
    "- Generating SHAP feature importance is a very memory intensive operation, so to ensure that AutoML can run trials without\n",
    "  running out of memory, we disable SHAP by default.<br />\n",
    "  You can set the flag defined below to `shap_enabled = True` and re-run this notebook to see the SHAP plots.\n",
    "- To reduce the computational overhead of each trial, a single example is sampled from the validation set to explain.<br />\n",
    "  For more thorough results, increase the sample size of explanations, or provide your own examples to explain.\n",
    "- SHAP cannot explain models using data with nulls; if your dataset has any, both the background data and\n",
    "  examples to explain will be imputed using the mode (most frequent values). This affects the computed\n",
    "  SHAP values, as the imputed samples may not match the actual data distribution.\n",
    "\n",
    "For more information on how to read Shapley values, see the [SHAP documentation](https://shap.readthedocs.io/en/latest/example_notebooks/overviews/An%20introduction%20to%20explainable%20AI%20with%20Shapley%20values.html).\n",
    "\n",
    "> **NOTE:** SHAP run may take a long time with the datetime columns in the dataset."
   ]
  },
  {
   "cell_type": "code",
   "execution_count": 0,
   "metadata": {
    "application/vnd.databricks.v1+cell": {
     "cellMetadata": {
      "byteLimit": 2048000,
      "rowLimit": 10000
     },
     "inputWidgets": {},
     "nuid": "293319e8-8210-47e8-b0e5-3b89d5a562ac",
     "showTitle": false,
     "tableResultSettingsMap": {},
     "title": ""
    },
    "execution": {
     "iopub.execute_input": "2025-02-27T00:00:49.729951Z",
     "iopub.status.busy": "2025-02-27T00:00:49.729577Z",
     "iopub.status.idle": "2025-02-27T00:00:49.733462Z",
     "shell.execute_reply": "2025-02-27T00:00:49.732501Z"
    }
   },
   "outputs": [],
   "source": [
    "# Set this flag to True and re-run the notebook to see the SHAP plots\n",
    "shap_enabled = True"
   ]
  },
  {
   "cell_type": "code",
   "execution_count": 0,
   "metadata": {
    "application/vnd.databricks.v1+cell": {
     "cellMetadata": {
      "byteLimit": 2048000,
      "rowLimit": 10000
     },
     "inputWidgets": {},
     "nuid": "7d94dc14-5e40-4a78-8614-af48593fe69b",
     "showTitle": false,
     "tableResultSettingsMap": {},
     "title": ""
    },
    "execution": {
     "iopub.execute_input": "2025-02-27T00:00:49.736726Z",
     "iopub.status.busy": "2025-02-27T00:00:49.736475Z",
     "iopub.status.idle": "2025-02-27T00:00:49.743666Z",
     "shell.execute_reply": "2025-02-27T00:00:49.742051Z"
    }
   },
   "outputs": [
    {
     "output_type": "stream",
     "name": "stdout",
     "output_type": "stream",
     "text": [
      "[LightGBM] [Warning] lambda_l2 is set=562.0645632662288, reg_lambda=0.0 will be ignored. Current value: lambda_l2=562.0645632662288\n[LightGBM] [Warning] lambda_l1 is set=1.281286730594843, reg_alpha=0.0 will be ignored. Current value: lambda_l1=1.281286730594843\n"
     ]
    },
    {
     "output_type": "display_data",
     "data": {
      "application/vnd.jupyter.widget-view+json": {
       "model_id": "f707ad332af04249842591c62343afbb",
       "version_major": 2,
       "version_minor": 0
      },
      "text/plain": [
       "  0%|          | 0/100 [00:00<?, ?it/s]"
      ]
     },
     "metadata": {},
     "output_type": "display_data"
    },
    {
     "output_type": "stream",
     "name": "stdout",
     "output_type": "stream",
     "text": [
      "[LightGBM] [Warning] lambda_l2 is set=562.0645632662288, reg_lambda=0.0 will be ignored. Current value: lambda_l2=562.0645632662288\n[LightGBM] [Warning] lambda_l1 is set=1.281286730594843, reg_alpha=0.0 will be ignored. Current value: lambda_l1=1.281286730594843\n[LightGBM] [Warning] lambda_l2 is set=562.0645632662288, reg_lambda=0.0 will be ignored. Current value: lambda_l2=562.0645632662288\n[LightGBM] [Warning] lambda_l1 is set=1.281286730594843, reg_alpha=0.0 will be ignored. Current value: lambda_l1=1.281286730594843\n[LightGBM] [Warning] lambda_l2 is set=562.0645632662288, reg_lambda=0.0 will be ignored. Current value: lambda_l2=562.0645632662288\n[LightGBM] [Warning] lambda_l1 is set=1.281286730594843, reg_alpha=0.0 will be ignored. Current value: lambda_l1=1.281286730594843\n[LightGBM] [Warning] lambda_l2 is set=562.0645632662288, reg_lambda=0.0 will be ignored. Current value: lambda_l2=562.0645632662288\n[LightGBM] [Warning] lambda_l1 is set=1.281286730594843, reg_alpha=0.0 will be ignored. Current value: lambda_l1=1.281286730594843\n[LightGBM] [Warning] lambda_l2 is set=562.0645632662288, reg_lambda=0.0 will be ignored. Current value: lambda_l2=562.0645632662288\n[LightGBM] [Warning] lambda_l1 is set=1.281286730594843, reg_alpha=0.0 will be ignored. Current value: lambda_l1=1.281286730594843\n[LightGBM] [Warning] lambda_l2 is set=562.0645632662288, reg_lambda=0.0 will be ignored. Current value: lambda_l2=562.0645632662288\n[LightGBM] [Warning] lambda_l1 is set=1.281286730594843, reg_alpha=0.0 will be ignored. Current value: lambda_l1=1.281286730594843\n[LightGBM] [Warning] lambda_l2 is set=562.0645632662288, reg_lambda=0.0 will be ignored. Current value: lambda_l2=562.0645632662288\n[LightGBM] [Warning] lambda_l1 is set=1.281286730594843, reg_alpha=0.0 will be ignored. Current value: lambda_l1=1.281286730594843\n[LightGBM] [Warning] lambda_l2 is set=562.0645632662288, reg_lambda=0.0 will be ignored. Current value: lambda_l2=562.0645632662288\n[LightGBM] [Warning] lambda_l1 is set=1.281286730594843, reg_alpha=0.0 will be ignored. Current value: lambda_l1=1.281286730594843\n[LightGBM] [Warning] lambda_l2 is set=562.0645632662288, reg_lambda=0.0 will be ignored. Current value: lambda_l2=562.0645632662288\n[LightGBM] [Warning] lambda_l1 is set=1.281286730594843, reg_alpha=0.0 will be ignored. Current value: lambda_l1=1.281286730594843\n[LightGBM] [Warning] lambda_l2 is set=562.0645632662288, reg_lambda=0.0 will be ignored. Current value: lambda_l2=562.0645632662288\n[LightGBM] [Warning] lambda_l1 is set=1.281286730594843, reg_alpha=0.0 will be ignored. Current value: lambda_l1=1.281286730594843\n[LightGBM] [Warning] lambda_l2 is set=562.0645632662288, reg_lambda=0.0 will be ignored. Current value: lambda_l2=562.0645632662288\n[LightGBM] [Warning] lambda_l1 is set=1.281286730594843, reg_alpha=0.0 will be ignored. Current value: lambda_l1=1.281286730594843\n[LightGBM] [Warning] lambda_l2 is set=562.0645632662288, reg_lambda=0.0 will be ignored. Current value: lambda_l2=562.0645632662288\n[LightGBM] [Warning] lambda_l1 is set=1.281286730594843, reg_alpha=0.0 will be ignored. Current value: lambda_l1=1.281286730594843\n[LightGBM] [Warning] lambda_l2 is set=562.0645632662288, reg_lambda=0.0 will be ignored. Current value: lambda_l2=562.0645632662288\n[LightGBM] [Warning] lambda_l1 is set=1.281286730594843, reg_alpha=0.0 will be ignored. Current value: lambda_l1=1.281286730594843\n[LightGBM] [Warning] lambda_l2 is set=562.0645632662288, reg_lambda=0.0 will be ignored. Current value: lambda_l2=562.0645632662288\n[LightGBM] [Warning] lambda_l1 is set=1.281286730594843, reg_alpha=0.0 will be ignored. Current value: lambda_l1=1.281286730594843\n[LightGBM] [Warning] lambda_l2 is set=562.0645632662288, reg_lambda=0.0 will be ignored. Current value: lambda_l2=562.0645632662288\n[LightGBM] [Warning] lambda_l1 is set=1.281286730594843, reg_alpha=0.0 will be ignored. Current value: lambda_l1=1.281286730594843\n[LightGBM] [Warning] lambda_l2 is set=562.0645632662288, reg_lambda=0.0 will be ignored. Current value: lambda_l2=562.0645632662288\n[LightGBM] [Warning] lambda_l1 is set=1.281286730594843, reg_alpha=0.0 will be ignored. Current value: lambda_l1=1.281286730594843\n[LightGBM] [Warning] lambda_l2 is set=562.0645632662288, reg_lambda=0.0 will be ignored. Current value: lambda_l2=562.0645632662288\n[LightGBM] [Warning] lambda_l1 is set=1.281286730594843, reg_alpha=0.0 will be ignored. Current value: lambda_l1=1.281286730594843\n[LightGBM] [Warning] lambda_l2 is set=562.0645632662288, reg_lambda=0.0 will be ignored. Current value: lambda_l2=562.0645632662288\n[LightGBM] [Warning] lambda_l1 is set=1.281286730594843, reg_alpha=0.0 will be ignored. Current value: lambda_l1=1.281286730594843\n[LightGBM] [Warning] lambda_l2 is set=562.0645632662288, reg_lambda=0.0 will be ignored. Current value: lambda_l2=562.0645632662288\n[LightGBM] [Warning] lambda_l1 is set=1.281286730594843, reg_alpha=0.0 will be ignored. Current value: lambda_l1=1.281286730594843\n[LightGBM] [Warning] lambda_l2 is set=562.0645632662288, reg_lambda=0.0 will be ignored. Current value: lambda_l2=562.0645632662288\n[LightGBM] [Warning] lambda_l1 is set=1.281286730594843, reg_alpha=0.0 will be ignored. Current value: lambda_l1=1.281286730594843\n[LightGBM] [Warning] lambda_l2 is set=562.0645632662288, reg_lambda=0.0 will be ignored. Current value: lambda_l2=562.0645632662288\n[LightGBM] [Warning] lambda_l1 is set=1.281286730594843, reg_alpha=0.0 will be ignored. Current value: lambda_l1=1.281286730594843\n[LightGBM] [Warning] lambda_l2 is set=562.0645632662288, reg_lambda=0.0 will be ignored. Current value: lambda_l2=562.0645632662288\n[LightGBM] [Warning] lambda_l1 is set=1.281286730594843, reg_alpha=0.0 will be ignored. Current value: lambda_l1=1.281286730594843\n[LightGBM] [Warning] lambda_l2 is set=562.0645632662288, reg_lambda=0.0 will be ignored. Current value: lambda_l2=562.0645632662288\n[LightGBM] [Warning] lambda_l1 is set=1.281286730594843, reg_alpha=0.0 will be ignored. Current value: lambda_l1=1.281286730594843\n[LightGBM] [Warning] lambda_l2 is set=562.0645632662288, reg_lambda=0.0 will be ignored. Current value: lambda_l2=562.0645632662288\n[LightGBM] [Warning] lambda_l1 is set=1.281286730594843, reg_alpha=0.0 will be ignored. Current value: lambda_l1=1.281286730594843\n[LightGBM] [Warning] lambda_l2 is set=562.0645632662288, reg_lambda=0.0 will be ignored. Current value: lambda_l2=562.0645632662288\n[LightGBM] [Warning] lambda_l1 is set=1.281286730594843, reg_alpha=0.0 will be ignored. Current value: lambda_l1=1.281286730594843\n[LightGBM] [Warning] lambda_l2 is set=562.0645632662288, reg_lambda=0.0 will be ignored. Current value: lambda_l2=562.0645632662288\n[LightGBM] [Warning] lambda_l1 is set=1.281286730594843, reg_alpha=0.0 will be ignored. Current value: lambda_l1=1.281286730594843\n[LightGBM] [Warning] lambda_l2 is set=562.0645632662288, reg_lambda=0.0 will be ignored. Current value: lambda_l2=562.0645632662288\n[LightGBM] [Warning] lambda_l1 is set=1.281286730594843, reg_alpha=0.0 will be ignored. Current value: lambda_l1=1.281286730594843\n[LightGBM] [Warning] lambda_l2 is set=562.0645632662288, reg_lambda=0.0 will be ignored. Current value: lambda_l2=562.0645632662288\n[LightGBM] [Warning] lambda_l1 is set=1.281286730594843, reg_alpha=0.0 will be ignored. Current value: lambda_l1=1.281286730594843\n[LightGBM] [Warning] lambda_l2 is set=562.0645632662288, reg_lambda=0.0 will be ignored. Current value: lambda_l2=562.0645632662288\n[LightGBM] [Warning] lambda_l1 is set=1.281286730594843, reg_alpha=0.0 will be ignored. Current value: lambda_l1=1.281286730594843\n[LightGBM] [Warning] lambda_l2 is set=562.0645632662288, reg_lambda=0.0 will be ignored. Current value: lambda_l2=562.0645632662288\n[LightGBM] [Warning] lambda_l1 is set=1.281286730594843, reg_alpha=0.0 will be ignored. Current value: lambda_l1=1.281286730594843\n[LightGBM] [Warning] lambda_l2 is set=562.0645632662288, reg_lambda=0.0 will be ignored. Current value: lambda_l2=562.0645632662288\n[LightGBM] [Warning] lambda_l1 is set=1.281286730594843, reg_alpha=0.0 will be ignored. Current value: lambda_l1=1.281286730594843\n[LightGBM] [Warning] lambda_l2 is set=562.0645632662288, reg_lambda=0.0 will be ignored. Current value: lambda_l2=562.0645632662288\n[LightGBM] [Warning] lambda_l1 is set=1.281286730594843, reg_alpha=0.0 will be ignored. Current value: lambda_l1=1.281286730594843\n[LightGBM] [Warning] lambda_l2 is set=562.0645632662288, reg_lambda=0.0 will be ignored. Current value: lambda_l2=562.0645632662288\n[LightGBM] [Warning] lambda_l1 is set=1.281286730594843, reg_alpha=0.0 will be ignored. Current value: lambda_l1=1.281286730594843\n[LightGBM] [Warning] lambda_l2 is set=562.0645632662288, reg_lambda=0.0 will be ignored. Current value: lambda_l2=562.0645632662288\n[LightGBM] [Warning] lambda_l1 is set=1.281286730594843, reg_alpha=0.0 will be ignored. Current value: lambda_l1=1.281286730594843\n[LightGBM] [Warning] lambda_l2 is set=562.0645632662288, reg_lambda=0.0 will be ignored. Current value: lambda_l2=562.0645632662288\n[LightGBM] [Warning] lambda_l1 is set=1.281286730594843, reg_alpha=0.0 will be ignored. Current value: lambda_l1=1.281286730594843\n[LightGBM] [Warning] lambda_l2 is set=562.0645632662288, reg_lambda=0.0 will be ignored. Current value: lambda_l2=562.0645632662288\n[LightGBM] [Warning] lambda_l1 is set=1.281286730594843, reg_alpha=0.0 will be ignored. Current value: lambda_l1=1.281286730594843\n[LightGBM] [Warning] lambda_l2 is set=562.0645632662288, reg_lambda=0.0 will be ignored. Current value: lambda_l2=562.0645632662288\n[LightGBM] [Warning] lambda_l1 is set=1.281286730594843, reg_alpha=0.0 will be ignored. Current value: lambda_l1=1.281286730594843\n[LightGBM] [Warning] lambda_l2 is set=562.0645632662288, reg_lambda=0.0 will be ignored. Current value: lambda_l2=562.0645632662288\n[LightGBM] [Warning] lambda_l1 is set=1.281286730594843, reg_alpha=0.0 will be ignored. Current value: lambda_l1=1.281286730594843\n[LightGBM] [Warning] lambda_l2 is set=562.0645632662288, reg_lambda=0.0 will be ignored. Current value: lambda_l2=562.0645632662288\n[LightGBM] [Warning] lambda_l1 is set=1.281286730594843, reg_alpha=0.0 will be ignored. Current value: lambda_l1=1.281286730594843\n[LightGBM] [Warning] lambda_l2 is set=562.0645632662288, reg_lambda=0.0 will be ignored. Current value: lambda_l2=562.0645632662288\n[LightGBM] [Warning] lambda_l1 is set=1.281286730594843, reg_alpha=0.0 will be ignored. Current value: lambda_l1=1.281286730594843\n[LightGBM] [Warning] lambda_l2 is set=562.0645632662288, reg_lambda=0.0 will be ignored. Current value: lambda_l2=562.0645632662288\n[LightGBM] [Warning] lambda_l1 is set=1.281286730594843, reg_alpha=0.0 will be ignored. Current value: lambda_l1=1.281286730594843\n[LightGBM] [Warning] lambda_l2 is set=562.0645632662288, reg_lambda=0.0 will be ignored. Current value: lambda_l2=562.0645632662288\n[LightGBM] [Warning] lambda_l1 is set=1.281286730594843, reg_alpha=0.0 will be ignored. Current value: lambda_l1=1.281286730594843\n[LightGBM] [Warning] lambda_l2 is set=562.0645632662288, reg_lambda=0.0 will be ignored. Current value: lambda_l2=562.0645632662288\n[LightGBM] [Warning] lambda_l1 is set=1.281286730594843, reg_alpha=0.0 will be ignored. Current value: lambda_l1=1.281286730594843\n[LightGBM] [Warning] lambda_l2 is set=562.0645632662288, reg_lambda=0.0 will be ignored. Current value: lambda_l2=562.0645632662288\n[LightGBM] [Warning] lambda_l1 is set=1.281286730594843, reg_alpha=0.0 will be ignored. Current value: lambda_l1=1.281286730594843\n[LightGBM] [Warning] lambda_l2 is set=562.0645632662288, reg_lambda=0.0 will be ignored. Current value: lambda_l2=562.0645632662288\n[LightGBM] [Warning] lambda_l1 is set=1.281286730594843, reg_alpha=0.0 will be ignored. Current value: lambda_l1=1.281286730594843\n[LightGBM] [Warning] lambda_l2 is set=562.0645632662288, reg_lambda=0.0 will be ignored. Current value: lambda_l2=562.0645632662288\n[LightGBM] [Warning] lambda_l1 is set=1.281286730594843, reg_alpha=0.0 will be ignored. Current value: lambda_l1=1.281286730594843\n[LightGBM] [Warning] lambda_l2 is set=562.0645632662288, reg_lambda=0.0 will be ignored. Current value: lambda_l2=562.0645632662288\n[LightGBM] [Warning] lambda_l1 is set=1.281286730594843, reg_alpha=0.0 will be ignored. Current value: lambda_l1=1.281286730594843\n[LightGBM] [Warning] lambda_l2 is set=562.0645632662288, reg_lambda=0.0 will be ignored. Current value: lambda_l2=562.0645632662288\n[LightGBM] [Warning] lambda_l1 is set=1.281286730594843, reg_alpha=0.0 will be ignored. Current value: lambda_l1=1.281286730594843\n[LightGBM] [Warning] lambda_l2 is set=562.0645632662288, reg_lambda=0.0 will be ignored. Current value: lambda_l2=562.0645632662288\n[LightGBM] [Warning] lambda_l1 is set=1.281286730594843, reg_alpha=0.0 will be ignored. Current value: lambda_l1=1.281286730594843\n[LightGBM] [Warning] lambda_l2 is set=562.0645632662288, reg_lambda=0.0 will be ignored. Current value: lambda_l2=562.0645632662288\n[LightGBM] [Warning] lambda_l1 is set=1.281286730594843, reg_alpha=0.0 will be ignored. Current value: lambda_l1=1.281286730594843\n[LightGBM] [Warning] lambda_l2 is set=562.0645632662288, reg_lambda=0.0 will be ignored. Current value: lambda_l2=562.0645632662288\n[LightGBM] [Warning] lambda_l1 is set=1.281286730594843, reg_alpha=0.0 will be ignored. Current value: lambda_l1=1.281286730594843\n[LightGBM] [Warning] lambda_l2 is set=562.0645632662288, reg_lambda=0.0 will be ignored. Current value: lambda_l2=562.0645632662288\n[LightGBM] [Warning] lambda_l1 is set=1.281286730594843, reg_alpha=0.0 will be ignored. Current value: lambda_l1=1.281286730594843\n[LightGBM] [Warning] lambda_l2 is set=562.0645632662288, reg_lambda=0.0 will be ignored. Current value: lambda_l2=562.0645632662288\n[LightGBM] [Warning] lambda_l1 is set=1.281286730594843, reg_alpha=0.0 will be ignored. Current value: lambda_l1=1.281286730594843\n[LightGBM] [Warning] lambda_l2 is set=562.0645632662288, reg_lambda=0.0 will be ignored. Current value: lambda_l2=562.0645632662288\n[LightGBM] [Warning] lambda_l1 is set=1.281286730594843, reg_alpha=0.0 will be ignored. Current value: lambda_l1=1.281286730594843\n[LightGBM] [Warning] lambda_l2 is set=562.0645632662288, reg_lambda=0.0 will be ignored. Current value: lambda_l2=562.0645632662288\n[LightGBM] [Warning] lambda_l1 is set=1.281286730594843, reg_alpha=0.0 will be ignored. Current value: lambda_l1=1.281286730594843\n[LightGBM] [Warning] lambda_l2 is set=562.0645632662288, reg_lambda=0.0 will be ignored. Current value: lambda_l2=562.0645632662288\n[LightGBM] [Warning] lambda_l1 is set=1.281286730594843, reg_alpha=0.0 will be ignored. Current value: lambda_l1=1.281286730594843\n[LightGBM] [Warning] lambda_l2 is set=562.0645632662288, reg_lambda=0.0 will be ignored. Current value: lambda_l2=562.0645632662288\n[LightGBM] [Warning] lambda_l1 is set=1.281286730594843, reg_alpha=0.0 will be ignored. Current value: lambda_l1=1.281286730594843\n[LightGBM] [Warning] lambda_l2 is set=562.0645632662288, reg_lambda=0.0 will be ignored. Current value: lambda_l2=562.0645632662288\n[LightGBM] [Warning] lambda_l1 is set=1.281286730594843, reg_alpha=0.0 will be ignored. Current value: lambda_l1=1.281286730594843\n[LightGBM] [Warning] lambda_l2 is set=562.0645632662288, reg_lambda=0.0 will be ignored. Current value: lambda_l2=562.0645632662288\n[LightGBM] [Warning] lambda_l1 is set=1.281286730594843, reg_alpha=0.0 will be ignored. Current value: lambda_l1=1.281286730594843\n[LightGBM] [Warning] lambda_l2 is set=562.0645632662288, reg_lambda=0.0 will be ignored. Current value: lambda_l2=562.0645632662288\n[LightGBM] [Warning] lambda_l1 is set=1.281286730594843, reg_alpha=0.0 will be ignored. Current value: lambda_l1=1.281286730594843\n[LightGBM] [Warning] lambda_l2 is set=562.0645632662288, reg_lambda=0.0 will be ignored. Current value: lambda_l2=562.0645632662288\n[LightGBM] [Warning] lambda_l1 is set=1.281286730594843, reg_alpha=0.0 will be ignored. Current value: lambda_l1=1.281286730594843\n[LightGBM] [Warning] lambda_l2 is set=562.0645632662288, reg_lambda=0.0 will be ignored. Current value: lambda_l2=562.0645632662288\n[LightGBM] [Warning] lambda_l1 is set=1.281286730594843, reg_alpha=0.0 will be ignored. Current value: lambda_l1=1.281286730594843\n[LightGBM] [Warning] lambda_l2 is set=562.0645632662288, reg_lambda=0.0 will be ignored. Current value: lambda_l2=562.0645632662288\n[LightGBM] [Warning] lambda_l1 is set=1.281286730594843, reg_alpha=0.0 will be ignored. Current value: lambda_l1=1.281286730594843\n[LightGBM] [Warning] lambda_l2 is set=562.0645632662288, reg_lambda=0.0 will be ignored. Current value: lambda_l2=562.0645632662288\n[LightGBM] [Warning] lambda_l1 is set=1.281286730594843, reg_alpha=0.0 will be ignored. Current value: lambda_l1=1.281286730594843\n[LightGBM] [Warning] lambda_l2 is set=562.0645632662288, reg_lambda=0.0 will be ignored. Current value: lambda_l2=562.0645632662288\n[LightGBM] [Warning] lambda_l1 is set=1.281286730594843, reg_alpha=0.0 will be ignored. Current value: lambda_l1=1.281286730594843\n[LightGBM] [Warning] lambda_l2 is set=562.0645632662288, reg_lambda=0.0 will be ignored. Current value: lambda_l2=562.0645632662288\n[LightGBM] [Warning] lambda_l1 is set=1.281286730594843, reg_alpha=0.0 will be ignored. Current value: lambda_l1=1.281286730594843\n[LightGBM] [Warning] lambda_l2 is set=562.0645632662288, reg_lambda=0.0 will be ignored. Current value: lambda_l2=562.0645632662288\n[LightGBM] [Warning] lambda_l1 is set=1.281286730594843, reg_alpha=0.0 will be ignored. Current value: lambda_l1=1.281286730594843\n[LightGBM] [Warning] lambda_l2 is set=562.0645632662288, reg_lambda=0.0 will be ignored. Current value: lambda_l2=562.0645632662288\n[LightGBM] [Warning] lambda_l1 is set=1.281286730594843, reg_alpha=0.0 will be ignored. Current value: lambda_l1=1.281286730594843\n[LightGBM] [Warning] lambda_l2 is set=562.0645632662288, reg_lambda=0.0 will be ignored. Current value: lambda_l2=562.0645632662288\n[LightGBM] [Warning] lambda_l1 is set=1.281286730594843, reg_alpha=0.0 will be ignored. Current value: lambda_l1=1.281286730594843\n"
     ]
    }
   ],
   "source": [
    "if shap_enabled:\n",
    "    mlflow.autolog(disable=True)\n",
    "    mlflow.sklearn.autolog(disable=True)\n",
    "    from shap import KernelExplainer, summary_plot\n",
    "    # SHAP cannot explain models using data with nulls.\n",
    "    # To enable SHAP to succeed, both the background data and examples to explain are imputed with the mode (most frequent values).\n",
    "    mode = X_train.mode().iloc[0]\n",
    "\n",
    "    # Sample background data for SHAP Explainer. Increase the sample size to reduce variance.\n",
    "    train_sample = X_train.sample(n=min(100, X_train.shape[0]), random_state=372924344).fillna(mode)\n",
    "\n",
    "    # Sample some rows from the validation set to explain. Increase the sample size for more thorough results.\n",
    "    example = X_val.sample(n=min(100, X_val.shape[0]), random_state=372924344).fillna(mode)\n",
    "\n",
    "    # Use Kernel SHAP to explain feature importance on the sampled rows from the validation set.\n",
    "    predict = lambda x: model.predict(pd.DataFrame(x, columns=X_train.columns))\n",
    "    explainer = KernelExplainer(predict, train_sample, link=\"identity\")\n",
    "    shap_values = explainer.shap_values(example, l1_reg=False, nsamples=500)\n",
    "    summary_plot(shap_values, example)"
   ]
  },
  {
   "cell_type": "markdown",
   "metadata": {
    "application/vnd.databricks.v1+cell": {
     "cellMetadata": {
      "byteLimit": 2048000,
      "rowLimit": 10000
     },
     "inputWidgets": {},
     "nuid": "2d2f9531-f732-4920-afd9-fa209f2989f8",
     "showTitle": false,
     "tableResultSettingsMap": {},
     "title": ""
    }
   },
   "source": [
    "## Inference\n",
    "[The MLflow Model Registry](https://docs.databricks.com/applications/mlflow/model-registry.html) is a collaborative hub where teams can share ML models, work together from experimentation to online testing and production, integrate with approval and governance workflows, and monitor ML deployments and their performance. The snippets below show how to add the model trained in this notebook to the model registry and to retrieve it later for inference.\n",
    "\n",
    "> **NOTE:** The `model_uri` for the model already trained in this notebook can be found in the cell below\n",
    "\n",
    "### Register to Model Registry\n",
    "```\n",
    "model_name = \"Example\"\n",
    "\n",
    "model_uri = f\"runs:/{ mlflow_run.info.run_id }/model\"\n",
    "registered_model_version = mlflow.register_model(model_uri, model_name)\n",
    "```\n",
    "\n",
    "### Load from Model Registry\n",
    "```\n",
    "model_name = \"Example\"\n",
    "model_version = registered_model_version.version\n",
    "\n",
    "model_uri=f\"models:/{model_name}/{model_version}\"\n",
    "model = mlflow.pyfunc.load_model(model_uri=model_uri)\n",
    "model.predict(input_X)\n",
    "```\n",
    "\n",
    "### Load model without registering\n",
    "```\n",
    "model_uri = f\"runs:/{ mlflow_run.info.run_id }/model\"\n",
    "\n",
    "model = mlflow.pyfunc.load_model(model_uri=model_uri)\n",
    "model.predict(input_X)\n",
    "```"
   ]
  },
  {
   "cell_type": "code",
   "execution_count": 0,
   "metadata": {
    "application/vnd.databricks.v1+cell": {
     "cellMetadata": {
      "byteLimit": 2048000,
      "rowLimit": 10000
     },
     "inputWidgets": {},
     "nuid": "48a50716-19e0-438f-af3a-62927890175d",
     "showTitle": false,
     "tableResultSettingsMap": {},
     "title": ""
    },
    "execution": {
     "iopub.execute_input": "2025-02-27T00:00:49.747105Z",
     "iopub.status.busy": "2025-02-27T00:00:49.746616Z",
     "iopub.status.idle": "2025-02-27T00:00:49.750588Z",
     "shell.execute_reply": "2025-02-27T00:00:49.749907Z"
    }
   },
   "outputs": [
    {
     "output_type": "stream",
     "name": "stdout",
     "output_type": "stream",
     "text": [
      "runs:/72706d7da6674b41b0a8bc713b827237/model\n"
     ]
    },
    {
     "output_type": "display_data",
     "data": {
      "text/html": [
       "<style scoped>\n",
       "  .ansiout {\n",
       "    display: block;\n",
       "    unicode-bidi: embed;\n",
       "    white-space: pre-wrap;\n",
       "    word-wrap: break-word;\n",
       "    word-break: break-all;\n",
       "    font-family: \"Menlo\", \"Monaco\", \"Consolas\", \"Ubuntu Mono\", \"Source Code Pro\", monospace;\n",
       "    font-size: 13px;\n",
       "    color: #555;\n",
       "    margin-left: 4px;\n",
       "    line-height: 19px;\n",
       "  }\n",
       "</style>"
      ]
     },
     "metadata": {
      "application/vnd.databricks.v1+output": {
       "arguments": {},
       "data": "",
       "errorSummary": "",
       "errorTraceType": null,
       "metadata": {},
       "type": "ipynbError"
      }
     },
     "output_type": "display_data"
    }
   ],
   "source": [
    "# model_uri for the generated model\n",
    "print(f\"runs:/{ mlflow_run.info.run_id }/model\")"
   ]
  }
 ],
 "metadata": {
  "application/vnd.databricks.v1+notebook": {
   "computePreferences": null,
   "dashboards": [],
   "environmentMetadata": null,
   "language": "python",
   "notebookMetadata": {
    "pythonIndentUnit": 4
   },
   "notebookName": "25-02-26-23:28-LightGBMRegressor-f0d82e7f5ee899cc2a4265740690f86a",
   "widgets": {}
  },
  "language_info": {
   "name": "python"
  },
  "name": "LightGBMRegressor-f0d82e7f5ee899cc2a4265740690f86a",
  "widgets": {
   "application/vnd.jupyter.widget-state+json": {
    "state": {
     "010b74d302a9489382c5d3a3a80f90ce": {
      "model_module": "@jupyter-widgets/controls",
      "model_module_version": "1.5.0",
      "model_name": "DescriptionStyleModel",
      "state": {
       "_model_module": "@jupyter-widgets/controls",
       "_model_module_version": "1.5.0",
       "_model_name": "DescriptionStyleModel",
       "_view_count": null,
       "_view_module": "@jupyter-widgets/base",
       "_view_module_version": "1.2.0",
       "_view_name": "StyleView",
       "description_width": ""
      }
     },
     "0b32795b6d1e40b1b144b18ff7a14394": {
      "model_module": "@jupyter-widgets/controls",
      "model_module_version": "1.5.0",
      "model_name": "DescriptionStyleModel",
      "state": {
       "_model_module": "@jupyter-widgets/controls",
       "_model_module_version": "1.5.0",
       "_model_name": "DescriptionStyleModel",
       "_view_count": null,
       "_view_module": "@jupyter-widgets/base",
       "_view_module_version": "1.2.0",
       "_view_name": "StyleView",
       "description_width": ""
      }
     },
     "0bda9d91b67747e2ba6fbaaa2bbc6779": {
      "model_module": "@jupyter-widgets/controls",
      "model_module_version": "1.5.0",
      "model_name": "HBoxModel",
      "state": {
       "_dom_classes": [],
       "_model_module": "@jupyter-widgets/controls",
       "_model_module_version": "1.5.0",
       "_model_name": "HBoxModel",
       "_view_count": null,
       "_view_module": "@jupyter-widgets/controls",
       "_view_module_version": "1.5.0",
       "_view_name": "HBoxView",
       "box_style": "",
       "children": [
        "IPY_MODEL_e54b839486fa4f37a7dba8e0e5d29bbf",
        "IPY_MODEL_ce088f37af0e45ae96d0af0e9ba68c38",
        "IPY_MODEL_a7a9c007fabf42f98f9d35277e68654f"
       ],
       "layout": "IPY_MODEL_18b4862831a840e8b7bde70dff70b0e4"
      }
     },
     "18b4862831a840e8b7bde70dff70b0e4": {
      "model_module": "@jupyter-widgets/base",
      "model_module_version": "1.2.0",
      "model_name": "LayoutModel",
      "state": {
       "_model_module": "@jupyter-widgets/base",
       "_model_module_version": "1.2.0",
       "_model_name": "LayoutModel",
       "_view_count": null,
       "_view_module": "@jupyter-widgets/base",
       "_view_module_version": "1.2.0",
       "_view_name": "LayoutView",
       "align_content": null,
       "align_items": null,
       "align_self": null,
       "border": null,
       "bottom": null,
       "display": null,
       "flex": null,
       "flex_flow": null,
       "grid_area": null,
       "grid_auto_columns": null,
       "grid_auto_flow": null,
       "grid_auto_rows": null,
       "grid_column": null,
       "grid_gap": null,
       "grid_row": null,
       "grid_template_areas": null,
       "grid_template_columns": null,
       "grid_template_rows": null,
       "height": null,
       "justify_content": null,
       "justify_items": null,
       "left": null,
       "margin": null,
       "max_height": null,
       "max_width": null,
       "min_height": null,
       "min_width": null,
       "object_fit": null,
       "object_position": null,
       "order": null,
       "overflow": null,
       "overflow_x": null,
       "overflow_y": null,
       "padding": null,
       "right": null,
       "top": null,
       "visibility": null,
       "width": null
      }
     },
     "24dca786176c47d8aeebcfc6fd8c945c": {
      "model_module": "@jupyter-widgets/controls",
      "model_module_version": "1.5.0",
      "model_name": "HTMLModel",
      "state": {
       "_dom_classes": [],
       "_model_module": "@jupyter-widgets/controls",
       "_model_module_version": "1.5.0",
       "_model_name": "HTMLModel",
       "_view_count": null,
       "_view_module": "@jupyter-widgets/controls",
       "_view_module_version": "1.5.0",
       "_view_name": "HTMLView",
       "description": "",
       "description_tooltip": null,
       "layout": "IPY_MODEL_b733e7a7cc4741c9941ed1875c9480f9",
       "placeholder": "​",
       "style": "IPY_MODEL_83011e38fef44b8089816f2de6fd62ff",
       "value": "Downloading artifacts: 100%"
      }
     },
     "2bb2e6ef2b764e1d88c2e44cf95ff0c4": {
      "model_module": "@jupyter-widgets/controls",
      "model_module_version": "1.5.0",
      "model_name": "DescriptionStyleModel",
      "state": {
       "_model_module": "@jupyter-widgets/controls",
       "_model_module_version": "1.5.0",
       "_model_name": "DescriptionStyleModel",
       "_view_count": null,
       "_view_module": "@jupyter-widgets/base",
       "_view_module_version": "1.2.0",
       "_view_name": "StyleView",
       "description_width": ""
      }
     },
     "37fbafc811e44cbab87cb592d8d5348e": {
      "model_module": "@jupyter-widgets/base",
      "model_module_version": "1.2.0",
      "model_name": "LayoutModel",
      "state": {
       "_model_module": "@jupyter-widgets/base",
       "_model_module_version": "1.2.0",
       "_model_name": "LayoutModel",
       "_view_count": null,
       "_view_module": "@jupyter-widgets/base",
       "_view_module_version": "1.2.0",
       "_view_name": "LayoutView",
       "align_content": null,
       "align_items": null,
       "align_self": null,
       "border": null,
       "bottom": null,
       "display": null,
       "flex": null,
       "flex_flow": null,
       "grid_area": null,
       "grid_auto_columns": null,
       "grid_auto_flow": null,
       "grid_auto_rows": null,
       "grid_column": null,
       "grid_gap": null,
       "grid_row": null,
       "grid_template_areas": null,
       "grid_template_columns": null,
       "grid_template_rows": null,
       "height": null,
       "justify_content": null,
       "justify_items": null,
       "left": null,
       "margin": null,
       "max_height": null,
       "max_width": null,
       "min_height": null,
       "min_width": null,
       "object_fit": null,
       "object_position": null,
       "order": null,
       "overflow": null,
       "overflow_x": null,
       "overflow_y": null,
       "padding": null,
       "right": null,
       "top": null,
       "visibility": null,
       "width": null
      }
     },
     "3b7c720b059147f5810dbd5c44cbdb66": {
      "model_module": "@jupyter-widgets/controls",
      "model_module_version": "1.5.0",
      "model_name": "HTMLModel",
      "state": {
       "_dom_classes": [],
       "_model_module": "@jupyter-widgets/controls",
       "_model_module_version": "1.5.0",
       "_model_name": "HTMLModel",
       "_view_count": null,
       "_view_module": "@jupyter-widgets/controls",
       "_view_module_version": "1.5.0",
       "_view_name": "HTMLView",
       "description": "",
       "description_tooltip": null,
       "layout": "IPY_MODEL_54996956985541c8b088379d8f6bd1cb",
       "placeholder": "​",
       "style": "IPY_MODEL_42e51b309e2445b590a25c60af032a9c",
       "value": "Downloading artifacts: 100%"
      }
     },
     "42e51b309e2445b590a25c60af032a9c": {
      "model_module": "@jupyter-widgets/controls",
      "model_module_version": "1.5.0",
      "model_name": "DescriptionStyleModel",
      "state": {
       "_model_module": "@jupyter-widgets/controls",
       "_model_module_version": "1.5.0",
       "_model_name": "DescriptionStyleModel",
       "_view_count": null,
       "_view_module": "@jupyter-widgets/base",
       "_view_module_version": "1.2.0",
       "_view_name": "StyleView",
       "description_width": ""
      }
     },
     "49f7e19c8524421e9a9a4a50452c6b35": {
      "model_module": "@jupyter-widgets/base",
      "model_module_version": "1.2.0",
      "model_name": "LayoutModel",
      "state": {
       "_model_module": "@jupyter-widgets/base",
       "_model_module_version": "1.2.0",
       "_model_name": "LayoutModel",
       "_view_count": null,
       "_view_module": "@jupyter-widgets/base",
       "_view_module_version": "1.2.0",
       "_view_name": "LayoutView",
       "align_content": null,
       "align_items": null,
       "align_self": null,
       "border": null,
       "bottom": null,
       "display": null,
       "flex": null,
       "flex_flow": null,
       "grid_area": null,
       "grid_auto_columns": null,
       "grid_auto_flow": null,
       "grid_auto_rows": null,
       "grid_column": null,
       "grid_gap": null,
       "grid_row": null,
       "grid_template_areas": null,
       "grid_template_columns": null,
       "grid_template_rows": null,
       "height": null,
       "justify_content": null,
       "justify_items": null,
       "left": null,
       "margin": null,
       "max_height": null,
       "max_width": null,
       "min_height": null,
       "min_width": null,
       "object_fit": null,
       "object_position": null,
       "order": null,
       "overflow": null,
       "overflow_x": null,
       "overflow_y": null,
       "padding": null,
       "right": null,
       "top": null,
       "visibility": null,
       "width": null
      }
     },
     "4c8137f2d3154a398202a1d75a03ad54": {
      "model_module": "@jupyter-widgets/base",
      "model_module_version": "1.2.0",
      "model_name": "LayoutModel",
      "state": {
       "_model_module": "@jupyter-widgets/base",
       "_model_module_version": "1.2.0",
       "_model_name": "LayoutModel",
       "_view_count": null,
       "_view_module": "@jupyter-widgets/base",
       "_view_module_version": "1.2.0",
       "_view_name": "LayoutView",
       "align_content": null,
       "align_items": null,
       "align_self": null,
       "border": null,
       "bottom": null,
       "display": null,
       "flex": null,
       "flex_flow": null,
       "grid_area": null,
       "grid_auto_columns": null,
       "grid_auto_flow": null,
       "grid_auto_rows": null,
       "grid_column": null,
       "grid_gap": null,
       "grid_row": null,
       "grid_template_areas": null,
       "grid_template_columns": null,
       "grid_template_rows": null,
       "height": null,
       "justify_content": null,
       "justify_items": null,
       "left": null,
       "margin": null,
       "max_height": null,
       "max_width": null,
       "min_height": null,
       "min_width": null,
       "object_fit": null,
       "object_position": null,
       "order": null,
       "overflow": null,
       "overflow_x": null,
       "overflow_y": null,
       "padding": null,
       "right": null,
       "top": null,
       "visibility": null,
       "width": null
      }
     },
     "516ad0fa58da40fb80a5d171dca066fe": {
      "model_module": "@jupyter-widgets/base",
      "model_module_version": "1.2.0",
      "model_name": "LayoutModel",
      "state": {
       "_model_module": "@jupyter-widgets/base",
       "_model_module_version": "1.2.0",
       "_model_name": "LayoutModel",
       "_view_count": null,
       "_view_module": "@jupyter-widgets/base",
       "_view_module_version": "1.2.0",
       "_view_name": "LayoutView",
       "align_content": null,
       "align_items": null,
       "align_self": null,
       "border": null,
       "bottom": null,
       "display": null,
       "flex": null,
       "flex_flow": null,
       "grid_area": null,
       "grid_auto_columns": null,
       "grid_auto_flow": null,
       "grid_auto_rows": null,
       "grid_column": null,
       "grid_gap": null,
       "grid_row": null,
       "grid_template_areas": null,
       "grid_template_columns": null,
       "grid_template_rows": null,
       "height": null,
       "justify_content": null,
       "justify_items": null,
       "left": null,
       "margin": null,
       "max_height": null,
       "max_width": null,
       "min_height": null,
       "min_width": null,
       "object_fit": null,
       "object_position": null,
       "order": null,
       "overflow": null,
       "overflow_x": null,
       "overflow_y": null,
       "padding": null,
       "right": null,
       "top": null,
       "visibility": null,
       "width": null
      }
     },
     "54996956985541c8b088379d8f6bd1cb": {
      "model_module": "@jupyter-widgets/base",
      "model_module_version": "1.2.0",
      "model_name": "LayoutModel",
      "state": {
       "_model_module": "@jupyter-widgets/base",
       "_model_module_version": "1.2.0",
       "_model_name": "LayoutModel",
       "_view_count": null,
       "_view_module": "@jupyter-widgets/base",
       "_view_module_version": "1.2.0",
       "_view_name": "LayoutView",
       "align_content": null,
       "align_items": null,
       "align_self": null,
       "border": null,
       "bottom": null,
       "display": null,
       "flex": null,
       "flex_flow": null,
       "grid_area": null,
       "grid_auto_columns": null,
       "grid_auto_flow": null,
       "grid_auto_rows": null,
       "grid_column": null,
       "grid_gap": null,
       "grid_row": null,
       "grid_template_areas": null,
       "grid_template_columns": null,
       "grid_template_rows": null,
       "height": null,
       "justify_content": null,
       "justify_items": null,
       "left": null,
       "margin": null,
       "max_height": null,
       "max_width": null,
       "min_height": null,
       "min_width": null,
       "object_fit": null,
       "object_position": null,
       "order": null,
       "overflow": null,
       "overflow_x": null,
       "overflow_y": null,
       "padding": null,
       "right": null,
       "top": null,
       "visibility": null,
       "width": null
      }
     },
     "5971351ca2ac42ce9399cfa3dd34ad8b": {
      "model_module": "@jupyter-widgets/controls",
      "model_module_version": "1.5.0",
      "model_name": "ProgressStyleModel",
      "state": {
       "_model_module": "@jupyter-widgets/controls",
       "_model_module_version": "1.5.0",
       "_model_name": "ProgressStyleModel",
       "_view_count": null,
       "_view_module": "@jupyter-widgets/base",
       "_view_module_version": "1.2.0",
       "_view_name": "StyleView",
       "bar_color": null,
       "description_width": ""
      }
     },
     "611be7c44a934a5abce2549c6188332c": {
      "model_module": "@jupyter-widgets/controls",
      "model_module_version": "1.5.0",
      "model_name": "DescriptionStyleModel",
      "state": {
       "_model_module": "@jupyter-widgets/controls",
       "_model_module_version": "1.5.0",
       "_model_name": "DescriptionStyleModel",
       "_view_count": null,
       "_view_module": "@jupyter-widgets/base",
       "_view_module_version": "1.2.0",
       "_view_name": "StyleView",
       "description_width": ""
      }
     },
     "647438518e044ff2be31f55afc68c4de": {
      "model_module": "@jupyter-widgets/base",
      "model_module_version": "1.2.0",
      "model_name": "LayoutModel",
      "state": {
       "_model_module": "@jupyter-widgets/base",
       "_model_module_version": "1.2.0",
       "_model_name": "LayoutModel",
       "_view_count": null,
       "_view_module": "@jupyter-widgets/base",
       "_view_module_version": "1.2.0",
       "_view_name": "LayoutView",
       "align_content": null,
       "align_items": null,
       "align_self": null,
       "border": null,
       "bottom": null,
       "display": null,
       "flex": null,
       "flex_flow": null,
       "grid_area": null,
       "grid_auto_columns": null,
       "grid_auto_flow": null,
       "grid_auto_rows": null,
       "grid_column": null,
       "grid_gap": null,
       "grid_row": null,
       "grid_template_areas": null,
       "grid_template_columns": null,
       "grid_template_rows": null,
       "height": null,
       "justify_content": null,
       "justify_items": null,
       "left": null,
       "margin": null,
       "max_height": null,
       "max_width": null,
       "min_height": null,
       "min_width": null,
       "object_fit": null,
       "object_position": null,
       "order": null,
       "overflow": null,
       "overflow_x": null,
       "overflow_y": null,
       "padding": null,
       "right": null,
       "top": null,
       "visibility": null,
       "width": null
      }
     },
     "693a1daa564442e799d7bb56434d3947": {
      "model_module": "@jupyter-widgets/base",
      "model_module_version": "1.2.0",
      "model_name": "LayoutModel",
      "state": {
       "_model_module": "@jupyter-widgets/base",
       "_model_module_version": "1.2.0",
       "_model_name": "LayoutModel",
       "_view_count": null,
       "_view_module": "@jupyter-widgets/base",
       "_view_module_version": "1.2.0",
       "_view_name": "LayoutView",
       "align_content": null,
       "align_items": null,
       "align_self": null,
       "border": null,
       "bottom": null,
       "display": null,
       "flex": null,
       "flex_flow": null,
       "grid_area": null,
       "grid_auto_columns": null,
       "grid_auto_flow": null,
       "grid_auto_rows": null,
       "grid_column": null,
       "grid_gap": null,
       "grid_row": null,
       "grid_template_areas": null,
       "grid_template_columns": null,
       "grid_template_rows": null,
       "height": null,
       "justify_content": null,
       "justify_items": null,
       "left": null,
       "margin": null,
       "max_height": null,
       "max_width": null,
       "min_height": null,
       "min_width": null,
       "object_fit": null,
       "object_position": null,
       "order": null,
       "overflow": null,
       "overflow_x": null,
       "overflow_y": null,
       "padding": null,
       "right": null,
       "top": null,
       "visibility": null,
       "width": null
      }
     },
     "6d864f8c68ce44f98421c2330e24cacb": {
      "model_module": "@jupyter-widgets/controls",
      "model_module_version": "1.5.0",
      "model_name": "HBoxModel",
      "state": {
       "_dom_classes": [],
       "_model_module": "@jupyter-widgets/controls",
       "_model_module_version": "1.5.0",
       "_model_name": "HBoxModel",
       "_view_count": null,
       "_view_module": "@jupyter-widgets/controls",
       "_view_module_version": "1.5.0",
       "_view_name": "HBoxView",
       "box_style": "",
       "children": [
        "IPY_MODEL_9a072b2a3ac342658456a4c79c8e0901",
        "IPY_MODEL_c20b37dd5d914c248c9cfb786c86be43",
        "IPY_MODEL_963e3cf78033419c9d04de7b524f57e5"
       ],
       "layout": "IPY_MODEL_4c8137f2d3154a398202a1d75a03ad54"
      }
     },
     "82c82651e8834e0cb0e3ff3a237204e1": {
      "model_module": "@jupyter-widgets/base",
      "model_module_version": "1.2.0",
      "model_name": "LayoutModel",
      "state": {
       "_model_module": "@jupyter-widgets/base",
       "_model_module_version": "1.2.0",
       "_model_name": "LayoutModel",
       "_view_count": null,
       "_view_module": "@jupyter-widgets/base",
       "_view_module_version": "1.2.0",
       "_view_name": "LayoutView",
       "align_content": null,
       "align_items": null,
       "align_self": null,
       "border": null,
       "bottom": null,
       "display": null,
       "flex": null,
       "flex_flow": null,
       "grid_area": null,
       "grid_auto_columns": null,
       "grid_auto_flow": null,
       "grid_auto_rows": null,
       "grid_column": null,
       "grid_gap": null,
       "grid_row": null,
       "grid_template_areas": null,
       "grid_template_columns": null,
       "grid_template_rows": null,
       "height": null,
       "justify_content": null,
       "justify_items": null,
       "left": null,
       "margin": null,
       "max_height": null,
       "max_width": null,
       "min_height": null,
       "min_width": null,
       "object_fit": null,
       "object_position": null,
       "order": null,
       "overflow": null,
       "overflow_x": null,
       "overflow_y": null,
       "padding": null,
       "right": null,
       "top": null,
       "visibility": null,
       "width": null
      }
     },
     "83011e38fef44b8089816f2de6fd62ff": {
      "model_module": "@jupyter-widgets/controls",
      "model_module_version": "1.5.0",
      "model_name": "DescriptionStyleModel",
      "state": {
       "_model_module": "@jupyter-widgets/controls",
       "_model_module_version": "1.5.0",
       "_model_name": "DescriptionStyleModel",
       "_view_count": null,
       "_view_module": "@jupyter-widgets/base",
       "_view_module_version": "1.2.0",
       "_view_name": "StyleView",
       "description_width": ""
      }
     },
     "83463bbd06044fa28b6df8de57bd5986": {
      "model_module": "@jupyter-widgets/controls",
      "model_module_version": "1.5.0",
      "model_name": "DescriptionStyleModel",
      "state": {
       "_model_module": "@jupyter-widgets/controls",
       "_model_module_version": "1.5.0",
       "_model_name": "DescriptionStyleModel",
       "_view_count": null,
       "_view_module": "@jupyter-widgets/base",
       "_view_module_version": "1.2.0",
       "_view_name": "StyleView",
       "description_width": ""
      }
     },
     "85d39dfd47da4d0b9ff2b699c802a8f4": {
      "model_module": "@jupyter-widgets/controls",
      "model_module_version": "1.5.0",
      "model_name": "DescriptionStyleModel",
      "state": {
       "_model_module": "@jupyter-widgets/controls",
       "_model_module_version": "1.5.0",
       "_model_name": "DescriptionStyleModel",
       "_view_count": null,
       "_view_module": "@jupyter-widgets/base",
       "_view_module_version": "1.2.0",
       "_view_name": "StyleView",
       "description_width": ""
      }
     },
     "8cbb8d1af7a7488d85d122138253aadf": {
      "model_module": "@jupyter-widgets/controls",
      "model_module_version": "1.5.0",
      "model_name": "DescriptionStyleModel",
      "state": {
       "_model_module": "@jupyter-widgets/controls",
       "_model_module_version": "1.5.0",
       "_model_name": "DescriptionStyleModel",
       "_view_count": null,
       "_view_module": "@jupyter-widgets/base",
       "_view_module_version": "1.2.0",
       "_view_name": "StyleView",
       "description_width": ""
      }
     },
     "8fdd0b860914419898dd59934195245d": {
      "model_module": "@jupyter-widgets/base",
      "model_module_version": "1.2.0",
      "model_name": "LayoutModel",
      "state": {
       "_model_module": "@jupyter-widgets/base",
       "_model_module_version": "1.2.0",
       "_model_name": "LayoutModel",
       "_view_count": null,
       "_view_module": "@jupyter-widgets/base",
       "_view_module_version": "1.2.0",
       "_view_name": "LayoutView",
       "align_content": null,
       "align_items": null,
       "align_self": null,
       "border": null,
       "bottom": null,
       "display": null,
       "flex": null,
       "flex_flow": null,
       "grid_area": null,
       "grid_auto_columns": null,
       "grid_auto_flow": null,
       "grid_auto_rows": null,
       "grid_column": null,
       "grid_gap": null,
       "grid_row": null,
       "grid_template_areas": null,
       "grid_template_columns": null,
       "grid_template_rows": null,
       "height": null,
       "justify_content": null,
       "justify_items": null,
       "left": null,
       "margin": null,
       "max_height": null,
       "max_width": null,
       "min_height": null,
       "min_width": null,
       "object_fit": null,
       "object_position": null,
       "order": null,
       "overflow": null,
       "overflow_x": null,
       "overflow_y": null,
       "padding": null,
       "right": null,
       "top": null,
       "visibility": null,
       "width": null
      }
     },
     "92f92b59004a4288bc963e04773fbd28": {
      "model_module": "@jupyter-widgets/base",
      "model_module_version": "1.2.0",
      "model_name": "LayoutModel",
      "state": {
       "_model_module": "@jupyter-widgets/base",
       "_model_module_version": "1.2.0",
       "_model_name": "LayoutModel",
       "_view_count": null,
       "_view_module": "@jupyter-widgets/base",
       "_view_module_version": "1.2.0",
       "_view_name": "LayoutView",
       "align_content": null,
       "align_items": null,
       "align_self": null,
       "border": null,
       "bottom": null,
       "display": null,
       "flex": null,
       "flex_flow": null,
       "grid_area": null,
       "grid_auto_columns": null,
       "grid_auto_flow": null,
       "grid_auto_rows": null,
       "grid_column": null,
       "grid_gap": null,
       "grid_row": null,
       "grid_template_areas": null,
       "grid_template_columns": null,
       "grid_template_rows": null,
       "height": null,
       "justify_content": null,
       "justify_items": null,
       "left": null,
       "margin": null,
       "max_height": null,
       "max_width": null,
       "min_height": null,
       "min_width": null,
       "object_fit": null,
       "object_position": null,
       "order": null,
       "overflow": null,
       "overflow_x": null,
       "overflow_y": null,
       "padding": null,
       "right": null,
       "top": null,
       "visibility": null,
       "width": null
      }
     },
     "963e3cf78033419c9d04de7b524f57e5": {
      "model_module": "@jupyter-widgets/controls",
      "model_module_version": "1.5.0",
      "model_name": "HTMLModel",
      "state": {
       "_dom_classes": [],
       "_model_module": "@jupyter-widgets/controls",
       "_model_module_version": "1.5.0",
       "_model_name": "HTMLModel",
       "_view_count": null,
       "_view_module": "@jupyter-widgets/controls",
       "_view_module_version": "1.5.0",
       "_view_name": "HTMLView",
       "description": "",
       "description_tooltip": null,
       "layout": "IPY_MODEL_feb02387f51a44e293e0f68ff0f3809f",
       "placeholder": "​",
       "style": "IPY_MODEL_611be7c44a934a5abce2549c6188332c",
       "value": " 11/11 [00:00&lt;00:00,  2.94it/s]"
      }
     },
     "9a072b2a3ac342658456a4c79c8e0901": {
      "model_module": "@jupyter-widgets/controls",
      "model_module_version": "1.5.0",
      "model_name": "HTMLModel",
      "state": {
       "_dom_classes": [],
       "_model_module": "@jupyter-widgets/controls",
       "_model_module_version": "1.5.0",
       "_model_name": "HTMLModel",
       "_view_count": null,
       "_view_module": "@jupyter-widgets/controls",
       "_view_module_version": "1.5.0",
       "_view_name": "HTMLView",
       "description": "",
       "description_tooltip": null,
       "layout": "IPY_MODEL_49f7e19c8524421e9a9a4a50452c6b35",
       "placeholder": "​",
       "style": "IPY_MODEL_0b32795b6d1e40b1b144b18ff7a14394",
       "value": "Uploading artifacts: 100%"
      }
     },
     "9a5ecd2b4b5642d1bdeb3107f68143e1": {
      "model_module": "@jupyter-widgets/controls",
      "model_module_version": "1.5.0",
      "model_name": "FloatProgressModel",
      "state": {
       "_dom_classes": [],
       "_model_module": "@jupyter-widgets/controls",
       "_model_module_version": "1.5.0",
       "_model_name": "FloatProgressModel",
       "_view_count": null,
       "_view_module": "@jupyter-widgets/controls",
       "_view_module_version": "1.5.0",
       "_view_name": "ProgressView",
       "bar_style": "success",
       "description": "",
       "description_tooltip": null,
       "layout": "IPY_MODEL_a36ac0283b20427588ae2d6813a35f75",
       "max": 1.0,
       "min": 0.0,
       "orientation": "horizontal",
       "style": "IPY_MODEL_daae4534e0504adbbfc2deda6f029754",
       "value": 1.0
      }
     },
     "9d9bacd2e1014bb195f9d06fc465c1e5": {
      "model_module": "@jupyter-widgets/controls",
      "model_module_version": "1.5.0",
      "model_name": "ProgressStyleModel",
      "state": {
       "_model_module": "@jupyter-widgets/controls",
       "_model_module_version": "1.5.0",
       "_model_name": "ProgressStyleModel",
       "_view_count": null,
       "_view_module": "@jupyter-widgets/base",
       "_view_module_version": "1.2.0",
       "_view_name": "StyleView",
       "bar_color": null,
       "description_width": ""
      }
     },
     "a1e0da46522d43bcb28366aaacaeca65": {
      "model_module": "@jupyter-widgets/controls",
      "model_module_version": "1.5.0",
      "model_name": "FloatProgressModel",
      "state": {
       "_dom_classes": [],
       "_model_module": "@jupyter-widgets/controls",
       "_model_module_version": "1.5.0",
       "_model_name": "FloatProgressModel",
       "_view_count": null,
       "_view_module": "@jupyter-widgets/controls",
       "_view_module_version": "1.5.0",
       "_view_name": "ProgressView",
       "bar_style": "success",
       "description": "",
       "description_tooltip": null,
       "layout": "IPY_MODEL_92f92b59004a4288bc963e04773fbd28",
       "max": 1.0,
       "min": 0.0,
       "orientation": "horizontal",
       "style": "IPY_MODEL_c685ab6ef0aa48d499dc0fa059762453",
       "value": 1.0
      }
     },
     "a309e27bc14544cca309eb2d31ac5e06": {
      "model_module": "@jupyter-widgets/controls",
      "model_module_version": "1.5.0",
      "model_name": "HBoxModel",
      "state": {
       "_dom_classes": [],
       "_model_module": "@jupyter-widgets/controls",
       "_model_module_version": "1.5.0",
       "_model_name": "HBoxModel",
       "_view_count": null,
       "_view_module": "@jupyter-widgets/controls",
       "_view_module_version": "1.5.0",
       "_view_name": "HBoxView",
       "box_style": "",
       "children": [
        "IPY_MODEL_3b7c720b059147f5810dbd5c44cbdb66",
        "IPY_MODEL_a1e0da46522d43bcb28366aaacaeca65",
        "IPY_MODEL_e304ef7c7d4e4e1585af19b43f6ae622"
       ],
       "layout": "IPY_MODEL_82c82651e8834e0cb0e3ff3a237204e1"
      }
     },
     "a35e124596904b639fc9ae6a0c7d92db": {
      "model_module": "@jupyter-widgets/controls",
      "model_module_version": "1.5.0",
      "model_name": "HBoxModel",
      "state": {
       "_dom_classes": [],
       "_model_module": "@jupyter-widgets/controls",
       "_model_module_version": "1.5.0",
       "_model_name": "HBoxModel",
       "_view_count": null,
       "_view_module": "@jupyter-widgets/controls",
       "_view_module_version": "1.5.0",
       "_view_name": "HBoxView",
       "box_style": "",
       "children": [
        "IPY_MODEL_24dca786176c47d8aeebcfc6fd8c945c",
        "IPY_MODEL_b2f9b1c0047d4786ae6b19b3803d9908",
        "IPY_MODEL_c530d8b62318434299229f7696fcec9f"
       ],
       "layout": "IPY_MODEL_647438518e044ff2be31f55afc68c4de"
      }
     },
     "a36ac0283b20427588ae2d6813a35f75": {
      "model_module": "@jupyter-widgets/base",
      "model_module_version": "1.2.0",
      "model_name": "LayoutModel",
      "state": {
       "_model_module": "@jupyter-widgets/base",
       "_model_module_version": "1.2.0",
       "_model_name": "LayoutModel",
       "_view_count": null,
       "_view_module": "@jupyter-widgets/base",
       "_view_module_version": "1.2.0",
       "_view_name": "LayoutView",
       "align_content": null,
       "align_items": null,
       "align_self": null,
       "border": null,
       "bottom": null,
       "display": null,
       "flex": null,
       "flex_flow": null,
       "grid_area": null,
       "grid_auto_columns": null,
       "grid_auto_flow": null,
       "grid_auto_rows": null,
       "grid_column": null,
       "grid_gap": null,
       "grid_row": null,
       "grid_template_areas": null,
       "grid_template_columns": null,
       "grid_template_rows": null,
       "height": null,
       "justify_content": null,
       "justify_items": null,
       "left": null,
       "margin": null,
       "max_height": null,
       "max_width": null,
       "min_height": null,
       "min_width": null,
       "object_fit": null,
       "object_position": null,
       "order": null,
       "overflow": null,
       "overflow_x": null,
       "overflow_y": null,
       "padding": null,
       "right": null,
       "top": null,
       "visibility": null,
       "width": null
      }
     },
     "a7a9c007fabf42f98f9d35277e68654f": {
      "model_module": "@jupyter-widgets/controls",
      "model_module_version": "1.5.0",
      "model_name": "HTMLModel",
      "state": {
       "_dom_classes": [],
       "_model_module": "@jupyter-widgets/controls",
       "_model_module_version": "1.5.0",
       "_model_name": "HTMLModel",
       "_view_count": null,
       "_view_module": "@jupyter-widgets/controls",
       "_view_module_version": "1.5.0",
       "_view_name": "HTMLView",
       "description": "",
       "description_tooltip": null,
       "layout": "IPY_MODEL_c94c05a5f365432e97d8a58c9997365c",
       "placeholder": "​",
       "style": "IPY_MODEL_83463bbd06044fa28b6df8de57bd5986",
       "value": " 11/11 [00:00&lt;00:00, 31.41it/s]"
      }
     },
     "a8c180c6a4e64ed091f974ba31098d11": {
      "model_module": "@jupyter-widgets/base",
      "model_module_version": "1.2.0",
      "model_name": "LayoutModel",
      "state": {
       "_model_module": "@jupyter-widgets/base",
       "_model_module_version": "1.2.0",
       "_model_name": "LayoutModel",
       "_view_count": null,
       "_view_module": "@jupyter-widgets/base",
       "_view_module_version": "1.2.0",
       "_view_name": "LayoutView",
       "align_content": null,
       "align_items": null,
       "align_self": null,
       "border": null,
       "bottom": null,
       "display": null,
       "flex": null,
       "flex_flow": null,
       "grid_area": null,
       "grid_auto_columns": null,
       "grid_auto_flow": null,
       "grid_auto_rows": null,
       "grid_column": null,
       "grid_gap": null,
       "grid_row": null,
       "grid_template_areas": null,
       "grid_template_columns": null,
       "grid_template_rows": null,
       "height": null,
       "justify_content": null,
       "justify_items": null,
       "left": null,
       "margin": null,
       "max_height": null,
       "max_width": null,
       "min_height": null,
       "min_width": null,
       "object_fit": null,
       "object_position": null,
       "order": null,
       "overflow": null,
       "overflow_x": null,
       "overflow_y": null,
       "padding": null,
       "right": null,
       "top": null,
       "visibility": null,
       "width": null
      }
     },
     "acfe958c1f3343839af10ea789aedc66": {
      "model_module": "@jupyter-widgets/controls",
      "model_module_version": "1.5.0",
      "model_name": "HTMLModel",
      "state": {
       "_dom_classes": [],
       "_model_module": "@jupyter-widgets/controls",
       "_model_module_version": "1.5.0",
       "_model_name": "HTMLModel",
       "_view_count": null,
       "_view_module": "@jupyter-widgets/controls",
       "_view_module_version": "1.5.0",
       "_view_name": "HTMLView",
       "description": "",
       "description_tooltip": null,
       "layout": "IPY_MODEL_d3f55692753f45f0b1a7d64d07892cb3",
       "placeholder": "​",
       "style": "IPY_MODEL_d3b4ac9ee06444d3a243c620f343022d",
       "value": "Downloading artifacts: 100%"
      }
     },
     "b292f7ec314742fd8b3a9305efca3630": {
      "model_module": "@jupyter-widgets/controls",
      "model_module_version": "1.5.0",
      "model_name": "ProgressStyleModel",
      "state": {
       "_model_module": "@jupyter-widgets/controls",
       "_model_module_version": "1.5.0",
       "_model_name": "ProgressStyleModel",
       "_view_count": null,
       "_view_module": "@jupyter-widgets/base",
       "_view_module_version": "1.2.0",
       "_view_name": "StyleView",
       "bar_color": null,
       "description_width": ""
      }
     },
     "b2f9b1c0047d4786ae6b19b3803d9908": {
      "model_module": "@jupyter-widgets/controls",
      "model_module_version": "1.5.0",
      "model_name": "FloatProgressModel",
      "state": {
       "_dom_classes": [],
       "_model_module": "@jupyter-widgets/controls",
       "_model_module_version": "1.5.0",
       "_model_name": "FloatProgressModel",
       "_view_count": null,
       "_view_module": "@jupyter-widgets/controls",
       "_view_module_version": "1.5.0",
       "_view_name": "ProgressView",
       "bar_style": "success",
       "description": "",
       "description_tooltip": null,
       "layout": "IPY_MODEL_e3833be8583a4f72a3b8cb4664afa820",
       "max": 1.0,
       "min": 0.0,
       "orientation": "horizontal",
       "style": "IPY_MODEL_5971351ca2ac42ce9399cfa3dd34ad8b",
       "value": 1.0
      }
     },
     "b733e7a7cc4741c9941ed1875c9480f9": {
      "model_module": "@jupyter-widgets/base",
      "model_module_version": "1.2.0",
      "model_name": "LayoutModel",
      "state": {
       "_model_module": "@jupyter-widgets/base",
       "_model_module_version": "1.2.0",
       "_model_name": "LayoutModel",
       "_view_count": null,
       "_view_module": "@jupyter-widgets/base",
       "_view_module_version": "1.2.0",
       "_view_name": "LayoutView",
       "align_content": null,
       "align_items": null,
       "align_self": null,
       "border": null,
       "bottom": null,
       "display": null,
       "flex": null,
       "flex_flow": null,
       "grid_area": null,
       "grid_auto_columns": null,
       "grid_auto_flow": null,
       "grid_auto_rows": null,
       "grid_column": null,
       "grid_gap": null,
       "grid_row": null,
       "grid_template_areas": null,
       "grid_template_columns": null,
       "grid_template_rows": null,
       "height": null,
       "justify_content": null,
       "justify_items": null,
       "left": null,
       "margin": null,
       "max_height": null,
       "max_width": null,
       "min_height": null,
       "min_width": null,
       "object_fit": null,
       "object_position": null,
       "order": null,
       "overflow": null,
       "overflow_x": null,
       "overflow_y": null,
       "padding": null,
       "right": null,
       "top": null,
       "visibility": null,
       "width": null
      }
     },
     "c20b37dd5d914c248c9cfb786c86be43": {
      "model_module": "@jupyter-widgets/controls",
      "model_module_version": "1.5.0",
      "model_name": "FloatProgressModel",
      "state": {
       "_dom_classes": [],
       "_model_module": "@jupyter-widgets/controls",
       "_model_module_version": "1.5.0",
       "_model_name": "FloatProgressModel",
       "_view_count": null,
       "_view_module": "@jupyter-widgets/controls",
       "_view_module_version": "1.5.0",
       "_view_name": "ProgressView",
       "bar_style": "success",
       "description": "",
       "description_tooltip": null,
       "layout": "IPY_MODEL_ca180aea13a740f2b306768fe527eeeb",
       "max": 11.0,
       "min": 0.0,
       "orientation": "horizontal",
       "style": "IPY_MODEL_9d9bacd2e1014bb195f9d06fc465c1e5",
       "value": 11.0
      }
     },
     "c21f9974604f4acaa3fa2d25bf047ee4": {
      "model_module": "@jupyter-widgets/controls",
      "model_module_version": "1.5.0",
      "model_name": "HTMLModel",
      "state": {
       "_dom_classes": [],
       "_model_module": "@jupyter-widgets/controls",
       "_model_module_version": "1.5.0",
       "_model_name": "HTMLModel",
       "_view_count": null,
       "_view_module": "@jupyter-widgets/controls",
       "_view_module_version": "1.5.0",
       "_view_name": "HTMLView",
       "description": "",
       "description_tooltip": null,
       "layout": "IPY_MODEL_516ad0fa58da40fb80a5d171dca066fe",
       "placeholder": "​",
       "style": "IPY_MODEL_010b74d302a9489382c5d3a3a80f90ce",
       "value": " 1/1 [00:00&lt;00:00,  3.58it/s]"
      }
     },
     "c530d8b62318434299229f7696fcec9f": {
      "model_module": "@jupyter-widgets/controls",
      "model_module_version": "1.5.0",
      "model_name": "HTMLModel",
      "state": {
       "_dom_classes": [],
       "_model_module": "@jupyter-widgets/controls",
       "_model_module_version": "1.5.0",
       "_model_name": "HTMLModel",
       "_view_count": null,
       "_view_module": "@jupyter-widgets/controls",
       "_view_module_version": "1.5.0",
       "_view_name": "HTMLView",
       "description": "",
       "description_tooltip": null,
       "layout": "IPY_MODEL_dd318fa6ca22424d901c4398f22c1f8a",
       "placeholder": "​",
       "style": "IPY_MODEL_2bb2e6ef2b764e1d88c2e44cf95ff0c4",
       "value": " 1/1 [00:00&lt;00:00,  4.65it/s]"
      }
     },
     "c685ab6ef0aa48d499dc0fa059762453": {
      "model_module": "@jupyter-widgets/controls",
      "model_module_version": "1.5.0",
      "model_name": "ProgressStyleModel",
      "state": {
       "_model_module": "@jupyter-widgets/controls",
       "_model_module_version": "1.5.0",
       "_model_name": "ProgressStyleModel",
       "_view_count": null,
       "_view_module": "@jupyter-widgets/base",
       "_view_module_version": "1.2.0",
       "_view_name": "StyleView",
       "bar_color": null,
       "description_width": ""
      }
     },
     "c94c05a5f365432e97d8a58c9997365c": {
      "model_module": "@jupyter-widgets/base",
      "model_module_version": "1.2.0",
      "model_name": "LayoutModel",
      "state": {
       "_model_module": "@jupyter-widgets/base",
       "_model_module_version": "1.2.0",
       "_model_name": "LayoutModel",
       "_view_count": null,
       "_view_module": "@jupyter-widgets/base",
       "_view_module_version": "1.2.0",
       "_view_name": "LayoutView",
       "align_content": null,
       "align_items": null,
       "align_self": null,
       "border": null,
       "bottom": null,
       "display": null,
       "flex": null,
       "flex_flow": null,
       "grid_area": null,
       "grid_auto_columns": null,
       "grid_auto_flow": null,
       "grid_auto_rows": null,
       "grid_column": null,
       "grid_gap": null,
       "grid_row": null,
       "grid_template_areas": null,
       "grid_template_columns": null,
       "grid_template_rows": null,
       "height": null,
       "justify_content": null,
       "justify_items": null,
       "left": null,
       "margin": null,
       "max_height": null,
       "max_width": null,
       "min_height": null,
       "min_width": null,
       "object_fit": null,
       "object_position": null,
       "order": null,
       "overflow": null,
       "overflow_x": null,
       "overflow_y": null,
       "padding": null,
       "right": null,
       "top": null,
       "visibility": null,
       "width": null
      }
     },
     "ca180aea13a740f2b306768fe527eeeb": {
      "model_module": "@jupyter-widgets/base",
      "model_module_version": "1.2.0",
      "model_name": "LayoutModel",
      "state": {
       "_model_module": "@jupyter-widgets/base",
       "_model_module_version": "1.2.0",
       "_model_name": "LayoutModel",
       "_view_count": null,
       "_view_module": "@jupyter-widgets/base",
       "_view_module_version": "1.2.0",
       "_view_name": "LayoutView",
       "align_content": null,
       "align_items": null,
       "align_self": null,
       "border": null,
       "bottom": null,
       "display": null,
       "flex": null,
       "flex_flow": null,
       "grid_area": null,
       "grid_auto_columns": null,
       "grid_auto_flow": null,
       "grid_auto_rows": null,
       "grid_column": null,
       "grid_gap": null,
       "grid_row": null,
       "grid_template_areas": null,
       "grid_template_columns": null,
       "grid_template_rows": null,
       "height": null,
       "justify_content": null,
       "justify_items": null,
       "left": null,
       "margin": null,
       "max_height": null,
       "max_width": null,
       "min_height": null,
       "min_width": null,
       "object_fit": null,
       "object_position": null,
       "order": null,
       "overflow": null,
       "overflow_x": null,
       "overflow_y": null,
       "padding": null,
       "right": null,
       "top": null,
       "visibility": null,
       "width": null
      }
     },
     "ce088f37af0e45ae96d0af0e9ba68c38": {
      "model_module": "@jupyter-widgets/controls",
      "model_module_version": "1.5.0",
      "model_name": "FloatProgressModel",
      "state": {
       "_dom_classes": [],
       "_model_module": "@jupyter-widgets/controls",
       "_model_module_version": "1.5.0",
       "_model_name": "FloatProgressModel",
       "_view_count": null,
       "_view_module": "@jupyter-widgets/controls",
       "_view_module_version": "1.5.0",
       "_view_name": "ProgressView",
       "bar_style": "success",
       "description": "",
       "description_tooltip": null,
       "layout": "IPY_MODEL_a8c180c6a4e64ed091f974ba31098d11",
       "max": 11.0,
       "min": 0.0,
       "orientation": "horizontal",
       "style": "IPY_MODEL_b292f7ec314742fd8b3a9305efca3630",
       "value": 11.0
      }
     },
     "d3b4ac9ee06444d3a243c620f343022d": {
      "model_module": "@jupyter-widgets/controls",
      "model_module_version": "1.5.0",
      "model_name": "DescriptionStyleModel",
      "state": {
       "_model_module": "@jupyter-widgets/controls",
       "_model_module_version": "1.5.0",
       "_model_name": "DescriptionStyleModel",
       "_view_count": null,
       "_view_module": "@jupyter-widgets/base",
       "_view_module_version": "1.2.0",
       "_view_name": "StyleView",
       "description_width": ""
      }
     },
     "d3f55692753f45f0b1a7d64d07892cb3": {
      "model_module": "@jupyter-widgets/base",
      "model_module_version": "1.2.0",
      "model_name": "LayoutModel",
      "state": {
       "_model_module": "@jupyter-widgets/base",
       "_model_module_version": "1.2.0",
       "_model_name": "LayoutModel",
       "_view_count": null,
       "_view_module": "@jupyter-widgets/base",
       "_view_module_version": "1.2.0",
       "_view_name": "LayoutView",
       "align_content": null,
       "align_items": null,
       "align_self": null,
       "border": null,
       "bottom": null,
       "display": null,
       "flex": null,
       "flex_flow": null,
       "grid_area": null,
       "grid_auto_columns": null,
       "grid_auto_flow": null,
       "grid_auto_rows": null,
       "grid_column": null,
       "grid_gap": null,
       "grid_row": null,
       "grid_template_areas": null,
       "grid_template_columns": null,
       "grid_template_rows": null,
       "height": null,
       "justify_content": null,
       "justify_items": null,
       "left": null,
       "margin": null,
       "max_height": null,
       "max_width": null,
       "min_height": null,
       "min_width": null,
       "object_fit": null,
       "object_position": null,
       "order": null,
       "overflow": null,
       "overflow_x": null,
       "overflow_y": null,
       "padding": null,
       "right": null,
       "top": null,
       "visibility": null,
       "width": null
      }
     },
     "daae4534e0504adbbfc2deda6f029754": {
      "model_module": "@jupyter-widgets/controls",
      "model_module_version": "1.5.0",
      "model_name": "ProgressStyleModel",
      "state": {
       "_model_module": "@jupyter-widgets/controls",
       "_model_module_version": "1.5.0",
       "_model_name": "ProgressStyleModel",
       "_view_count": null,
       "_view_module": "@jupyter-widgets/base",
       "_view_module_version": "1.2.0",
       "_view_name": "StyleView",
       "bar_color": null,
       "description_width": ""
      }
     },
     "dd318fa6ca22424d901c4398f22c1f8a": {
      "model_module": "@jupyter-widgets/base",
      "model_module_version": "1.2.0",
      "model_name": "LayoutModel",
      "state": {
       "_model_module": "@jupyter-widgets/base",
       "_model_module_version": "1.2.0",
       "_model_name": "LayoutModel",
       "_view_count": null,
       "_view_module": "@jupyter-widgets/base",
       "_view_module_version": "1.2.0",
       "_view_name": "LayoutView",
       "align_content": null,
       "align_items": null,
       "align_self": null,
       "border": null,
       "bottom": null,
       "display": null,
       "flex": null,
       "flex_flow": null,
       "grid_area": null,
       "grid_auto_columns": null,
       "grid_auto_flow": null,
       "grid_auto_rows": null,
       "grid_column": null,
       "grid_gap": null,
       "grid_row": null,
       "grid_template_areas": null,
       "grid_template_columns": null,
       "grid_template_rows": null,
       "height": null,
       "justify_content": null,
       "justify_items": null,
       "left": null,
       "margin": null,
       "max_height": null,
       "max_width": null,
       "min_height": null,
       "min_width": null,
       "object_fit": null,
       "object_position": null,
       "order": null,
       "overflow": null,
       "overflow_x": null,
       "overflow_y": null,
       "padding": null,
       "right": null,
       "top": null,
       "visibility": null,
       "width": null
      }
     },
     "e304ef7c7d4e4e1585af19b43f6ae622": {
      "model_module": "@jupyter-widgets/controls",
      "model_module_version": "1.5.0",
      "model_name": "HTMLModel",
      "state": {
       "_dom_classes": [],
       "_model_module": "@jupyter-widgets/controls",
       "_model_module_version": "1.5.0",
       "_model_name": "HTMLModel",
       "_view_count": null,
       "_view_module": "@jupyter-widgets/controls",
       "_view_module_version": "1.5.0",
       "_view_name": "HTMLView",
       "description": "",
       "description_tooltip": null,
       "layout": "IPY_MODEL_8fdd0b860914419898dd59934195245d",
       "placeholder": "​",
       "style": "IPY_MODEL_8cbb8d1af7a7488d85d122138253aadf",
       "value": " 1/1 [00:00&lt;00:00, 20.36it/s]"
      }
     },
     "e3833be8583a4f72a3b8cb4664afa820": {
      "model_module": "@jupyter-widgets/base",
      "model_module_version": "1.2.0",
      "model_name": "LayoutModel",
      "state": {
       "_model_module": "@jupyter-widgets/base",
       "_model_module_version": "1.2.0",
       "_model_name": "LayoutModel",
       "_view_count": null,
       "_view_module": "@jupyter-widgets/base",
       "_view_module_version": "1.2.0",
       "_view_name": "LayoutView",
       "align_content": null,
       "align_items": null,
       "align_self": null,
       "border": null,
       "bottom": null,
       "display": null,
       "flex": null,
       "flex_flow": null,
       "grid_area": null,
       "grid_auto_columns": null,
       "grid_auto_flow": null,
       "grid_auto_rows": null,
       "grid_column": null,
       "grid_gap": null,
       "grid_row": null,
       "grid_template_areas": null,
       "grid_template_columns": null,
       "grid_template_rows": null,
       "height": null,
       "justify_content": null,
       "justify_items": null,
       "left": null,
       "margin": null,
       "max_height": null,
       "max_width": null,
       "min_height": null,
       "min_width": null,
       "object_fit": null,
       "object_position": null,
       "order": null,
       "overflow": null,
       "overflow_x": null,
       "overflow_y": null,
       "padding": null,
       "right": null,
       "top": null,
       "visibility": null,
       "width": null
      }
     },
     "e54b839486fa4f37a7dba8e0e5d29bbf": {
      "model_module": "@jupyter-widgets/controls",
      "model_module_version": "1.5.0",
      "model_name": "HTMLModel",
      "state": {
       "_dom_classes": [],
       "_model_module": "@jupyter-widgets/controls",
       "_model_module_version": "1.5.0",
       "_model_name": "HTMLModel",
       "_view_count": null,
       "_view_module": "@jupyter-widgets/controls",
       "_view_module_version": "1.5.0",
       "_view_name": "HTMLView",
       "description": "",
       "description_tooltip": null,
       "layout": "IPY_MODEL_693a1daa564442e799d7bb56434d3947",
       "placeholder": "​",
       "style": "IPY_MODEL_85d39dfd47da4d0b9ff2b699c802a8f4",
       "value": "Downloading artifacts: 100%"
      }
     },
     "fac19722b6ad4b298814392401a90076": {
      "model_module": "@jupyter-widgets/controls",
      "model_module_version": "1.5.0",
      "model_name": "HBoxModel",
      "state": {
       "_dom_classes": [],
       "_model_module": "@jupyter-widgets/controls",
       "_model_module_version": "1.5.0",
       "_model_name": "HBoxModel",
       "_view_count": null,
       "_view_module": "@jupyter-widgets/controls",
       "_view_module_version": "1.5.0",
       "_view_name": "HBoxView",
       "box_style": "",
       "children": [
        "IPY_MODEL_acfe958c1f3343839af10ea789aedc66",
        "IPY_MODEL_9a5ecd2b4b5642d1bdeb3107f68143e1",
        "IPY_MODEL_c21f9974604f4acaa3fa2d25bf047ee4"
       ],
       "layout": "IPY_MODEL_37fbafc811e44cbab87cb592d8d5348e"
      }
     },
     "feb02387f51a44e293e0f68ff0f3809f": {
      "model_module": "@jupyter-widgets/base",
      "model_module_version": "1.2.0",
      "model_name": "LayoutModel",
      "state": {
       "_model_module": "@jupyter-widgets/base",
       "_model_module_version": "1.2.0",
       "_model_name": "LayoutModel",
       "_view_count": null,
       "_view_module": "@jupyter-widgets/base",
       "_view_module_version": "1.2.0",
       "_view_name": "LayoutView",
       "align_content": null,
       "align_items": null,
       "align_self": null,
       "border": null,
       "bottom": null,
       "display": null,
       "flex": null,
       "flex_flow": null,
       "grid_area": null,
       "grid_auto_columns": null,
       "grid_auto_flow": null,
       "grid_auto_rows": null,
       "grid_column": null,
       "grid_gap": null,
       "grid_row": null,
       "grid_template_areas": null,
       "grid_template_columns": null,
       "grid_template_rows": null,
       "height": null,
       "justify_content": null,
       "justify_items": null,
       "left": null,
       "margin": null,
       "max_height": null,
       "max_width": null,
       "min_height": null,
       "min_width": null,
       "object_fit": null,
       "object_position": null,
       "order": null,
       "overflow": null,
       "overflow_x": null,
       "overflow_y": null,
       "padding": null,
       "right": null,
       "top": null,
       "visibility": null,
       "width": null
      }
     }
    },
    "version_major": 2,
    "version_minor": 0
   }
  }
 },
 "nbformat": 4,
 "nbformat_minor": 0
}